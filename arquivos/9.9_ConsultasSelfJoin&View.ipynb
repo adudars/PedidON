{
  "nbformat": 4,
  "nbformat_minor": 0,
  "metadata": {
    "colab": {
      "name": "#9.9_ConsultasSelfJoin&View.ipynb",
      "provenance": [],
      "collapsed_sections": [],
      "authorship_tag": "ABX9TyNiPlhMtXlIRJSNkjykfefg",
      "include_colab_link": true
    },
    "kernelspec": {
      "name": "python3",
      "display_name": "Python 3"
    }
  },
  "cells": [
    {
      "cell_type": "markdown",
      "metadata": {
        "id": "view-in-github",
        "colab_type": "text"
      },
      "source": [
        "<a href=\"https://colab.research.google.com/github/adudars/PedidON/blob/master/arquivos/9.9_ConsultasSelfJoin%26View.ipynb\" target=\"_parent\"><img src=\"https://colab.research.google.com/assets/colab-badge.svg\" alt=\"Open In Colab\"/></a>"
      ]
    },
    {
      "cell_type": "markdown",
      "metadata": {
        "id": "tbJ_4aYwENvD",
        "colab_type": "text"
      },
      "source": [
        "# 9.9 CONSULTAS COM SELF JOIN E VIEW"
      ]
    },
    {
      "cell_type": "markdown",
      "metadata": {
        "id": "N_SPUL1wC9Cy",
        "colab_type": "text"
      },
      "source": [
        "## ESTABELECENDO CONEXÃO\n",
        "\n",
        "\n"
      ]
    },
    {
      "cell_type": "markdown",
      "metadata": {
        "id": "2Zu6LMx9FZ2o",
        "colab_type": "text"
      },
      "source": [
        "### Instalando bibliotecas de acesso"
      ]
    },
    {
      "cell_type": "code",
      "metadata": {
        "id": "7y0VZn5eGT_B",
        "colab_type": "code",
        "colab": {}
      },
      "source": [
        "#!pip install --user psycopg2-binary\n",
        "#!pip install --user pandas"
      ],
      "execution_count": 1,
      "outputs": []
    },
    {
      "cell_type": "markdown",
      "metadata": {
        "id": "BiXhsGizEb4p",
        "colab_type": "text"
      },
      "source": [
        "### Importando bibliotecas"
      ]
    },
    {
      "cell_type": "code",
      "metadata": {
        "id": "pEEUdYDuqCHv",
        "colab_type": "code",
        "colab": {}
      },
      "source": [
        "import pandas as pd\n",
        "import psycopg2"
      ],
      "execution_count": 3,
      "outputs": []
    },
    {
      "cell_type": "markdown",
      "metadata": {
        "id": "pbbw322lDEC6",
        "colab_type": "text"
      },
      "source": [
        "### Conectando com o banco através do psycopg2"
      ]
    },
    {
      "cell_type": "code",
      "metadata": {
        "id": "hWeCAx6Wvgqv",
        "colab_type": "code",
        "colab": {}
      },
      "source": [
        "conn = psycopg2.connect(host=\"lallah.db.elephantsql.com\", database=\"nxthbnlu\", user=\"nxthbnlu\", password=\"buyAYKsY17pqexg1grIcJaWm0gHBsO2F\")"
      ],
      "execution_count": 97,
      "outputs": []
    },
    {
      "cell_type": "markdown",
      "metadata": {
        "id": "V9asSTvKYMLk",
        "colab_type": "text"
      },
      "source": [
        "## CONSULTA COM SELF JOIN"
      ]
    },
    {
      "cell_type": "markdown",
      "metadata": {
        "id": "Cx-deBaSYcZd",
        "colab_type": "text"
      },
      "source": [
        "Uma vez que o SELF JOIN é utilizado para criar relacionamento entre informações de uma mesma tabela, visando portanto o relacionamento entre os registros pertencentes a mesma, e isso não ocorre em nosso banco de dados PedidON, substituímos, então, uma consulta com self join por uma criação de view, conforme orientado."
      ]
    },
    {
      "cell_type": "markdown",
      "metadata": {
        "id": "P0uP7FEoLDOc",
        "colab_type": "text"
      },
      "source": [
        "## VIEWS"
      ]
    },
    {
      "cell_type": "markdown",
      "metadata": {
        "id": "6DkJtqcaDJaO",
        "colab_type": "text"
      },
      "source": [
        "### Funcionário destaque"
      ]
    },
    {
      "cell_type": "code",
      "metadata": {
        "id": "dozy8QygZ3rA",
        "colab_type": "code",
        "colab": {}
      },
      "source": [
        "cursor_view_destaque = conn.cursor()\n",
        "cursor_view_destaque.execute(\"\"\"create or replace view funcionario_destaque as\n",
        "                        select nome_funcionario, count(Fk_id_Funcionario) as atendimentos\n",
        "                        from comanda as c\n",
        "                        inner join funcionario as f on \n",
        "                        (f.id_Funcionario = c.Fk_id_Funcionario)\n",
        "                        where date_part('month',data) = date_part('month',(current_date + INTERVAL '-1 month')) and date_part('year',data) = date_part('year',(current_date + INTERVAL '-1 month'))\n",
        "                        group by nome_funcionario\n",
        "                        order by atendimentos desc\n",
        "                        limit 1\"\"\")\n"
      ],
      "execution_count": 66,
      "outputs": []
    },
    {
      "cell_type": "code",
      "metadata": {
        "id": "m0i2AgIDytva",
        "colab_type": "code",
        "colab": {}
      },
      "source": [
        "destaque = pd.read_sql_query(\"\"\"select * from funcionario_destaque\"\"\", conn)"
      ],
      "execution_count": 58,
      "outputs": []
    },
    {
      "cell_type": "code",
      "metadata": {
        "id": "cM9ZbCl5zmKE",
        "colab_type": "code",
        "colab": {
          "base_uri": "https://localhost:8080/",
          "height": 81
        },
        "outputId": "ac4df8cd-e7be-4fa9-ec17-6d272eaa5d51"
      },
      "source": [
        "destaque"
      ],
      "execution_count": 59,
      "outputs": [
        {
          "output_type": "execute_result",
          "data": {
            "text/html": [
              "<div>\n",
              "<style scoped>\n",
              "    .dataframe tbody tr th:only-of-type {\n",
              "        vertical-align: middle;\n",
              "    }\n",
              "\n",
              "    .dataframe tbody tr th {\n",
              "        vertical-align: top;\n",
              "    }\n",
              "\n",
              "    .dataframe thead th {\n",
              "        text-align: right;\n",
              "    }\n",
              "</style>\n",
              "<table border=\"1\" class=\"dataframe\">\n",
              "  <thead>\n",
              "    <tr style=\"text-align: right;\">\n",
              "      <th></th>\n",
              "      <th>nome_funcionario</th>\n",
              "      <th>atendimentos</th>\n",
              "    </tr>\n",
              "  </thead>\n",
              "  <tbody>\n",
              "    <tr>\n",
              "      <th>0</th>\n",
              "      <td>Matheus</td>\n",
              "      <td>2</td>\n",
              "    </tr>\n",
              "  </tbody>\n",
              "</table>\n",
              "</div>"
            ],
            "text/plain": [
              "  nome_funcionario  atendimentos\n",
              "0          Matheus             2"
            ]
          },
          "metadata": {
            "tags": []
          },
          "execution_count": 59
        }
      ]
    },
    {
      "cell_type": "markdown",
      "metadata": {
        "colab_type": "text",
        "id": "jKSpkBw8nRhi"
      },
      "source": [
        "### Frequência clientes no mês anterior"
      ]
    },
    {
      "cell_type": "code",
      "metadata": {
        "colab_type": "code",
        "id": "6jXr8DtanRhu",
        "colab": {}
      },
      "source": [
        "cursor_view_frequencia = conn.cursor()\n",
        "cursor_view_frequencia.execute(\"\"\"create or replace view frequencia_clientes as\n",
        "                        select nome_cliente, count(distinct data) as frequencia\n",
        "                        from cliente as c\n",
        "                        inner join comanda as cd on\n",
        "                        (c.id_cliente = cd.fk_id_cliente)\n",
        "                        where date_part('month',data) = date_part('month',(current_date + INTERVAL '-1 month')) and date_part('year',data) = date_part('year',(current_date + INTERVAL '-1 month'))\n",
        "                        group by nome_cliente\n",
        "                        order by frequencia desc;\"\"\")\n"
      ],
      "execution_count": 67,
      "outputs": []
    },
    {
      "cell_type": "code",
      "metadata": {
        "colab_type": "code",
        "id": "xoaf7Pj_nRiK",
        "colab": {}
      },
      "source": [
        "frequencia = pd.read_sql_query(\"\"\"select * from frequencia_clientes\"\"\", conn)"
      ],
      "execution_count": 68,
      "outputs": []
    },
    {
      "cell_type": "code",
      "metadata": {
        "colab_type": "code",
        "id": "MEugY6hJnRit",
        "colab": {
          "base_uri": "https://localhost:8080/",
          "height": 175
        },
        "outputId": "1406ce37-9cb4-4f92-b25f-2f274a2aecd9"
      },
      "source": [
        "frequencia"
      ],
      "execution_count": 69,
      "outputs": [
        {
          "output_type": "execute_result",
          "data": {
            "text/html": [
              "<div>\n",
              "<style scoped>\n",
              "    .dataframe tbody tr th:only-of-type {\n",
              "        vertical-align: middle;\n",
              "    }\n",
              "\n",
              "    .dataframe tbody tr th {\n",
              "        vertical-align: top;\n",
              "    }\n",
              "\n",
              "    .dataframe thead th {\n",
              "        text-align: right;\n",
              "    }\n",
              "</style>\n",
              "<table border=\"1\" class=\"dataframe\">\n",
              "  <thead>\n",
              "    <tr style=\"text-align: right;\">\n",
              "      <th></th>\n",
              "      <th>nome_cliente</th>\n",
              "      <th>frequencia</th>\n",
              "    </tr>\n",
              "  </thead>\n",
              "  <tbody>\n",
              "    <tr>\n",
              "      <th>0</th>\n",
              "      <td>Davi</td>\n",
              "      <td>1</td>\n",
              "    </tr>\n",
              "    <tr>\n",
              "      <th>1</th>\n",
              "      <td>Henrique</td>\n",
              "      <td>1</td>\n",
              "    </tr>\n",
              "    <tr>\n",
              "      <th>2</th>\n",
              "      <td>Isabella</td>\n",
              "      <td>1</td>\n",
              "    </tr>\n",
              "    <tr>\n",
              "      <th>3</th>\n",
              "      <td>Jorge</td>\n",
              "      <td>1</td>\n",
              "    </tr>\n",
              "  </tbody>\n",
              "</table>\n",
              "</div>"
            ],
            "text/plain": [
              "  nome_cliente  frequencia\n",
              "0         Davi           1\n",
              "1     Henrique           1\n",
              "2     Isabella           1\n",
              "3        Jorge           1"
            ]
          },
          "metadata": {
            "tags": []
          },
          "execution_count": 69
        }
      ]
    },
    {
      "cell_type": "markdown",
      "metadata": {
        "colab_type": "text",
        "id": "l0lCRyH3pF8X"
      },
      "source": [
        "### Cardápio TOP 3 no mês anterior"
      ]
    },
    {
      "cell_type": "code",
      "metadata": {
        "colab_type": "code",
        "id": "8RB6OGFYpF8h",
        "colab": {}
      },
      "source": [
        "cursor_view_top3 = conn.cursor()\n",
        "cursor_view_top3.execute(\"\"\"create or replace view cardapio_top_3 as\n",
        "                            select ic.nome_item, ic.preco as valor, sum(quantidade) as total_pedidos\n",
        "                            from pedido as p\n",
        "                            inner join item_cardapio as ic on\n",
        "                            (ic.id_itemcardapio = p.fk_id_itemcardapio)\n",
        "                            inner join comanda as cd on\n",
        "                            (p.fk_id_comanda = cd.id_comanda)\n",
        "                            where date_part('month',data) = date_part('month',(current_date + INTERVAL '-1 month')) and date_part('year',data) = date_part('year',(current_date + INTERVAL '-1 month'))\n",
        "                            group by ic.nome_item, ic.preco\n",
        "                            order by total_pedidos desc\n",
        "                            limit 3;\"\"\")\n"
      ],
      "execution_count": 70,
      "outputs": []
    },
    {
      "cell_type": "code",
      "metadata": {
        "colab_type": "code",
        "id": "nxbq-UUepF89",
        "colab": {}
      },
      "source": [
        "top3 = pd.read_sql_query(\"\"\"select * from cardapio_top_3\"\"\", conn)"
      ],
      "execution_count": 71,
      "outputs": []
    },
    {
      "cell_type": "code",
      "metadata": {
        "colab_type": "code",
        "id": "GG1O4QdppF9i",
        "colab": {
          "base_uri": "https://localhost:8080/",
          "height": 143
        },
        "outputId": "171095ba-e00a-4db1-ec2d-743ef92ee131"
      },
      "source": [
        "top3"
      ],
      "execution_count": 72,
      "outputs": [
        {
          "output_type": "execute_result",
          "data": {
            "text/html": [
              "<div>\n",
              "<style scoped>\n",
              "    .dataframe tbody tr th:only-of-type {\n",
              "        vertical-align: middle;\n",
              "    }\n",
              "\n",
              "    .dataframe tbody tr th {\n",
              "        vertical-align: top;\n",
              "    }\n",
              "\n",
              "    .dataframe thead th {\n",
              "        text-align: right;\n",
              "    }\n",
              "</style>\n",
              "<table border=\"1\" class=\"dataframe\">\n",
              "  <thead>\n",
              "    <tr style=\"text-align: right;\">\n",
              "      <th></th>\n",
              "      <th>nome_item</th>\n",
              "      <th>valor</th>\n",
              "      <th>total_pedidos</th>\n",
              "    </tr>\n",
              "  </thead>\n",
              "  <tbody>\n",
              "    <tr>\n",
              "      <th>0</th>\n",
              "      <td>Convento da Penha</td>\n",
              "      <td>115.0</td>\n",
              "      <td>4</td>\n",
              "    </tr>\n",
              "    <tr>\n",
              "      <th>1</th>\n",
              "      <td>Bons ventos te trazem</td>\n",
              "      <td>25.9</td>\n",
              "      <td>3</td>\n",
              "    </tr>\n",
              "    <tr>\n",
              "      <th>2</th>\n",
              "      <td>Barlavento</td>\n",
              "      <td>25.9</td>\n",
              "      <td>3</td>\n",
              "    </tr>\n",
              "  </tbody>\n",
              "</table>\n",
              "</div>"
            ],
            "text/plain": [
              "               nome_item  valor  total_pedidos\n",
              "0      Convento da Penha  115.0              4\n",
              "1  Bons ventos te trazem   25.9              3\n",
              "2             Barlavento   25.9              3"
            ]
          },
          "metadata": {
            "tags": []
          },
          "execution_count": 72
        }
      ]
    },
    {
      "cell_type": "markdown",
      "metadata": {
        "colab_type": "text",
        "id": "FG8Ju0u6py2Q"
      },
      "source": [
        "### Itens de cardápio"
      ]
    },
    {
      "cell_type": "code",
      "metadata": {
        "colab_type": "code",
        "id": "Z2eruel4py2d",
        "colab": {}
      },
      "source": [
        "cursor_view_itens = conn.cursor()\n",
        "cursor_view_itens.execute(\"\"\"create or replace view Itens_cardapio as\n",
        "                            select nome_item as nome, ic.descricao, preco, nome_categoria as categoria, t.descricao as tamanho\n",
        "                            from item_cardapio as ic\n",
        "                            inner join categoria as c on\n",
        "                            (ic.fk_id_categoria = c.id_categoria)\n",
        "                            inner join tamanho as t on\n",
        "                            (ic.fk_id_tamanho = t.id_tamanho)\"\"\")\n"
      ],
      "execution_count": 74,
      "outputs": []
    },
    {
      "cell_type": "code",
      "metadata": {
        "colab_type": "code",
        "id": "lIrRSJOlpy3M",
        "colab": {}
      },
      "source": [
        "itens = pd.read_sql_query(\"\"\"select * from itens_cardapio\"\"\", conn)"
      ],
      "execution_count": 75,
      "outputs": []
    },
    {
      "cell_type": "code",
      "metadata": {
        "colab_type": "code",
        "id": "5xxawTncpy3t",
        "colab": {
          "base_uri": "https://localhost:8080/",
          "height": 363
        },
        "outputId": "5c4c383a-cbea-4196-e545-e31914408703"
      },
      "source": [
        "itens"
      ],
      "execution_count": 76,
      "outputs": [
        {
          "output_type": "execute_result",
          "data": {
            "text/html": [
              "<div>\n",
              "<style scoped>\n",
              "    .dataframe tbody tr th:only-of-type {\n",
              "        vertical-align: middle;\n",
              "    }\n",
              "\n",
              "    .dataframe tbody tr th {\n",
              "        vertical-align: top;\n",
              "    }\n",
              "\n",
              "    .dataframe thead th {\n",
              "        text-align: right;\n",
              "    }\n",
              "</style>\n",
              "<table border=\"1\" class=\"dataframe\">\n",
              "  <thead>\n",
              "    <tr style=\"text-align: right;\">\n",
              "      <th></th>\n",
              "      <th>nome</th>\n",
              "      <th>descricao</th>\n",
              "      <th>preco</th>\n",
              "      <th>categoria</th>\n",
              "      <th>tamanho</th>\n",
              "    </tr>\n",
              "  </thead>\n",
              "  <tbody>\n",
              "    <tr>\n",
              "      <th>0</th>\n",
              "      <td>Parque Moscoso</td>\n",
              "      <td>Polvo à galega - Polvo cozido servido com sal ...</td>\n",
              "      <td>145.00</td>\n",
              "      <td>principal</td>\n",
              "      <td>2 pessoas</td>\n",
              "    </tr>\n",
              "    <tr>\n",
              "      <th>1</th>\n",
              "      <td>Convento da Penha</td>\n",
              "      <td>Peixe do dia servido inteiro e assado com limã...</td>\n",
              "      <td>115.00</td>\n",
              "      <td>principal</td>\n",
              "      <td>2 pessoas</td>\n",
              "    </tr>\n",
              "    <tr>\n",
              "      <th>2</th>\n",
              "      <td>Ilha de Socó</td>\n",
              "      <td>Chocolate em mousse fria e semi congelada com ...</td>\n",
              "      <td>22.00</td>\n",
              "      <td>sobremesa</td>\n",
              "      <td>1 pessoa</td>\n",
              "    </tr>\n",
              "    <tr>\n",
              "      <th>3</th>\n",
              "      <td>Bons ventos te trazem</td>\n",
              "      <td>Gin, redução de flor de sabugueiro, maracujá, ...</td>\n",
              "      <td>25.90</td>\n",
              "      <td>drink</td>\n",
              "      <td>1 pessoa</td>\n",
              "    </tr>\n",
              "    <tr>\n",
              "      <th>4</th>\n",
              "      <td>Barlavento</td>\n",
              "      <td>Gin, xarope de morango, maracujá, suco de lara...</td>\n",
              "      <td>25.90</td>\n",
              "      <td>drink</td>\n",
              "      <td>1 pessoa</td>\n",
              "    </tr>\n",
              "    <tr>\n",
              "      <th>5</th>\n",
              "      <td>Cidade Sol</td>\n",
              "      <td>Whiskey Jack Daniels, maracujá, mix de cítrico...</td>\n",
              "      <td>29.90</td>\n",
              "      <td>drink</td>\n",
              "      <td>1 pessoa</td>\n",
              "    </tr>\n",
              "    <tr>\n",
              "      <th>6</th>\n",
              "      <td>Reta da Penha</td>\n",
              "      <td>Filé Mignon marinado na mostarda antiga, servi...</td>\n",
              "      <td>56.90</td>\n",
              "      <td>entrada</td>\n",
              "      <td>1 pessoa</td>\n",
              "    </tr>\n",
              "    <tr>\n",
              "      <th>7</th>\n",
              "      <td>Rua Sete</td>\n",
              "      <td>Filé Mignon ao conhaque, servido com pães da casa</td>\n",
              "      <td>55.00</td>\n",
              "      <td>entrada</td>\n",
              "      <td>1 pessoa</td>\n",
              "    </tr>\n",
              "    <tr>\n",
              "      <th>8</th>\n",
              "      <td>Stella Artois</td>\n",
              "      <td>Stella Artois Long Neck</td>\n",
              "      <td>5.99</td>\n",
              "      <td>drink</td>\n",
              "      <td>long neck</td>\n",
              "    </tr>\n",
              "    <tr>\n",
              "      <th>9</th>\n",
              "      <td>Pepsi</td>\n",
              "      <td>Refrigerante</td>\n",
              "      <td>6.90</td>\n",
              "      <td>drink</td>\n",
              "      <td>lata</td>\n",
              "    </tr>\n",
              "  </tbody>\n",
              "</table>\n",
              "</div>"
            ],
            "text/plain": [
              "                    nome  ...    tamanho\n",
              "0         Parque Moscoso  ...  2 pessoas\n",
              "1      Convento da Penha  ...  2 pessoas\n",
              "2           Ilha de Socó  ...   1 pessoa\n",
              "3  Bons ventos te trazem  ...   1 pessoa\n",
              "4             Barlavento  ...   1 pessoa\n",
              "5             Cidade Sol  ...   1 pessoa\n",
              "6          Reta da Penha  ...   1 pessoa\n",
              "7               Rua Sete  ...   1 pessoa\n",
              "8          Stella Artois  ...  long neck\n",
              "9                  Pepsi  ...       lata\n",
              "\n",
              "[10 rows x 5 columns]"
            ]
          },
          "metadata": {
            "tags": []
          },
          "execution_count": 76
        }
      ]
    },
    {
      "cell_type": "markdown",
      "metadata": {
        "colab_type": "text",
        "id": "vO3oLYaop1oV"
      },
      "source": [
        "### Faturamento do dia corrente"
      ]
    },
    {
      "cell_type": "code",
      "metadata": {
        "colab_type": "code",
        "id": "GaxnBIQWp1oj",
        "colab": {}
      },
      "source": [
        "cursor_view_faturamento = conn.cursor()\n",
        "cursor_view_faturamento.execute(\"\"\"create or replace view faturamento_diario as\n",
        "                                select sum(preco * quantidade) as valor_total_dia, to_char(data, 'dd-mm-yyyy')\n",
        "                                from item_cardapio as cp\n",
        "                                inner join pedido as p on\n",
        "                                (p.fk_id_itemcardapio = cp.id_itemcardapio)\n",
        "                                inner join comanda as cd on\n",
        "                                (p.fk_id_comanda = cd.id_comanda)\n",
        "                                where data = current_date\n",
        "                                group by data\"\"\")\n"
      ],
      "execution_count": 106,
      "outputs": []
    },
    {
      "cell_type": "code",
      "metadata": {
        "colab_type": "code",
        "id": "lms3GRaKp1pJ",
        "colab": {}
      },
      "source": [
        "faturamento = pd.read_sql_query(\"\"\"select * from faturamento_diario\"\"\", conn)"
      ],
      "execution_count": 107,
      "outputs": []
    },
    {
      "cell_type": "code",
      "metadata": {
        "colab_type": "code",
        "id": "kG71mXufp1pi",
        "colab": {
          "base_uri": "https://localhost:8080/",
          "height": 49
        },
        "outputId": "286e81b0-9fcd-4dc1-99e5-1dbda249c3c1"
      },
      "source": [
        "faturamento"
      ],
      "execution_count": 108,
      "outputs": [
        {
          "output_type": "execute_result",
          "data": {
            "text/html": [
              "<div>\n",
              "<style scoped>\n",
              "    .dataframe tbody tr th:only-of-type {\n",
              "        vertical-align: middle;\n",
              "    }\n",
              "\n",
              "    .dataframe tbody tr th {\n",
              "        vertical-align: top;\n",
              "    }\n",
              "\n",
              "    .dataframe thead th {\n",
              "        text-align: right;\n",
              "    }\n",
              "</style>\n",
              "<table border=\"1\" class=\"dataframe\">\n",
              "  <thead>\n",
              "    <tr style=\"text-align: right;\">\n",
              "      <th></th>\n",
              "      <th>valor_total_dia</th>\n",
              "      <th>to_char</th>\n",
              "    </tr>\n",
              "  </thead>\n",
              "  <tbody>\n",
              "  </tbody>\n",
              "</table>\n",
              "</div>"
            ],
            "text/plain": [
              "Empty DataFrame\n",
              "Columns: [valor_total_dia, to_char]\n",
              "Index: []"
            ]
          },
          "metadata": {
            "tags": []
          },
          "execution_count": 108
        }
      ]
    },
    {
      "cell_type": "markdown",
      "metadata": {
        "id": "1_myo6lLyGtZ",
        "colab_type": "text"
      },
      "source": [
        "**OBS:** De fato não há faturamento no dia corrente, por isso a consulta veio vazia"
      ]
    },
    {
      "cell_type": "markdown",
      "metadata": {
        "colab_type": "text",
        "id": "fWir2-Dpp_pS"
      },
      "source": [
        "### Gasto cliente no mês anterior"
      ]
    },
    {
      "cell_type": "code",
      "metadata": {
        "colab_type": "code",
        "id": "qjc1GWmRp_pd",
        "colab": {}
      },
      "source": [
        "cursor_view_gasto = conn.cursor()\n",
        "cursor_view_gasto.execute(\"\"\"create or replace view gasto_cliente as\n",
        "                              select nome_cliente, sum(quantidade * preco) as valor_comanda\n",
        "                              from comanda as cd\n",
        "                              inner join pedido as p on\n",
        "                              (cd.id_comanda = p.fk_id_comanda)\n",
        "                              inner join item_cardapio as cp on\n",
        "                              (p.fk_id_itemcardapio = cp.id_itemcardapio)\n",
        "                              inner join cliente as c on\n",
        "                              (cd.fk_id_cliente = c.id_cliente)\n",
        "                              where date_part('month',data) = date_part('month',(current_date + INTERVAL '-1 month')) and date_part('year',data) = date_part('year',(current_date + INTERVAL '-1 month'))\n",
        "                              group by nome_cliente\n",
        "                              order by valor_comanda desc;\"\"\")\n"
      ],
      "execution_count": 103,
      "outputs": []
    },
    {
      "cell_type": "code",
      "metadata": {
        "colab_type": "code",
        "id": "nHGBpfzgp_qA",
        "colab": {}
      },
      "source": [
        "gasto = pd.read_sql_query(\"\"\"select * from gasto_cliente\"\"\", conn)"
      ],
      "execution_count": 104,
      "outputs": []
    },
    {
      "cell_type": "code",
      "metadata": {
        "colab_type": "code",
        "id": "R5MxNtA7p_qd",
        "colab": {
          "base_uri": "https://localhost:8080/",
          "height": 175
        },
        "outputId": "fd48bc87-acc3-4c5b-a314-65da3c13eeeb"
      },
      "source": [
        "gasto"
      ],
      "execution_count": 105,
      "outputs": [
        {
          "output_type": "execute_result",
          "data": {
            "text/html": [
              "<div>\n",
              "<style scoped>\n",
              "    .dataframe tbody tr th:only-of-type {\n",
              "        vertical-align: middle;\n",
              "    }\n",
              "\n",
              "    .dataframe tbody tr th {\n",
              "        vertical-align: top;\n",
              "    }\n",
              "\n",
              "    .dataframe thead th {\n",
              "        text-align: right;\n",
              "    }\n",
              "</style>\n",
              "<table border=\"1\" class=\"dataframe\">\n",
              "  <thead>\n",
              "    <tr style=\"text-align: right;\">\n",
              "      <th></th>\n",
              "      <th>nome_cliente</th>\n",
              "      <th>valor_comanda</th>\n",
              "    </tr>\n",
              "  </thead>\n",
              "  <tbody>\n",
              "    <tr>\n",
              "      <th>0</th>\n",
              "      <td>Henrique</td>\n",
              "      <td>964.90</td>\n",
              "    </tr>\n",
              "    <tr>\n",
              "      <th>1</th>\n",
              "      <td>Isabella</td>\n",
              "      <td>166.90</td>\n",
              "    </tr>\n",
              "    <tr>\n",
              "      <th>2</th>\n",
              "      <td>Davi</td>\n",
              "      <td>135.49</td>\n",
              "    </tr>\n",
              "    <tr>\n",
              "      <th>3</th>\n",
              "      <td>Jorge</td>\n",
              "      <td>6.90</td>\n",
              "    </tr>\n",
              "  </tbody>\n",
              "</table>\n",
              "</div>"
            ],
            "text/plain": [
              "  nome_cliente  valor_comanda\n",
              "0     Henrique         964.90\n",
              "1     Isabella         166.90\n",
              "2         Davi         135.49\n",
              "3        Jorge           6.90"
            ]
          },
          "metadata": {
            "tags": []
          },
          "execution_count": 105
        }
      ]
    }
  ]
}