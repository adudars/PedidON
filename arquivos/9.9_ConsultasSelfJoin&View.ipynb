{
  "nbformat": 4,
  "nbformat_minor": 0,
  "metadata": {
    "colab": {
      "name": "9.9_ConsultasSelfJoin&View.ipynb",
      "provenance": [],
      "collapsed_sections": [],
      "authorship_tag": "ABX9TyNZd3rk9o65yiYgU/CsrT8s",
      "include_colab_link": true
    },
    "kernelspec": {
      "name": "python3",
      "display_name": "Python 3"
    }
  },
  "cells": [
    {
      "cell_type": "markdown",
      "metadata": {
        "id": "view-in-github",
        "colab_type": "text"
      },
      "source": [
        "<a href=\"https://colab.research.google.com/github/adudars/PedidON/blob/master/arquivos/9.9_ConsultasSelfJoin%26View.ipynb\" target=\"_parent\"><img src=\"https://colab.research.google.com/assets/colab-badge.svg\" alt=\"Open In Colab\"/></a>"
      ]
    },
    {
      "cell_type": "markdown",
      "metadata": {
        "id": "tbJ_4aYwENvD",
        "colab_type": "text"
      },
      "source": [
        "# 9.9 CONSULTAS COM SELF JOIN E VIEW"
      ]
    },
    {
      "cell_type": "markdown",
      "metadata": {
        "id": "N_SPUL1wC9Cy",
        "colab_type": "text"
      },
      "source": [
        "## ESTABELECENDO CONEXÃO\n",
        "\n",
        "\n"
      ]
    },
    {
      "cell_type": "markdown",
      "metadata": {
        "id": "2Zu6LMx9FZ2o",
        "colab_type": "text"
      },
      "source": [
        "### Instalando bibliotecas de acesso"
      ]
    },
    {
      "cell_type": "code",
      "metadata": {
        "id": "7y0VZn5eGT_B",
        "colab_type": "code",
        "colab": {}
      },
      "source": [
        "#!pip install --user psycopg2-binary\n",
        "#!pip install --user pandas"
      ],
      "execution_count": 1,
      "outputs": []
    },
    {
      "cell_type": "markdown",
      "metadata": {
        "id": "BiXhsGizEb4p",
        "colab_type": "text"
      },
      "source": [
        "### Importando bibliotecas"
      ]
    },
    {
      "cell_type": "code",
      "metadata": {
        "id": "pEEUdYDuqCHv",
        "colab_type": "code",
        "colab": {}
      },
      "source": [
        "import pandas as pd\n",
        "import psycopg2"
      ],
      "execution_count": 3,
      "outputs": []
    },
    {
      "cell_type": "markdown",
      "metadata": {
        "id": "pbbw322lDEC6",
        "colab_type": "text"
      },
      "source": [
        "### Conectando com o banco através do psycopg2"
      ]
    },
    {
      "cell_type": "code",
      "metadata": {
        "id": "hWeCAx6Wvgqv",
        "colab_type": "code",
        "colab": {}
      },
      "source": [
        "conn = psycopg2.connect(host=\"lallah.db.elephantsql.com\", database=\"nxthbnlu\", user=\"nxthbnlu\", password=\"buyAYKsY17pqexg1grIcJaWm0gHBsO2F\")"
      ],
      "execution_count": 23,
      "outputs": []
    },
    {
      "cell_type": "markdown",
      "metadata": {
        "id": "V9asSTvKYMLk",
        "colab_type": "text"
      },
      "source": [
        "## CONSULTA COM SELF JOIN"
      ]
    },
    {
      "cell_type": "markdown",
      "metadata": {
        "id": "Cx-deBaSYcZd",
        "colab_type": "text"
      },
      "source": [
        "Uma vez que o SELF JOIN é utilizado para criar relacionamento entre informações de uma mesma tabela, visando portanto o relacionamento entre os registros pertencentes a mesma, e isso não ocorre em nosso banco de dados PedidON, substituímos, então, uma consulta com self join por uma criação de view, conforme orientado."
      ]
    },
    {
      "cell_type": "markdown",
      "metadata": {
        "id": "P0uP7FEoLDOc",
        "colab_type": "text"
      },
      "source": [
        "## VIEWS"
      ]
    },
    {
      "cell_type": "markdown",
      "metadata": {
        "id": "6DkJtqcaDJaO",
        "colab_type": "text"
      },
      "source": [
        "### Funcionário destaque"
      ]
    },
    {
      "cell_type": "code",
      "metadata": {
        "id": "dozy8QygZ3rA",
        "colab_type": "code",
        "colab": {}
      },
      "source": [
        "cursor_view_destaque = conn.cursor()\n",
        "cursor_view_destaque.execute(\"\"\"create or replace view funcionario_destaque as\n",
        "                        select nome_funcionario, count(Fk_id_Funcionario) as atendimentos\n",
        "                        from comanda as c\n",
        "                        inner join funcionario as f on \n",
        "                        (f.id_Funcionario = c.Fk_id_Funcionario)\n",
        "                        where date_part('month',data) = date_part('month',(current_date + INTERVAL '-1 month')) and date_part('year',data) = date_part('year',(current_date + INTERVAL '-1 month'))\n",
        "                        group by nome_funcionario\n",
        "                        order by atendimentos desc\n",
        "                        limit 1\"\"\")\n"
      ],
      "execution_count": 5,
      "outputs": []
    },
    {
      "cell_type": "code",
      "metadata": {
        "id": "m0i2AgIDytva",
        "colab_type": "code",
        "colab": {}
      },
      "source": [
        "destaque = pd.read_sql_query(\"\"\"select * from funcionario_destaque\"\"\", conn)"
      ],
      "execution_count": 6,
      "outputs": []
    },
    {
      "cell_type": "code",
      "metadata": {
        "id": "cM9ZbCl5zmKE",
        "colab_type": "code",
        "colab": {
          "base_uri": "https://localhost:8080/",
          "height": 81
        },
        "outputId": "4ff53860-7adc-45e9-fa72-c80635f531c1"
      },
      "source": [
        "destaque"
      ],
      "execution_count": 7,
      "outputs": [
        {
          "output_type": "execute_result",
          "data": {
            "text/html": [
              "<div>\n",
              "<style scoped>\n",
              "    .dataframe tbody tr th:only-of-type {\n",
              "        vertical-align: middle;\n",
              "    }\n",
              "\n",
              "    .dataframe tbody tr th {\n",
              "        vertical-align: top;\n",
              "    }\n",
              "\n",
              "    .dataframe thead th {\n",
              "        text-align: right;\n",
              "    }\n",
              "</style>\n",
              "<table border=\"1\" class=\"dataframe\">\n",
              "  <thead>\n",
              "    <tr style=\"text-align: right;\">\n",
              "      <th></th>\n",
              "      <th>nome_funcionario</th>\n",
              "      <th>atendimentos</th>\n",
              "    </tr>\n",
              "  </thead>\n",
              "  <tbody>\n",
              "    <tr>\n",
              "      <th>0</th>\n",
              "      <td>Bernardo</td>\n",
              "      <td>6</td>\n",
              "    </tr>\n",
              "  </tbody>\n",
              "</table>\n",
              "</div>"
            ],
            "text/plain": [
              "  nome_funcionario  atendimentos\n",
              "0         Bernardo             6"
            ]
          },
          "metadata": {
            "tags": []
          },
          "execution_count": 7
        }
      ]
    },
    {
      "cell_type": "markdown",
      "metadata": {
        "colab_type": "text",
        "id": "jKSpkBw8nRhi"
      },
      "source": [
        "### Frequência clientes no mês anterior"
      ]
    },
    {
      "cell_type": "code",
      "metadata": {
        "colab_type": "code",
        "id": "6jXr8DtanRhu",
        "colab": {}
      },
      "source": [
        "cursor_view_frequencia = conn.cursor()\n",
        "cursor_view_frequencia.execute(\"\"\"create or replace view frequencia_clientes as\n",
        "                        select nome_cliente, count(distinct data) as frequencia\n",
        "                        from cliente as c\n",
        "                        inner join comanda as cd on\n",
        "                        (c.id_cliente = cd.fk_id_cliente)\n",
        "                        where date_part('month',data) = date_part('month',(current_date + INTERVAL '-1 month')) and date_part('year',data) = date_part('year',(current_date + INTERVAL '-1 month'))\n",
        "                        group by nome_cliente\n",
        "                        order by frequencia desc;\"\"\")\n"
      ],
      "execution_count": 8,
      "outputs": []
    },
    {
      "cell_type": "code",
      "metadata": {
        "colab_type": "code",
        "id": "xoaf7Pj_nRiK",
        "colab": {}
      },
      "source": [
        "frequencia = pd.read_sql_query(\"\"\"select * from frequencia_clientes\"\"\", conn)"
      ],
      "execution_count": 9,
      "outputs": []
    },
    {
      "cell_type": "code",
      "metadata": {
        "colab_type": "code",
        "id": "MEugY6hJnRit",
        "colab": {
          "base_uri": "https://localhost:8080/",
          "height": 677
        },
        "outputId": "eb2e5819-9b5c-4f59-e5d9-f1f1943f440b"
      },
      "source": [
        "frequencia"
      ],
      "execution_count": 10,
      "outputs": [
        {
          "output_type": "execute_result",
          "data": {
            "text/html": [
              "<div>\n",
              "<style scoped>\n",
              "    .dataframe tbody tr th:only-of-type {\n",
              "        vertical-align: middle;\n",
              "    }\n",
              "\n",
              "    .dataframe tbody tr th {\n",
              "        vertical-align: top;\n",
              "    }\n",
              "\n",
              "    .dataframe thead th {\n",
              "        text-align: right;\n",
              "    }\n",
              "</style>\n",
              "<table border=\"1\" class=\"dataframe\">\n",
              "  <thead>\n",
              "    <tr style=\"text-align: right;\">\n",
              "      <th></th>\n",
              "      <th>nome_cliente</th>\n",
              "      <th>frequencia</th>\n",
              "    </tr>\n",
              "  </thead>\n",
              "  <tbody>\n",
              "    <tr>\n",
              "      <th>0</th>\n",
              "      <td>Jorge</td>\n",
              "      <td>4</td>\n",
              "    </tr>\n",
              "    <tr>\n",
              "      <th>1</th>\n",
              "      <td>Clarice</td>\n",
              "      <td>3</td>\n",
              "    </tr>\n",
              "    <tr>\n",
              "      <th>2</th>\n",
              "      <td>Lara</td>\n",
              "      <td>3</td>\n",
              "    </tr>\n",
              "    <tr>\n",
              "      <th>3</th>\n",
              "      <td>Davi</td>\n",
              "      <td>3</td>\n",
              "    </tr>\n",
              "    <tr>\n",
              "      <th>4</th>\n",
              "      <td>Mauro</td>\n",
              "      <td>3</td>\n",
              "    </tr>\n",
              "    <tr>\n",
              "      <th>5</th>\n",
              "      <td>Diego</td>\n",
              "      <td>3</td>\n",
              "    </tr>\n",
              "    <tr>\n",
              "      <th>6</th>\n",
              "      <td>Bento</td>\n",
              "      <td>3</td>\n",
              "    </tr>\n",
              "    <tr>\n",
              "      <th>7</th>\n",
              "      <td>Antonella</td>\n",
              "      <td>3</td>\n",
              "    </tr>\n",
              "    <tr>\n",
              "      <th>8</th>\n",
              "      <td>Isabella</td>\n",
              "      <td>3</td>\n",
              "    </tr>\n",
              "    <tr>\n",
              "      <th>9</th>\n",
              "      <td>Henrique</td>\n",
              "      <td>3</td>\n",
              "    </tr>\n",
              "    <tr>\n",
              "      <th>10</th>\n",
              "      <td>Thiago</td>\n",
              "      <td>2</td>\n",
              "    </tr>\n",
              "    <tr>\n",
              "      <th>11</th>\n",
              "      <td>Clara</td>\n",
              "      <td>2</td>\n",
              "    </tr>\n",
              "    <tr>\n",
              "      <th>12</th>\n",
              "      <td>Eduarda</td>\n",
              "      <td>2</td>\n",
              "    </tr>\n",
              "    <tr>\n",
              "      <th>13</th>\n",
              "      <td>Gabrielle</td>\n",
              "      <td>2</td>\n",
              "    </tr>\n",
              "    <tr>\n",
              "      <th>14</th>\n",
              "      <td>José Geraldo</td>\n",
              "      <td>2</td>\n",
              "    </tr>\n",
              "    <tr>\n",
              "      <th>15</th>\n",
              "      <td>Luiza</td>\n",
              "      <td>2</td>\n",
              "    </tr>\n",
              "    <tr>\n",
              "      <th>16</th>\n",
              "      <td>Milton</td>\n",
              "      <td>2</td>\n",
              "    </tr>\n",
              "    <tr>\n",
              "      <th>17</th>\n",
              "      <td>Moises</td>\n",
              "      <td>2</td>\n",
              "    </tr>\n",
              "    <tr>\n",
              "      <th>18</th>\n",
              "      <td>Tais</td>\n",
              "      <td>2</td>\n",
              "    </tr>\n",
              "    <tr>\n",
              "      <th>19</th>\n",
              "      <td>Ana</td>\n",
              "      <td>2</td>\n",
              "    </tr>\n",
              "  </tbody>\n",
              "</table>\n",
              "</div>"
            ],
            "text/plain": [
              "    nome_cliente  frequencia\n",
              "0          Jorge           4\n",
              "1        Clarice           3\n",
              "2           Lara           3\n",
              "3           Davi           3\n",
              "4          Mauro           3\n",
              "5          Diego           3\n",
              "6          Bento           3\n",
              "7      Antonella           3\n",
              "8       Isabella           3\n",
              "9       Henrique           3\n",
              "10        Thiago           2\n",
              "11         Clara           2\n",
              "12       Eduarda           2\n",
              "13     Gabrielle           2\n",
              "14  José Geraldo           2\n",
              "15         Luiza           2\n",
              "16        Milton           2\n",
              "17        Moises           2\n",
              "18          Tais           2\n",
              "19           Ana           2"
            ]
          },
          "metadata": {
            "tags": []
          },
          "execution_count": 10
        }
      ]
    },
    {
      "cell_type": "markdown",
      "metadata": {
        "colab_type": "text",
        "id": "l0lCRyH3pF8X"
      },
      "source": [
        "### Cardápio TOP 3 no mês anterior"
      ]
    },
    {
      "cell_type": "code",
      "metadata": {
        "colab_type": "code",
        "id": "8RB6OGFYpF8h",
        "colab": {}
      },
      "source": [
        "cursor_view_top3 = conn.cursor()\n",
        "cursor_view_top3.execute(\"\"\"create or replace view cardapio_top_3 as\n",
        "                            select ic.nome_item, ic.preco as valor, sum(quantidade) as total_pedidos\n",
        "                            from pedido as p\n",
        "                            inner join item_cardapio as ic on\n",
        "                            (ic.id_itemcardapio = p.fk_id_itemcardapio)\n",
        "                            inner join comanda as cd on\n",
        "                            (p.fk_id_comanda = cd.id_comanda)\n",
        "                            where date_part('month',data) = date_part('month',(current_date + INTERVAL '-1 month')) and date_part('year',data) = date_part('year',(current_date + INTERVAL '-1 month'))\n",
        "                            group by ic.nome_item, ic.preco\n",
        "                            order by total_pedidos desc\n",
        "                            limit 3;\"\"\")\n"
      ],
      "execution_count": 11,
      "outputs": []
    },
    {
      "cell_type": "code",
      "metadata": {
        "colab_type": "code",
        "id": "nxbq-UUepF89",
        "colab": {}
      },
      "source": [
        "top3 = pd.read_sql_query(\"\"\"select * from cardapio_top_3\"\"\", conn)"
      ],
      "execution_count": 12,
      "outputs": []
    },
    {
      "cell_type": "code",
      "metadata": {
        "colab_type": "code",
        "id": "GG1O4QdppF9i",
        "colab": {
          "base_uri": "https://localhost:8080/",
          "height": 143
        },
        "outputId": "de925af2-8717-4ac1-a965-dddfeed475c1"
      },
      "source": [
        "top3"
      ],
      "execution_count": 13,
      "outputs": [
        {
          "output_type": "execute_result",
          "data": {
            "text/html": [
              "<div>\n",
              "<style scoped>\n",
              "    .dataframe tbody tr th:only-of-type {\n",
              "        vertical-align: middle;\n",
              "    }\n",
              "\n",
              "    .dataframe tbody tr th {\n",
              "        vertical-align: top;\n",
              "    }\n",
              "\n",
              "    .dataframe thead th {\n",
              "        text-align: right;\n",
              "    }\n",
              "</style>\n",
              "<table border=\"1\" class=\"dataframe\">\n",
              "  <thead>\n",
              "    <tr style=\"text-align: right;\">\n",
              "      <th></th>\n",
              "      <th>nome_item</th>\n",
              "      <th>valor</th>\n",
              "      <th>total_pedidos</th>\n",
              "    </tr>\n",
              "  </thead>\n",
              "  <tbody>\n",
              "    <tr>\n",
              "      <th>0</th>\n",
              "      <td>Appia</td>\n",
              "      <td>25.9</td>\n",
              "      <td>6</td>\n",
              "    </tr>\n",
              "    <tr>\n",
              "      <th>1</th>\n",
              "      <td>Brisa</td>\n",
              "      <td>26.0</td>\n",
              "      <td>5</td>\n",
              "    </tr>\n",
              "    <tr>\n",
              "      <th>2</th>\n",
              "      <td>Cachaça</td>\n",
              "      <td>11.9</td>\n",
              "      <td>4</td>\n",
              "    </tr>\n",
              "  </tbody>\n",
              "</table>\n",
              "</div>"
            ],
            "text/plain": [
              "  nome_item  valor  total_pedidos\n",
              "0     Appia   25.9              6\n",
              "1     Brisa   26.0              5\n",
              "2   Cachaça   11.9              4"
            ]
          },
          "metadata": {
            "tags": []
          },
          "execution_count": 13
        }
      ]
    },
    {
      "cell_type": "markdown",
      "metadata": {
        "colab_type": "text",
        "id": "FG8Ju0u6py2Q"
      },
      "source": [
        "### Itens de cardápio"
      ]
    },
    {
      "cell_type": "code",
      "metadata": {
        "colab_type": "code",
        "id": "Z2eruel4py2d",
        "colab": {}
      },
      "source": [
        "cursor_view_itens = conn.cursor()\n",
        "cursor_view_itens.execute(\"\"\"create or replace view Itens_cardapio as\n",
        "                            select nome_item as nome, descricao_item as descricao, preco, nome_categoria as categoria, descricao_tamanho as tamanho\n",
        "                            from item_cardapio as ic\n",
        "                            inner join categoria as c on\n",
        "                            (ic.fk_id_categoria = c.id_categoria)\n",
        "                            inner join tamanho as t on\n",
        "                            (ic.fk_id_tamanho = t.id_tamanho);\"\"\")\n",
        "conn.commit()"
      ],
      "execution_count": 24,
      "outputs": []
    },
    {
      "cell_type": "code",
      "metadata": {
        "colab_type": "code",
        "id": "lIrRSJOlpy3M",
        "colab": {}
      },
      "source": [
        "itens = pd.read_sql_query(\"\"\"select * from itens_cardapio\"\"\", conn)"
      ],
      "execution_count": 25,
      "outputs": []
    },
    {
      "cell_type": "code",
      "metadata": {
        "colab_type": "code",
        "id": "5xxawTncpy3t",
        "colab": {
          "base_uri": "https://localhost:8080/",
          "height": 1000
        },
        "outputId": "1ecbee3e-33e9-4918-af98-f3f57e4830a0"
      },
      "source": [
        "itens"
      ],
      "execution_count": 26,
      "outputs": [
        {
          "output_type": "execute_result",
          "data": {
            "text/html": [
              "<div>\n",
              "<style scoped>\n",
              "    .dataframe tbody tr th:only-of-type {\n",
              "        vertical-align: middle;\n",
              "    }\n",
              "\n",
              "    .dataframe tbody tr th {\n",
              "        vertical-align: top;\n",
              "    }\n",
              "\n",
              "    .dataframe thead th {\n",
              "        text-align: right;\n",
              "    }\n",
              "</style>\n",
              "<table border=\"1\" class=\"dataframe\">\n",
              "  <thead>\n",
              "    <tr style=\"text-align: right;\">\n",
              "      <th></th>\n",
              "      <th>nome</th>\n",
              "      <th>descricao</th>\n",
              "      <th>preco</th>\n",
              "      <th>categoria</th>\n",
              "      <th>tamanho</th>\n",
              "    </tr>\n",
              "  </thead>\n",
              "  <tbody>\n",
              "    <tr>\n",
              "      <th>0</th>\n",
              "      <td>Rua Sete</td>\n",
              "      <td>Filé Mignon ao conhaque, servido com pães da casa</td>\n",
              "      <td>55.00</td>\n",
              "      <td>entrada</td>\n",
              "      <td>1 pessoa</td>\n",
              "    </tr>\n",
              "    <tr>\n",
              "      <th>1</th>\n",
              "      <td>Reta da Penha</td>\n",
              "      <td>Filé Mignon marinado na mostarda antiga, servi...</td>\n",
              "      <td>56.90</td>\n",
              "      <td>entrada</td>\n",
              "      <td>1 pessoa</td>\n",
              "    </tr>\n",
              "    <tr>\n",
              "      <th>2</th>\n",
              "      <td>Cidade Sol</td>\n",
              "      <td>Whiskey Jack Daniels, maracujá, mix de cítrico...</td>\n",
              "      <td>29.90</td>\n",
              "      <td>drink</td>\n",
              "      <td>330ml</td>\n",
              "    </tr>\n",
              "    <tr>\n",
              "      <th>3</th>\n",
              "      <td>Barlavento</td>\n",
              "      <td>Gin, xarope de morango, maracujá, suco de lara...</td>\n",
              "      <td>25.90</td>\n",
              "      <td>drink</td>\n",
              "      <td>330ml</td>\n",
              "    </tr>\n",
              "    <tr>\n",
              "      <th>4</th>\n",
              "      <td>Bons ventos te trazem</td>\n",
              "      <td>Gin, redução de flor de sabugueiro, maracujá, ...</td>\n",
              "      <td>25.90</td>\n",
              "      <td>drink</td>\n",
              "      <td>330ml</td>\n",
              "    </tr>\n",
              "    <tr>\n",
              "      <th>5</th>\n",
              "      <td>Brasil Brasil</td>\n",
              "      <td>Cachaça de Umburana, manjericão orgânico, mix ...</td>\n",
              "      <td>24.90</td>\n",
              "      <td>drink</td>\n",
              "      <td>2l</td>\n",
              "    </tr>\n",
              "    <tr>\n",
              "      <th>6</th>\n",
              "      <td>Pituã Island</td>\n",
              "      <td>Absinto, xarope de pêssego, mix de cítricos, x...</td>\n",
              "      <td>27.90</td>\n",
              "      <td>drink</td>\n",
              "      <td>500ml</td>\n",
              "    </tr>\n",
              "    <tr>\n",
              "      <th>7</th>\n",
              "      <td>Mojito</td>\n",
              "      <td>Rum Havana Club, Mix de cítricos, hortelã, xar...</td>\n",
              "      <td>31.90</td>\n",
              "      <td>drink</td>\n",
              "      <td>1l</td>\n",
              "    </tr>\n",
              "    <tr>\n",
              "      <th>8</th>\n",
              "      <td>Gruta da onça</td>\n",
              "      <td>Entrecôte, salsa chermoula e legumes tostados</td>\n",
              "      <td>177.99</td>\n",
              "      <td>principal</td>\n",
              "      <td>3 pessoas</td>\n",
              "    </tr>\n",
              "    <tr>\n",
              "      <th>9</th>\n",
              "      <td>Paneleiras</td>\n",
              "      <td>Releitura da moqueca capixabas - Peixe grelhad...</td>\n",
              "      <td>217.99</td>\n",
              "      <td>principal</td>\n",
              "      <td>4 pessoas</td>\n",
              "    </tr>\n",
              "    <tr>\n",
              "      <th>10</th>\n",
              "      <td>Palácio Anchieta</td>\n",
              "      <td>Camarão VG, lula em anéis, lagosta e filé de p...</td>\n",
              "      <td>298.99</td>\n",
              "      <td>principal</td>\n",
              "      <td>5 pessoas</td>\n",
              "    </tr>\n",
              "    <tr>\n",
              "      <th>11</th>\n",
              "      <td>Convento da Penha</td>\n",
              "      <td>Peixe do dia servido inteiro e assado com limã...</td>\n",
              "      <td>115.00</td>\n",
              "      <td>principal</td>\n",
              "      <td>2 pessoas</td>\n",
              "    </tr>\n",
              "    <tr>\n",
              "      <th>12</th>\n",
              "      <td>Parque Moscoso</td>\n",
              "      <td>Polvo à galega - Polvo cozido servido com sal ...</td>\n",
              "      <td>145.00</td>\n",
              "      <td>principal</td>\n",
              "      <td>2 pessoas</td>\n",
              "    </tr>\n",
              "    <tr>\n",
              "      <th>13</th>\n",
              "      <td>Ilha do Frade</td>\n",
              "      <td>Brownie de limão, sorbet de frutas vermelhas, ...</td>\n",
              "      <td>33.90</td>\n",
              "      <td>sobremesa</td>\n",
              "      <td>2 pessoas</td>\n",
              "    </tr>\n",
              "    <tr>\n",
              "      <th>14</th>\n",
              "      <td>Ilha de Socó</td>\n",
              "      <td>Chocolate em mousse fria e semi congelada com ...</td>\n",
              "      <td>22.00</td>\n",
              "      <td>sobremesa</td>\n",
              "      <td>1 pessoa</td>\n",
              "    </tr>\n",
              "    <tr>\n",
              "      <th>15</th>\n",
              "      <td>Chungara Gran Reserva</td>\n",
              "      <td>Uva: Sauvignon Blanc. País: Chile</td>\n",
              "      <td>129.00</td>\n",
              "      <td>vinho branco</td>\n",
              "      <td>taça</td>\n",
              "    </tr>\n",
              "    <tr>\n",
              "      <th>16</th>\n",
              "      <td>Borgo Magredo</td>\n",
              "      <td>Uva: Pinot Grigio. País: Itália</td>\n",
              "      <td>95.00</td>\n",
              "      <td>vinho branco</td>\n",
              "      <td>garrafa</td>\n",
              "    </tr>\n",
              "    <tr>\n",
              "      <th>17</th>\n",
              "      <td>Maresia</td>\n",
              "      <td>Pão rústico, rosbife marinado na mostarda e mi...</td>\n",
              "      <td>31.90</td>\n",
              "      <td>sanduiche</td>\n",
              "      <td>1 pessoa</td>\n",
              "    </tr>\n",
              "    <tr>\n",
              "      <th>18</th>\n",
              "      <td>Brisa</td>\n",
              "      <td>Ciabatta, cogumelos shitake e paris e legume t...</td>\n",
              "      <td>26.00</td>\n",
              "      <td>sanduiche</td>\n",
              "      <td>1 pessoa</td>\n",
              "    </tr>\n",
              "    <tr>\n",
              "      <th>19</th>\n",
              "      <td>Marinheiro</td>\n",
              "      <td>Crepioca de cogumelos salteados no azeito de t...</td>\n",
              "      <td>24.99</td>\n",
              "      <td>crepioca</td>\n",
              "      <td>1 pessoa</td>\n",
              "    </tr>\n",
              "    <tr>\n",
              "      <th>20</th>\n",
              "      <td>Marujo</td>\n",
              "      <td>Crepioca de peito de peru defumado, queijo bra...</td>\n",
              "      <td>22.90</td>\n",
              "      <td>crepioca</td>\n",
              "      <td>1 pessoa</td>\n",
              "    </tr>\n",
              "    <tr>\n",
              "      <th>21</th>\n",
              "      <td>Arrais</td>\n",
              "      <td>Crepioca de queijo minas, salsa de tomates, ma...</td>\n",
              "      <td>27.00</td>\n",
              "      <td>crepioca</td>\n",
              "      <td>1 pessoa</td>\n",
              "    </tr>\n",
              "    <tr>\n",
              "      <th>22</th>\n",
              "      <td>Brahma</td>\n",
              "      <td>0.0% álcool</td>\n",
              "      <td>6.90</td>\n",
              "      <td>cerveja</td>\n",
              "      <td>long neck</td>\n",
              "    </tr>\n",
              "    <tr>\n",
              "      <th>23</th>\n",
              "      <td>Corona</td>\n",
              "      <td>acompanhado de copo com limão</td>\n",
              "      <td>11.90</td>\n",
              "      <td>cerveja</td>\n",
              "      <td>long neck</td>\n",
              "    </tr>\n",
              "    <tr>\n",
              "      <th>24</th>\n",
              "      <td>Colorado</td>\n",
              "      <td>Indica</td>\n",
              "      <td>25.90</td>\n",
              "      <td>cerveja</td>\n",
              "      <td>600ml</td>\n",
              "    </tr>\n",
              "    <tr>\n",
              "      <th>25</th>\n",
              "      <td>Appia</td>\n",
              "      <td>Colorado</td>\n",
              "      <td>25.90</td>\n",
              "      <td>cerveja</td>\n",
              "      <td>600ml</td>\n",
              "    </tr>\n",
              "    <tr>\n",
              "      <th>26</th>\n",
              "      <td>Stella Artois</td>\n",
              "      <td>Stella Artois Long Neck</td>\n",
              "      <td>5.99</td>\n",
              "      <td>cerveja</td>\n",
              "      <td>long neck</td>\n",
              "    </tr>\n",
              "    <tr>\n",
              "      <th>27</th>\n",
              "      <td>Jack Daniels</td>\n",
              "      <td>com água de coco separado</td>\n",
              "      <td>29.90</td>\n",
              "      <td>whisky</td>\n",
              "      <td>dose</td>\n",
              "    </tr>\n",
              "    <tr>\n",
              "      <th>28</th>\n",
              "      <td>Red Label</td>\n",
              "      <td>com 03 águas de coco</td>\n",
              "      <td>299.00</td>\n",
              "      <td>whisky</td>\n",
              "      <td>combo</td>\n",
              "    </tr>\n",
              "    <tr>\n",
              "      <th>29</th>\n",
              "      <td>Absolut</td>\n",
              "      <td>Original</td>\n",
              "      <td>249.00</td>\n",
              "      <td>vodka</td>\n",
              "      <td>1l</td>\n",
              "    </tr>\n",
              "    <tr>\n",
              "      <th>30</th>\n",
              "      <td>Ciroc</td>\n",
              "      <td></td>\n",
              "      <td>1890.00</td>\n",
              "      <td>vodka</td>\n",
              "      <td>3l</td>\n",
              "    </tr>\n",
              "    <tr>\n",
              "      <th>31</th>\n",
              "      <td>Beffeater pink</td>\n",
              "      <td>com 05 red bull tropical</td>\n",
              "      <td>359.00</td>\n",
              "      <td>gin</td>\n",
              "      <td>combo</td>\n",
              "    </tr>\n",
              "    <tr>\n",
              "      <th>32</th>\n",
              "      <td>Taqueray Experience</td>\n",
              "      <td>com 05 tônicas</td>\n",
              "      <td>559.00</td>\n",
              "      <td>gin</td>\n",
              "      <td>combo</td>\n",
              "    </tr>\n",
              "    <tr>\n",
              "      <th>33</th>\n",
              "      <td>Viejo Rincon Reserva</td>\n",
              "      <td>Uva: Malbec. País: Argentina</td>\n",
              "      <td>79.00</td>\n",
              "      <td>vinho tinto</td>\n",
              "      <td>taça</td>\n",
              "    </tr>\n",
              "    <tr>\n",
              "      <th>34</th>\n",
              "      <td>Semblante</td>\n",
              "      <td>Uva: Carbenet Sauvignon. País: Chile</td>\n",
              "      <td>31.99</td>\n",
              "      <td>vinho tinto</td>\n",
              "      <td>taça</td>\n",
              "    </tr>\n",
              "    <tr>\n",
              "      <th>35</th>\n",
              "      <td>Veuve Clicquot</td>\n",
              "      <td>Ponsardin Brut</td>\n",
              "      <td>529.00</td>\n",
              "      <td>espumante</td>\n",
              "      <td>garrafa</td>\n",
              "    </tr>\n",
              "    <tr>\n",
              "      <th>36</th>\n",
              "      <td>Chandon Passion</td>\n",
              "      <td>Demi-Sec</td>\n",
              "      <td>144.99</td>\n",
              "      <td>espumante</td>\n",
              "      <td>garrafa</td>\n",
              "    </tr>\n",
              "    <tr>\n",
              "      <th>37</th>\n",
              "      <td>Capitão Sharky</td>\n",
              "      <td>Abacaxi, Xarope de frutas vermelhas, mix de cí...</td>\n",
              "      <td>45.90</td>\n",
              "      <td>softdrink</td>\n",
              "      <td>500ml</td>\n",
              "    </tr>\n",
              "    <tr>\n",
              "      <th>38</th>\n",
              "      <td>Alto mar</td>\n",
              "      <td>Manjericão orgânico, Xarope de maçã verde, Mix...</td>\n",
              "      <td>27.90</td>\n",
              "      <td>softdrink</td>\n",
              "      <td>330ml</td>\n",
              "    </tr>\n",
              "    <tr>\n",
              "      <th>39</th>\n",
              "      <td>Red Bull</td>\n",
              "      <td>Tropical</td>\n",
              "      <td>12.90</td>\n",
              "      <td>softdrink</td>\n",
              "      <td>lata</td>\n",
              "    </tr>\n",
              "    <tr>\n",
              "      <th>40</th>\n",
              "      <td>Beira mar</td>\n",
              "      <td>Ostras frescas de Santa Catarina</td>\n",
              "      <td>17.99</td>\n",
              "      <td>petisco</td>\n",
              "      <td>unidade</td>\n",
              "    </tr>\n",
              "    <tr>\n",
              "      <th>41</th>\n",
              "      <td>Coca cola</td>\n",
              "      <td>Original</td>\n",
              "      <td>9.90</td>\n",
              "      <td>refrigerante</td>\n",
              "      <td>2l</td>\n",
              "    </tr>\n",
              "    <tr>\n",
              "      <th>42</th>\n",
              "      <td>Pepsi</td>\n",
              "      <td>Refrigerante</td>\n",
              "      <td>6.90</td>\n",
              "      <td>refrigerante</td>\n",
              "      <td>lata</td>\n",
              "    </tr>\n",
              "    <tr>\n",
              "      <th>43</th>\n",
              "      <td>Suco</td>\n",
              "      <td>Acerola com Laranja, Frutas vermelhas ou Abaca...</td>\n",
              "      <td>8.99</td>\n",
              "      <td>suco</td>\n",
              "      <td>copo</td>\n",
              "    </tr>\n",
              "    <tr>\n",
              "      <th>44</th>\n",
              "      <td>Suco</td>\n",
              "      <td>Acerola, Laranja, Maracujá ou Limonada</td>\n",
              "      <td>23.99</td>\n",
              "      <td>suco</td>\n",
              "      <td>jarra</td>\n",
              "    </tr>\n",
              "    <tr>\n",
              "      <th>45</th>\n",
              "      <td>Caiaque</td>\n",
              "      <td>Massa ao molho de queijo e iscas de filé migno...</td>\n",
              "      <td>36.00</td>\n",
              "      <td>infantil</td>\n",
              "      <td>1 pessoa</td>\n",
              "    </tr>\n",
              "    <tr>\n",
              "      <th>46</th>\n",
              "      <td>Água</td>\n",
              "      <td>com Gás</td>\n",
              "      <td>6.90</td>\n",
              "      <td>bebida</td>\n",
              "      <td>330ml</td>\n",
              "    </tr>\n",
              "    <tr>\n",
              "      <th>47</th>\n",
              "      <td>Água</td>\n",
              "      <td>sem Gás</td>\n",
              "      <td>4.90</td>\n",
              "      <td>bebida</td>\n",
              "      <td>330ml</td>\n",
              "    </tr>\n",
              "    <tr>\n",
              "      <th>48</th>\n",
              "      <td>Campari</td>\n",
              "      <td>Bitter</td>\n",
              "      <td>9.90</td>\n",
              "      <td>cachaça</td>\n",
              "      <td>dose</td>\n",
              "    </tr>\n",
              "    <tr>\n",
              "      <th>49</th>\n",
              "      <td>Cachaça</td>\n",
              "      <td>Princesa Isabel</td>\n",
              "      <td>11.90</td>\n",
              "      <td>cachaça</td>\n",
              "      <td>dose</td>\n",
              "    </tr>\n",
              "  </tbody>\n",
              "</table>\n",
              "</div>"
            ],
            "text/plain": [
              "                     nome  ...    tamanho\n",
              "0                Rua Sete  ...   1 pessoa\n",
              "1           Reta da Penha  ...   1 pessoa\n",
              "2              Cidade Sol  ...      330ml\n",
              "3              Barlavento  ...      330ml\n",
              "4   Bons ventos te trazem  ...      330ml\n",
              "5           Brasil Brasil  ...         2l\n",
              "6            Pituã Island  ...      500ml\n",
              "7                  Mojito  ...         1l\n",
              "8           Gruta da onça  ...  3 pessoas\n",
              "9              Paneleiras  ...  4 pessoas\n",
              "10       Palácio Anchieta  ...  5 pessoas\n",
              "11      Convento da Penha  ...  2 pessoas\n",
              "12         Parque Moscoso  ...  2 pessoas\n",
              "13          Ilha do Frade  ...  2 pessoas\n",
              "14           Ilha de Socó  ...   1 pessoa\n",
              "15  Chungara Gran Reserva  ...       taça\n",
              "16          Borgo Magredo  ...    garrafa\n",
              "17                Maresia  ...   1 pessoa\n",
              "18                  Brisa  ...   1 pessoa\n",
              "19             Marinheiro  ...   1 pessoa\n",
              "20                 Marujo  ...   1 pessoa\n",
              "21                 Arrais  ...   1 pessoa\n",
              "22                 Brahma  ...  long neck\n",
              "23                 Corona  ...  long neck\n",
              "24               Colorado  ...      600ml\n",
              "25                  Appia  ...      600ml\n",
              "26          Stella Artois  ...  long neck\n",
              "27           Jack Daniels  ...       dose\n",
              "28              Red Label  ...      combo\n",
              "29                Absolut  ...         1l\n",
              "30                  Ciroc  ...         3l\n",
              "31         Beffeater pink  ...      combo\n",
              "32    Taqueray Experience  ...      combo\n",
              "33   Viejo Rincon Reserva  ...       taça\n",
              "34              Semblante  ...       taça\n",
              "35         Veuve Clicquot  ...    garrafa\n",
              "36        Chandon Passion  ...    garrafa\n",
              "37         Capitão Sharky  ...      500ml\n",
              "38               Alto mar  ...      330ml\n",
              "39               Red Bull  ...       lata\n",
              "40              Beira mar  ...    unidade\n",
              "41              Coca cola  ...         2l\n",
              "42                  Pepsi  ...       lata\n",
              "43                   Suco  ...       copo\n",
              "44                   Suco  ...      jarra\n",
              "45                Caiaque  ...   1 pessoa\n",
              "46                   Água  ...      330ml\n",
              "47                   Água  ...      330ml\n",
              "48                Campari  ...       dose\n",
              "49                Cachaça  ...       dose\n",
              "\n",
              "[50 rows x 5 columns]"
            ]
          },
          "metadata": {
            "tags": []
          },
          "execution_count": 26
        }
      ]
    },
    {
      "cell_type": "markdown",
      "metadata": {
        "colab_type": "text",
        "id": "vO3oLYaop1oV"
      },
      "source": [
        "### Faturamento do dia corrente"
      ]
    },
    {
      "cell_type": "code",
      "metadata": {
        "colab_type": "code",
        "id": "GaxnBIQWp1oj",
        "colab": {}
      },
      "source": [
        "cursor_view_faturamento = conn.cursor()\n",
        "cursor_view_faturamento.execute(\"\"\"create or replace view faturamento_diario as\n",
        "                                select sum(preco * quantidade) as valor_total_dia, to_char(data, 'dd-mm-yyyy')\n",
        "                                from item_cardapio as cp\n",
        "                                inner join pedido as p on\n",
        "                                (p.fk_id_itemcardapio = cp.id_itemcardapio)\n",
        "                                inner join comanda as cd on\n",
        "                                (p.fk_id_comanda = cd.id_comanda)\n",
        "                                where data = current_date\n",
        "                                group by data;\"\"\")\n",
        "conn.commit()"
      ],
      "execution_count": 27,
      "outputs": []
    },
    {
      "cell_type": "code",
      "metadata": {
        "colab_type": "code",
        "id": "lms3GRaKp1pJ",
        "colab": {}
      },
      "source": [
        "faturamento = pd.read_sql_query(\"\"\"select * from faturamento_diario\"\"\", conn)"
      ],
      "execution_count": 28,
      "outputs": []
    },
    {
      "cell_type": "code",
      "metadata": {
        "colab_type": "code",
        "id": "kG71mXufp1pi",
        "colab": {
          "base_uri": "https://localhost:8080/",
          "height": 49
        },
        "outputId": "7ace858f-7fb8-4e4f-afa8-3e7aeafc4b98"
      },
      "source": [
        "faturamento"
      ],
      "execution_count": 29,
      "outputs": [
        {
          "output_type": "execute_result",
          "data": {
            "text/html": [
              "<div>\n",
              "<style scoped>\n",
              "    .dataframe tbody tr th:only-of-type {\n",
              "        vertical-align: middle;\n",
              "    }\n",
              "\n",
              "    .dataframe tbody tr th {\n",
              "        vertical-align: top;\n",
              "    }\n",
              "\n",
              "    .dataframe thead th {\n",
              "        text-align: right;\n",
              "    }\n",
              "</style>\n",
              "<table border=\"1\" class=\"dataframe\">\n",
              "  <thead>\n",
              "    <tr style=\"text-align: right;\">\n",
              "      <th></th>\n",
              "      <th>valor_total_dia</th>\n",
              "      <th>to_char</th>\n",
              "    </tr>\n",
              "  </thead>\n",
              "  <tbody>\n",
              "  </tbody>\n",
              "</table>\n",
              "</div>"
            ],
            "text/plain": [
              "Empty DataFrame\n",
              "Columns: [valor_total_dia, to_char]\n",
              "Index: []"
            ]
          },
          "metadata": {
            "tags": []
          },
          "execution_count": 29
        }
      ]
    },
    {
      "cell_type": "markdown",
      "metadata": {
        "id": "1_myo6lLyGtZ",
        "colab_type": "text"
      },
      "source": [
        "**OBS:** De fato não há faturamento no dia corrente, por isso a consulta veio vazia"
      ]
    },
    {
      "cell_type": "markdown",
      "metadata": {
        "colab_type": "text",
        "id": "fWir2-Dpp_pS"
      },
      "source": [
        "### Gasto cliente no mês anterior"
      ]
    },
    {
      "cell_type": "code",
      "metadata": {
        "colab_type": "code",
        "id": "qjc1GWmRp_pd",
        "colab": {}
      },
      "source": [
        "cursor_view_gasto = conn.cursor()\n",
        "cursor_view_gasto.execute(\"\"\"create or replace view gasto_cliente as\n",
        "                              select nome_cliente, sum(quantidade * preco) as valor_comanda\n",
        "                              from comanda as cd\n",
        "                              inner join pedido as p on\n",
        "                              (cd.id_comanda = p.fk_id_comanda)\n",
        "                              inner join item_cardapio as cp on\n",
        "                              (p.fk_id_itemcardapio = cp.id_itemcardapio)\n",
        "                              inner join cliente as c on\n",
        "                              (cd.fk_id_cliente = c.id_cliente)\n",
        "                              where date_part('month',data) = date_part('month',(current_date + INTERVAL '-1 month')) and date_part('year',data) = date_part('year',(current_date + INTERVAL '-1 month'))\n",
        "                              group by nome_cliente\n",
        "                              order by valor_comanda desc;\"\"\")\n",
        "conn.commit()\n"
      ],
      "execution_count": 31,
      "outputs": []
    },
    {
      "cell_type": "code",
      "metadata": {
        "colab_type": "code",
        "id": "nHGBpfzgp_qA",
        "colab": {}
      },
      "source": [
        "gasto = pd.read_sql_query(\"\"\"select * from gasto_cliente\"\"\", conn)"
      ],
      "execution_count": 32,
      "outputs": []
    },
    {
      "cell_type": "code",
      "metadata": {
        "colab_type": "code",
        "id": "R5MxNtA7p_qd",
        "colab": {
          "base_uri": "https://localhost:8080/",
          "height": 677
        },
        "outputId": "bf1f8f82-f0b9-4c2a-9532-7777220a00cf"
      },
      "source": [
        "gasto"
      ],
      "execution_count": 33,
      "outputs": [
        {
          "output_type": "execute_result",
          "data": {
            "text/html": [
              "<div>\n",
              "<style scoped>\n",
              "    .dataframe tbody tr th:only-of-type {\n",
              "        vertical-align: middle;\n",
              "    }\n",
              "\n",
              "    .dataframe tbody tr th {\n",
              "        vertical-align: top;\n",
              "    }\n",
              "\n",
              "    .dataframe thead th {\n",
              "        text-align: right;\n",
              "    }\n",
              "</style>\n",
              "<table border=\"1\" class=\"dataframe\">\n",
              "  <thead>\n",
              "    <tr style=\"text-align: right;\">\n",
              "      <th></th>\n",
              "      <th>nome_cliente</th>\n",
              "      <th>valor_comanda</th>\n",
              "    </tr>\n",
              "  </thead>\n",
              "  <tbody>\n",
              "    <tr>\n",
              "      <th>0</th>\n",
              "      <td>Clara</td>\n",
              "      <td>1929.60</td>\n",
              "    </tr>\n",
              "    <tr>\n",
              "      <th>1</th>\n",
              "      <td>Davi</td>\n",
              "      <td>1411.49</td>\n",
              "    </tr>\n",
              "    <tr>\n",
              "      <th>2</th>\n",
              "      <td>Henrique</td>\n",
              "      <td>1168.79</td>\n",
              "    </tr>\n",
              "    <tr>\n",
              "      <th>3</th>\n",
              "      <td>Ana</td>\n",
              "      <td>1036.98</td>\n",
              "    </tr>\n",
              "    <tr>\n",
              "      <th>4</th>\n",
              "      <td>Tais</td>\n",
              "      <td>906.87</td>\n",
              "    </tr>\n",
              "    <tr>\n",
              "      <th>5</th>\n",
              "      <td>Isabella</td>\n",
              "      <td>880.67</td>\n",
              "    </tr>\n",
              "    <tr>\n",
              "      <th>6</th>\n",
              "      <td>Bento</td>\n",
              "      <td>780.97</td>\n",
              "    </tr>\n",
              "    <tr>\n",
              "      <th>7</th>\n",
              "      <td>Moises</td>\n",
              "      <td>634.00</td>\n",
              "    </tr>\n",
              "    <tr>\n",
              "      <th>8</th>\n",
              "      <td>Luiza</td>\n",
              "      <td>560.99</td>\n",
              "    </tr>\n",
              "    <tr>\n",
              "      <th>9</th>\n",
              "      <td>Jorge</td>\n",
              "      <td>485.30</td>\n",
              "    </tr>\n",
              "    <tr>\n",
              "      <th>10</th>\n",
              "      <td>Milton</td>\n",
              "      <td>224.00</td>\n",
              "    </tr>\n",
              "    <tr>\n",
              "      <th>11</th>\n",
              "      <td>Lara</td>\n",
              "      <td>218.57</td>\n",
              "    </tr>\n",
              "    <tr>\n",
              "      <th>12</th>\n",
              "      <td>Mauro</td>\n",
              "      <td>122.80</td>\n",
              "    </tr>\n",
              "    <tr>\n",
              "      <th>13</th>\n",
              "      <td>Thiago</td>\n",
              "      <td>121.59</td>\n",
              "    </tr>\n",
              "    <tr>\n",
              "      <th>14</th>\n",
              "      <td>Clarice</td>\n",
              "      <td>88.86</td>\n",
              "    </tr>\n",
              "    <tr>\n",
              "      <th>15</th>\n",
              "      <td>Antonella</td>\n",
              "      <td>85.60</td>\n",
              "    </tr>\n",
              "    <tr>\n",
              "      <th>16</th>\n",
              "      <td>Eduarda</td>\n",
              "      <td>75.80</td>\n",
              "    </tr>\n",
              "    <tr>\n",
              "      <th>17</th>\n",
              "      <td>Diego</td>\n",
              "      <td>67.80</td>\n",
              "    </tr>\n",
              "    <tr>\n",
              "      <th>18</th>\n",
              "      <td>Gabrielle</td>\n",
              "      <td>56.40</td>\n",
              "    </tr>\n",
              "    <tr>\n",
              "      <th>19</th>\n",
              "      <td>José Geraldo</td>\n",
              "      <td>51.90</td>\n",
              "    </tr>\n",
              "  </tbody>\n",
              "</table>\n",
              "</div>"
            ],
            "text/plain": [
              "    nome_cliente  valor_comanda\n",
              "0          Clara        1929.60\n",
              "1           Davi        1411.49\n",
              "2       Henrique        1168.79\n",
              "3            Ana        1036.98\n",
              "4           Tais         906.87\n",
              "5       Isabella         880.67\n",
              "6          Bento         780.97\n",
              "7         Moises         634.00\n",
              "8          Luiza         560.99\n",
              "9          Jorge         485.30\n",
              "10        Milton         224.00\n",
              "11          Lara         218.57\n",
              "12         Mauro         122.80\n",
              "13        Thiago         121.59\n",
              "14       Clarice          88.86\n",
              "15     Antonella          85.60\n",
              "16       Eduarda          75.80\n",
              "17         Diego          67.80\n",
              "18     Gabrielle          56.40\n",
              "19  José Geraldo          51.90"
            ]
          },
          "metadata": {
            "tags": []
          },
          "execution_count": 33
        }
      ]
    }
  ]
}