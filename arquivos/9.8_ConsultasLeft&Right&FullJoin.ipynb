{
  "nbformat": 4,
  "nbformat_minor": 0,
  "metadata": {
    "colab": {
      "name": "9.8_ConsultasLeft&Right&FullJoin.ipynb",
      "provenance": [],
      "collapsed_sections": [
        "-rho2dWh5QjC",
        "YJiKpFUr5Qjh",
        "gn9UW_KU5QkF",
        "mhZyBD8U5Qkl"
      ],
      "include_colab_link": true
    },
    "kernelspec": {
      "name": "python3",
      "display_name": "Python 3"
    }
  },
  "cells": [
    {
      "cell_type": "markdown",
      "metadata": {
        "id": "view-in-github",
        "colab_type": "text"
      },
      "source": [
        "<a href=\"https://colab.research.google.com/github/adudars/PedidON/blob/master/arquivos/9.8_ConsultasLeft%26Right%26FullJoin.ipynb\" target=\"_parent\"><img src=\"https://colab.research.google.com/assets/colab-badge.svg\" alt=\"Open In Colab\"/></a>"
      ]
    },
    {
      "cell_type": "markdown",
      "metadata": {
        "id": "tbJ_4aYwENvD",
        "colab_type": "text"
      },
      "source": [
        "# 9.8 CONSULTAS COM LEFT, RIGHT e FULL JOIN"
      ]
    },
    {
      "cell_type": "markdown",
      "metadata": {
        "id": "N_SPUL1wC9Cy",
        "colab_type": "text"
      },
      "source": [
        "## ESTABELECENDO CONEXÃO\n",
        "\n",
        "\n"
      ]
    },
    {
      "cell_type": "markdown",
      "metadata": {
        "id": "2Zu6LMx9FZ2o",
        "colab_type": "text"
      },
      "source": [
        "### Instalando bibliotecas de acesso"
      ]
    },
    {
      "cell_type": "code",
      "metadata": {
        "id": "7y0VZn5eGT_B",
        "colab_type": "code",
        "colab": {}
      },
      "source": [
        "#!pip install --user psycopg2-binary\n",
        "#!pip install --user pandas"
      ],
      "execution_count": 1,
      "outputs": []
    },
    {
      "cell_type": "markdown",
      "metadata": {
        "id": "BiXhsGizEb4p",
        "colab_type": "text"
      },
      "source": [
        "### Importando bibliotecas"
      ]
    },
    {
      "cell_type": "code",
      "metadata": {
        "id": "pEEUdYDuqCHv",
        "colab_type": "code",
        "colab": {
          "base_uri": "https://localhost:8080/",
          "height": 70
        },
        "outputId": "62feecb7-6bb2-4562-936e-fe1b9f3f4c32"
      },
      "source": [
        "import pandas as pd\n",
        "import psycopg2"
      ],
      "execution_count": 2,
      "outputs": [
        {
          "output_type": "stream",
          "text": [
            "/usr/local/lib/python3.6/dist-packages/psycopg2/__init__.py:144: UserWarning: The psycopg2 wheel package will be renamed from release 2.8; in order to keep installing from binary please use \"pip install psycopg2-binary\" instead. For details see: <http://initd.org/psycopg/docs/install.html#binary-install-from-pypi>.\n",
            "  \"\"\")\n"
          ],
          "name": "stderr"
        }
      ]
    },
    {
      "cell_type": "markdown",
      "metadata": {
        "id": "pbbw322lDEC6",
        "colab_type": "text"
      },
      "source": [
        "### Conectando com o banco através do psycopg2"
      ]
    },
    {
      "cell_type": "code",
      "metadata": {
        "id": "hWeCAx6Wvgqv",
        "colab_type": "code",
        "colab": {}
      },
      "source": [
        "conn = psycopg2.connect(host=\"lallah.db.elephantsql.com\",database=\"nxthbnlu\", user=\"nxthbnlu\", password=\"buyAYKsY17pqexg1grIcJaWm0gHBsO2F\")"
      ],
      "execution_count": 3,
      "outputs": []
    },
    {
      "cell_type": "markdown",
      "metadata": {
        "id": "P0uP7FEoLDOc",
        "colab_type": "text"
      },
      "source": [
        "## CONSULTAS"
      ]
    },
    {
      "cell_type": "code",
      "metadata": {
        "id": "Izc7k3_804dm",
        "colab_type": "code",
        "colab": {}
      },
      "source": [
        "query1 = pd.read_sql_query(\"\"\"\n",
        "select id_pedido, descricao_item, descricao_obs\n",
        "from pedido as p\n",
        "inner join item_cardapio as ic on\n",
        "(p.fk_id_itemcardapio = ic.id_itemcardapio)\n",
        "left join observacao as o on\n",
        "(o.fk_id_pedido = p.id_pedido)\n",
        "\"\"\", conn)"
      ],
      "execution_count": 4,
      "outputs": []
    },
    {
      "cell_type": "code",
      "metadata": {
        "id": "iZJrIsT604H_",
        "colab_type": "code",
        "colab": {
          "base_uri": "https://localhost:8080/",
          "height": 402
        },
        "outputId": "ec5cd626-f593-47d1-f88b-325e04e47c46"
      },
      "source": [
        "query1"
      ],
      "execution_count": 5,
      "outputs": [
        {
          "output_type": "execute_result",
          "data": {
            "text/html": [
              "<div>\n",
              "<style scoped>\n",
              "    .dataframe tbody tr th:only-of-type {\n",
              "        vertical-align: middle;\n",
              "    }\n",
              "\n",
              "    .dataframe tbody tr th {\n",
              "        vertical-align: top;\n",
              "    }\n",
              "\n",
              "    .dataframe thead th {\n",
              "        text-align: right;\n",
              "    }\n",
              "</style>\n",
              "<table border=\"1\" class=\"dataframe\">\n",
              "  <thead>\n",
              "    <tr style=\"text-align: right;\">\n",
              "      <th></th>\n",
              "      <th>id_pedido</th>\n",
              "      <th>descricao_item</th>\n",
              "      <th>descricao_obs</th>\n",
              "    </tr>\n",
              "  </thead>\n",
              "  <tbody>\n",
              "    <tr>\n",
              "      <th>0</th>\n",
              "      <td>1</td>\n",
              "      <td>Filé Mignon marinado na mostarda antiga, servi...</td>\n",
              "      <td>Sem sal</td>\n",
              "    </tr>\n",
              "    <tr>\n",
              "      <th>1</th>\n",
              "      <td>4</td>\n",
              "      <td>Peixe do dia servido inteiro e assado com limã...</td>\n",
              "      <td>Um prato e talher extra</td>\n",
              "    </tr>\n",
              "    <tr>\n",
              "      <th>2</th>\n",
              "      <td>5</td>\n",
              "      <td>Chocolate em mousse fria e semi congelada com ...</td>\n",
              "      <td>Sem nozes</td>\n",
              "    </tr>\n",
              "    <tr>\n",
              "      <th>3</th>\n",
              "      <td>7</td>\n",
              "      <td>Gin, xarope de morango, maracujá, suco de lara...</td>\n",
              "      <td>Sem espuma</td>\n",
              "    </tr>\n",
              "    <tr>\n",
              "      <th>4</th>\n",
              "      <td>9</td>\n",
              "      <td>Refrigerante</td>\n",
              "      <td>Dois copos com gelo e limão</td>\n",
              "    </tr>\n",
              "    <tr>\n",
              "      <th>...</th>\n",
              "      <td>...</td>\n",
              "      <td>...</td>\n",
              "      <td>...</td>\n",
              "    </tr>\n",
              "    <tr>\n",
              "      <th>72</th>\n",
              "      <td>75</td>\n",
              "      <td>Colorado</td>\n",
              "      <td>None</td>\n",
              "    </tr>\n",
              "    <tr>\n",
              "      <th>73</th>\n",
              "      <td>43</td>\n",
              "      <td>com Gás</td>\n",
              "      <td>None</td>\n",
              "    </tr>\n",
              "    <tr>\n",
              "      <th>74</th>\n",
              "      <td>3</td>\n",
              "      <td>Polvo à galega - Polvo cozido servido com sal ...</td>\n",
              "      <td>None</td>\n",
              "    </tr>\n",
              "    <tr>\n",
              "      <th>75</th>\n",
              "      <td>61</td>\n",
              "      <td>Crepioca de cogumelos salteados no azeito de t...</td>\n",
              "      <td>None</td>\n",
              "    </tr>\n",
              "    <tr>\n",
              "      <th>76</th>\n",
              "      <td>63</td>\n",
              "      <td>Cachaça de Umburana, manjericão orgânico, mix ...</td>\n",
              "      <td>None</td>\n",
              "    </tr>\n",
              "  </tbody>\n",
              "</table>\n",
              "<p>77 rows × 3 columns</p>\n",
              "</div>"
            ],
            "text/plain": [
              "    id_pedido  ...                descricao_obs\n",
              "0           1  ...                      Sem sal\n",
              "1           4  ...      Um prato e talher extra\n",
              "2           5  ...                    Sem nozes\n",
              "3           7  ...                   Sem espuma\n",
              "4           9  ...  Dois copos com gelo e limão\n",
              "..        ...  ...                          ...\n",
              "72         75  ...                         None\n",
              "73         43  ...                         None\n",
              "74          3  ...                         None\n",
              "75         61  ...                         None\n",
              "76         63  ...                         None\n",
              "\n",
              "[77 rows x 3 columns]"
            ]
          },
          "metadata": {
            "tags": []
          },
          "execution_count": 5
        }
      ]
    },
    {
      "cell_type": "code",
      "metadata": {
        "id": "zkw_nUTS031u",
        "colab_type": "code",
        "colab": {}
      },
      "source": [
        "query2 = pd.read_sql_query(\"\"\"\n",
        "select * from observacao \n",
        "right join pedido on observacao.fk_id_pedido = pedido.id_pedido;\n",
        "\"\"\", conn)"
      ],
      "execution_count": 6,
      "outputs": []
    },
    {
      "cell_type": "code",
      "metadata": {
        "id": "rnAjsYEi03mm",
        "colab_type": "code",
        "colab": {
          "base_uri": "https://localhost:8080/",
          "height": 402
        },
        "outputId": "82efba0e-8380-43e6-8c1d-a8d73d773ed5"
      },
      "source": [
        "query2"
      ],
      "execution_count": 7,
      "outputs": [
        {
          "output_type": "execute_result",
          "data": {
            "text/html": [
              "<div>\n",
              "<style scoped>\n",
              "    .dataframe tbody tr th:only-of-type {\n",
              "        vertical-align: middle;\n",
              "    }\n",
              "\n",
              "    .dataframe tbody tr th {\n",
              "        vertical-align: top;\n",
              "    }\n",
              "\n",
              "    .dataframe thead th {\n",
              "        text-align: right;\n",
              "    }\n",
              "</style>\n",
              "<table border=\"1\" class=\"dataframe\">\n",
              "  <thead>\n",
              "    <tr style=\"text-align: right;\">\n",
              "      <th></th>\n",
              "      <th>id_obs</th>\n",
              "      <th>descricao_obs</th>\n",
              "      <th>fk_id_pedido</th>\n",
              "      <th>id_pedido</th>\n",
              "      <th>quantidade</th>\n",
              "      <th>hora</th>\n",
              "      <th>fk_id_comanda</th>\n",
              "      <th>fk_id_itemcardapio</th>\n",
              "    </tr>\n",
              "  </thead>\n",
              "  <tbody>\n",
              "    <tr>\n",
              "      <th>0</th>\n",
              "      <td>1.0</td>\n",
              "      <td>Sem sal</td>\n",
              "      <td>1.0</td>\n",
              "      <td>1</td>\n",
              "      <td>2</td>\n",
              "      <td>12:58:00</td>\n",
              "      <td>1</td>\n",
              "      <td>1</td>\n",
              "    </tr>\n",
              "    <tr>\n",
              "      <th>1</th>\n",
              "      <td>2.0</td>\n",
              "      <td>Um prato e talher extra</td>\n",
              "      <td>4.0</td>\n",
              "      <td>4</td>\n",
              "      <td>3</td>\n",
              "      <td>12:45:00</td>\n",
              "      <td>3</td>\n",
              "      <td>4</td>\n",
              "    </tr>\n",
              "    <tr>\n",
              "      <th>2</th>\n",
              "      <td>3.0</td>\n",
              "      <td>Sem nozes</td>\n",
              "      <td>5.0</td>\n",
              "      <td>5</td>\n",
              "      <td>1</td>\n",
              "      <td>12:45:00</td>\n",
              "      <td>3</td>\n",
              "      <td>5</td>\n",
              "    </tr>\n",
              "    <tr>\n",
              "      <th>3</th>\n",
              "      <td>4.0</td>\n",
              "      <td>Sem espuma</td>\n",
              "      <td>7.0</td>\n",
              "      <td>7</td>\n",
              "      <td>1</td>\n",
              "      <td>12:23:00</td>\n",
              "      <td>4</td>\n",
              "      <td>7</td>\n",
              "    </tr>\n",
              "    <tr>\n",
              "      <th>4</th>\n",
              "      <td>5.0</td>\n",
              "      <td>Dois copos com gelo e limão</td>\n",
              "      <td>9.0</td>\n",
              "      <td>9</td>\n",
              "      <td>2</td>\n",
              "      <td>13:42:00</td>\n",
              "      <td>5</td>\n",
              "      <td>9</td>\n",
              "    </tr>\n",
              "    <tr>\n",
              "      <th>...</th>\n",
              "      <td>...</td>\n",
              "      <td>...</td>\n",
              "      <td>...</td>\n",
              "      <td>...</td>\n",
              "      <td>...</td>\n",
              "      <td>...</td>\n",
              "      <td>...</td>\n",
              "      <td>...</td>\n",
              "    </tr>\n",
              "    <tr>\n",
              "      <th>72</th>\n",
              "      <td>NaN</td>\n",
              "      <td>None</td>\n",
              "      <td>NaN</td>\n",
              "      <td>75</td>\n",
              "      <td>4</td>\n",
              "      <td>13:37:00</td>\n",
              "      <td>71</td>\n",
              "      <td>16</td>\n",
              "    </tr>\n",
              "    <tr>\n",
              "      <th>73</th>\n",
              "      <td>NaN</td>\n",
              "      <td>None</td>\n",
              "      <td>NaN</td>\n",
              "      <td>43</td>\n",
              "      <td>1</td>\n",
              "      <td>13:45:00</td>\n",
              "      <td>31</td>\n",
              "      <td>28</td>\n",
              "    </tr>\n",
              "    <tr>\n",
              "      <th>74</th>\n",
              "      <td>NaN</td>\n",
              "      <td>None</td>\n",
              "      <td>NaN</td>\n",
              "      <td>3</td>\n",
              "      <td>1</td>\n",
              "      <td>12:34:00</td>\n",
              "      <td>2</td>\n",
              "      <td>3</td>\n",
              "    </tr>\n",
              "    <tr>\n",
              "      <th>75</th>\n",
              "      <td>NaN</td>\n",
              "      <td>None</td>\n",
              "      <td>NaN</td>\n",
              "      <td>61</td>\n",
              "      <td>3</td>\n",
              "      <td>13:23:00</td>\n",
              "      <td>49</td>\n",
              "      <td>46</td>\n",
              "    </tr>\n",
              "    <tr>\n",
              "      <th>76</th>\n",
              "      <td>NaN</td>\n",
              "      <td>None</td>\n",
              "      <td>NaN</td>\n",
              "      <td>63</td>\n",
              "      <td>1</td>\n",
              "      <td>13:34:00</td>\n",
              "      <td>61</td>\n",
              "      <td>48</td>\n",
              "    </tr>\n",
              "  </tbody>\n",
              "</table>\n",
              "<p>77 rows × 8 columns</p>\n",
              "</div>"
            ],
            "text/plain": [
              "    id_obs                descricao_obs  ...  fk_id_comanda  fk_id_itemcardapio\n",
              "0      1.0                      Sem sal  ...              1                   1\n",
              "1      2.0      Um prato e talher extra  ...              3                   4\n",
              "2      3.0                    Sem nozes  ...              3                   5\n",
              "3      4.0                   Sem espuma  ...              4                   7\n",
              "4      5.0  Dois copos com gelo e limão  ...              5                   9\n",
              "..     ...                          ...  ...            ...                 ...\n",
              "72     NaN                         None  ...             71                  16\n",
              "73     NaN                         None  ...             31                  28\n",
              "74     NaN                         None  ...              2                   3\n",
              "75     NaN                         None  ...             49                  46\n",
              "76     NaN                         None  ...             61                  48\n",
              "\n",
              "[77 rows x 8 columns]"
            ]
          },
          "metadata": {
            "tags": []
          },
          "execution_count": 7
        }
      ]
    },
    {
      "cell_type": "code",
      "metadata": {
        "id": "D_OWYjPi03am",
        "colab_type": "code",
        "colab": {}
      },
      "source": [
        "query3 = pd.read_sql_query(\"\"\"select *\n",
        "from pedido as p\n",
        "full outer join observacao as o on\n",
        "(p.id_pedido = o.fk_id_pedido);\n",
        "\"\"\", conn)"
      ],
      "execution_count": 8,
      "outputs": []
    },
    {
      "cell_type": "code",
      "metadata": {
        "id": "Ul6LxfX-03GW",
        "colab_type": "code",
        "colab": {
          "base_uri": "https://localhost:8080/",
          "height": 402
        },
        "outputId": "39c37533-26da-4834-8707-c4774e43cfb5"
      },
      "source": [
        "query3"
      ],
      "execution_count": 9,
      "outputs": [
        {
          "output_type": "execute_result",
          "data": {
            "text/html": [
              "<div>\n",
              "<style scoped>\n",
              "    .dataframe tbody tr th:only-of-type {\n",
              "        vertical-align: middle;\n",
              "    }\n",
              "\n",
              "    .dataframe tbody tr th {\n",
              "        vertical-align: top;\n",
              "    }\n",
              "\n",
              "    .dataframe thead th {\n",
              "        text-align: right;\n",
              "    }\n",
              "</style>\n",
              "<table border=\"1\" class=\"dataframe\">\n",
              "  <thead>\n",
              "    <tr style=\"text-align: right;\">\n",
              "      <th></th>\n",
              "      <th>id_pedido</th>\n",
              "      <th>quantidade</th>\n",
              "      <th>hora</th>\n",
              "      <th>fk_id_comanda</th>\n",
              "      <th>fk_id_itemcardapio</th>\n",
              "      <th>id_obs</th>\n",
              "      <th>descricao_obs</th>\n",
              "      <th>fk_id_pedido</th>\n",
              "    </tr>\n",
              "  </thead>\n",
              "  <tbody>\n",
              "    <tr>\n",
              "      <th>0</th>\n",
              "      <td>1</td>\n",
              "      <td>2</td>\n",
              "      <td>12:58:00</td>\n",
              "      <td>1</td>\n",
              "      <td>1</td>\n",
              "      <td>1.0</td>\n",
              "      <td>Sem sal</td>\n",
              "      <td>1.0</td>\n",
              "    </tr>\n",
              "    <tr>\n",
              "      <th>1</th>\n",
              "      <td>4</td>\n",
              "      <td>3</td>\n",
              "      <td>12:45:00</td>\n",
              "      <td>3</td>\n",
              "      <td>4</td>\n",
              "      <td>2.0</td>\n",
              "      <td>Um prato e talher extra</td>\n",
              "      <td>4.0</td>\n",
              "    </tr>\n",
              "    <tr>\n",
              "      <th>2</th>\n",
              "      <td>5</td>\n",
              "      <td>1</td>\n",
              "      <td>12:45:00</td>\n",
              "      <td>3</td>\n",
              "      <td>5</td>\n",
              "      <td>3.0</td>\n",
              "      <td>Sem nozes</td>\n",
              "      <td>5.0</td>\n",
              "    </tr>\n",
              "    <tr>\n",
              "      <th>3</th>\n",
              "      <td>7</td>\n",
              "      <td>1</td>\n",
              "      <td>12:23:00</td>\n",
              "      <td>4</td>\n",
              "      <td>7</td>\n",
              "      <td>4.0</td>\n",
              "      <td>Sem espuma</td>\n",
              "      <td>7.0</td>\n",
              "    </tr>\n",
              "    <tr>\n",
              "      <th>4</th>\n",
              "      <td>9</td>\n",
              "      <td>2</td>\n",
              "      <td>13:42:00</td>\n",
              "      <td>5</td>\n",
              "      <td>9</td>\n",
              "      <td>5.0</td>\n",
              "      <td>Dois copos com gelo e limão</td>\n",
              "      <td>9.0</td>\n",
              "    </tr>\n",
              "    <tr>\n",
              "      <th>...</th>\n",
              "      <td>...</td>\n",
              "      <td>...</td>\n",
              "      <td>...</td>\n",
              "      <td>...</td>\n",
              "      <td>...</td>\n",
              "      <td>...</td>\n",
              "      <td>...</td>\n",
              "      <td>...</td>\n",
              "    </tr>\n",
              "    <tr>\n",
              "      <th>72</th>\n",
              "      <td>75</td>\n",
              "      <td>4</td>\n",
              "      <td>13:37:00</td>\n",
              "      <td>71</td>\n",
              "      <td>16</td>\n",
              "      <td>NaN</td>\n",
              "      <td>None</td>\n",
              "      <td>NaN</td>\n",
              "    </tr>\n",
              "    <tr>\n",
              "      <th>73</th>\n",
              "      <td>43</td>\n",
              "      <td>1</td>\n",
              "      <td>13:45:00</td>\n",
              "      <td>31</td>\n",
              "      <td>28</td>\n",
              "      <td>NaN</td>\n",
              "      <td>None</td>\n",
              "      <td>NaN</td>\n",
              "    </tr>\n",
              "    <tr>\n",
              "      <th>74</th>\n",
              "      <td>3</td>\n",
              "      <td>1</td>\n",
              "      <td>12:34:00</td>\n",
              "      <td>2</td>\n",
              "      <td>3</td>\n",
              "      <td>NaN</td>\n",
              "      <td>None</td>\n",
              "      <td>NaN</td>\n",
              "    </tr>\n",
              "    <tr>\n",
              "      <th>75</th>\n",
              "      <td>61</td>\n",
              "      <td>3</td>\n",
              "      <td>13:23:00</td>\n",
              "      <td>49</td>\n",
              "      <td>46</td>\n",
              "      <td>NaN</td>\n",
              "      <td>None</td>\n",
              "      <td>NaN</td>\n",
              "    </tr>\n",
              "    <tr>\n",
              "      <th>76</th>\n",
              "      <td>63</td>\n",
              "      <td>1</td>\n",
              "      <td>13:34:00</td>\n",
              "      <td>61</td>\n",
              "      <td>48</td>\n",
              "      <td>NaN</td>\n",
              "      <td>None</td>\n",
              "      <td>NaN</td>\n",
              "    </tr>\n",
              "  </tbody>\n",
              "</table>\n",
              "<p>77 rows × 8 columns</p>\n",
              "</div>"
            ],
            "text/plain": [
              "    id_pedido  quantidade  ...                descricao_obs  fk_id_pedido\n",
              "0           1           2  ...                      Sem sal           1.0\n",
              "1           4           3  ...      Um prato e talher extra           4.0\n",
              "2           5           1  ...                    Sem nozes           5.0\n",
              "3           7           1  ...                   Sem espuma           7.0\n",
              "4           9           2  ...  Dois copos com gelo e limão           9.0\n",
              "..        ...         ...  ...                          ...           ...\n",
              "72         75           4  ...                         None           NaN\n",
              "73         43           1  ...                         None           NaN\n",
              "74          3           1  ...                         None           NaN\n",
              "75         61           3  ...                         None           NaN\n",
              "76         63           1  ...                         None           NaN\n",
              "\n",
              "[77 rows x 8 columns]"
            ]
          },
          "metadata": {
            "tags": []
          },
          "execution_count": 9
        }
      ]
    },
    {
      "cell_type": "code",
      "metadata": {
        "id": "zv2YguDA02iv",
        "colab_type": "code",
        "colab": {}
      },
      "source": [
        "query4 = pd.read_sql_query(\"\"\"select nome_cliente, id_comanda, quantidade, nome_item\n",
        "from cliente as c\n",
        "inner join comanda as cd on\n",
        "(c.id_cliente = cd.fk_id_cliente)\n",
        "inner join pedido as p on\n",
        "(cd.id_comanda = p.fk_id_comanda)\n",
        "inner join item_cardapio as ic on\n",
        "(p.fk_id_itemcardapio = ic.id_itemcardapio);\n",
        "\"\"\", conn)"
      ],
      "execution_count": 10,
      "outputs": []
    },
    {
      "cell_type": "code",
      "metadata": {
        "id": "w3tFtvRl02Z3",
        "colab_type": "code",
        "colab": {
          "base_uri": "https://localhost:8080/",
          "height": 402
        },
        "outputId": "b8333c74-fdf4-4253-bfb9-64d96763c2f9"
      },
      "source": [
        "query4"
      ],
      "execution_count": 11,
      "outputs": [
        {
          "output_type": "execute_result",
          "data": {
            "text/html": [
              "<div>\n",
              "<style scoped>\n",
              "    .dataframe tbody tr th:only-of-type {\n",
              "        vertical-align: middle;\n",
              "    }\n",
              "\n",
              "    .dataframe tbody tr th {\n",
              "        vertical-align: top;\n",
              "    }\n",
              "\n",
              "    .dataframe thead th {\n",
              "        text-align: right;\n",
              "    }\n",
              "</style>\n",
              "<table border=\"1\" class=\"dataframe\">\n",
              "  <thead>\n",
              "    <tr style=\"text-align: right;\">\n",
              "      <th></th>\n",
              "      <th>nome_cliente</th>\n",
              "      <th>id_comanda</th>\n",
              "      <th>quantidade</th>\n",
              "      <th>nome_item</th>\n",
              "    </tr>\n",
              "  </thead>\n",
              "  <tbody>\n",
              "    <tr>\n",
              "      <th>0</th>\n",
              "      <td>Lara</td>\n",
              "      <td>1</td>\n",
              "      <td>1</td>\n",
              "      <td>Rua Sete</td>\n",
              "    </tr>\n",
              "    <tr>\n",
              "      <th>1</th>\n",
              "      <td>Lara</td>\n",
              "      <td>1</td>\n",
              "      <td>2</td>\n",
              "      <td>Reta da Penha</td>\n",
              "    </tr>\n",
              "    <tr>\n",
              "      <th>2</th>\n",
              "      <td>Jorge</td>\n",
              "      <td>2</td>\n",
              "      <td>1</td>\n",
              "      <td>Parque Moscoso</td>\n",
              "    </tr>\n",
              "    <tr>\n",
              "      <th>3</th>\n",
              "      <td>Clara</td>\n",
              "      <td>3</td>\n",
              "      <td>2</td>\n",
              "      <td>Bons ventos te trazem</td>\n",
              "    </tr>\n",
              "    <tr>\n",
              "      <th>4</th>\n",
              "      <td>Clara</td>\n",
              "      <td>3</td>\n",
              "      <td>1</td>\n",
              "      <td>Ilha de Socó</td>\n",
              "    </tr>\n",
              "    <tr>\n",
              "      <th>...</th>\n",
              "      <td>...</td>\n",
              "      <td>...</td>\n",
              "      <td>...</td>\n",
              "      <td>...</td>\n",
              "    </tr>\n",
              "    <tr>\n",
              "      <th>72</th>\n",
              "      <td>Ana</td>\n",
              "      <td>71</td>\n",
              "      <td>4</td>\n",
              "      <td>Appia</td>\n",
              "    </tr>\n",
              "    <tr>\n",
              "      <th>73</th>\n",
              "      <td>Ana</td>\n",
              "      <td>71</td>\n",
              "      <td>4</td>\n",
              "      <td>Cachaça</td>\n",
              "    </tr>\n",
              "    <tr>\n",
              "      <th>74</th>\n",
              "      <td>Ana</td>\n",
              "      <td>71</td>\n",
              "      <td>4</td>\n",
              "      <td>Brisa</td>\n",
              "    </tr>\n",
              "    <tr>\n",
              "      <th>75</th>\n",
              "      <td>Eduarda</td>\n",
              "      <td>72</td>\n",
              "      <td>1</td>\n",
              "      <td>Ciroc</td>\n",
              "    </tr>\n",
              "    <tr>\n",
              "      <th>76</th>\n",
              "      <td>Eduarda</td>\n",
              "      <td>72</td>\n",
              "      <td>6</td>\n",
              "      <td>Red Bull</td>\n",
              "    </tr>\n",
              "  </tbody>\n",
              "</table>\n",
              "<p>77 rows × 4 columns</p>\n",
              "</div>"
            ],
            "text/plain": [
              "   nome_cliente  id_comanda  quantidade              nome_item\n",
              "0          Lara           1           1               Rua Sete\n",
              "1          Lara           1           2          Reta da Penha\n",
              "2         Jorge           2           1         Parque Moscoso\n",
              "3         Clara           3           2  Bons ventos te trazem\n",
              "4         Clara           3           1           Ilha de Socó\n",
              "..          ...         ...         ...                    ...\n",
              "72          Ana          71           4                  Appia\n",
              "73          Ana          71           4                Cachaça\n",
              "74          Ana          71           4                  Brisa\n",
              "75      Eduarda          72           1                  Ciroc\n",
              "76      Eduarda          72           6               Red Bull\n",
              "\n",
              "[77 rows x 4 columns]"
            ]
          },
          "metadata": {
            "tags": []
          },
          "execution_count": 11
        }
      ]
    }
  ]
}