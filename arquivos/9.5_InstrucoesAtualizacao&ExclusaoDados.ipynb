{
  "nbformat": 4,
  "nbformat_minor": 0,
  "metadata": {
    "colab": {
      "name": "9.5_InstrucoesAtualizacao&ExclusaoDados.ipynb",
      "provenance": [],
      "collapsed_sections": [],
      "include_colab_link": true
    },
    "kernelspec": {
      "name": "python3",
      "display_name": "Python 3"
    }
  },
  "cells": [
    {
      "cell_type": "markdown",
      "metadata": {
        "id": "view-in-github",
        "colab_type": "text"
      },
      "source": [
        "<a href=\"https://colab.research.google.com/github/adudars/PedidON/blob/master/arquivos/9.5_InstrucoesAtualizacao%26ExclusaoDados.ipynb\" target=\"_parent\"><img src=\"https://colab.research.google.com/assets/colab-badge.svg\" alt=\"Open In Colab\"/></a>"
      ]
    },
    {
      "cell_type": "markdown",
      "metadata": {
        "id": "tbJ_4aYwENvD",
        "colab_type": "text"
      },
      "source": [
        "# 9.5 INSTRUÇÕES APLICANDO ATUALIZAÇÃO E EXCLUSÃO DE DADOS"
      ]
    },
    {
      "cell_type": "markdown",
      "metadata": {
        "id": "N_SPUL1wC9Cy",
        "colab_type": "text"
      },
      "source": [
        "## ESTABELECENDO CONEXÃO\n",
        "\n",
        "\n"
      ]
    },
    {
      "cell_type": "markdown",
      "metadata": {
        "id": "2Zu6LMx9FZ2o",
        "colab_type": "text"
      },
      "source": [
        "### Instalando bibliotecas de acesso"
      ]
    },
    {
      "cell_type": "code",
      "metadata": {
        "id": "7y0VZn5eGT_B",
        "colab_type": "code",
        "colab": {}
      },
      "source": [
        "#!pip install --user psycopg2-binary\n",
        "#!pip install --user pandas"
      ],
      "execution_count": null,
      "outputs": []
    },
    {
      "cell_type": "markdown",
      "metadata": {
        "id": "BiXhsGizEb4p",
        "colab_type": "text"
      },
      "source": [
        "### Importando bibliotecas"
      ]
    },
    {
      "cell_type": "code",
      "metadata": {
        "id": "pEEUdYDuqCHv",
        "colab_type": "code",
        "colab": {}
      },
      "source": [
        "import pandas as pd\n",
        "import psycopg2"
      ],
      "execution_count": null,
      "outputs": []
    },
    {
      "cell_type": "markdown",
      "metadata": {
        "id": "pbbw322lDEC6",
        "colab_type": "text"
      },
      "source": [
        "### Conectando com o banco através do psycopg2"
      ]
    },
    {
      "cell_type": "code",
      "metadata": {
        "id": "hWeCAx6Wvgqv",
        "colab_type": "code",
        "colab": {}
      },
      "source": [
        "conn = psycopg2.connect(host=\"lallah.db.elephantsql.com\", database=\"nxthbnlu\", user=\"nxthbnlu\", password=\"buyAYKsY17pqexg1grIcJaWm0gHBsO2F\")"
      ],
      "execution_count": null,
      "outputs": []
    },
    {
      "cell_type": "markdown",
      "metadata": {
        "id": "V9asSTvKYMLk",
        "colab_type": "text"
      },
      "source": [
        "## ATUALIZAÇÃO"
      ]
    },
    {
      "cell_type": "markdown",
      "metadata": {
        "id": "s4cWXI5ydDGq",
        "colab_type": "text"
      },
      "source": [
        "### Funcionário"
      ]
    },
    {
      "cell_type": "code",
      "metadata": {
        "id": "Ct0OyiPRdCOv",
        "colab_type": "code",
        "colab": {}
      },
      "source": [
        "cursor_updt_funcionario = conn.cursor()\n",
        "cursor_updt_funcionario.execute(\"\"\"update funcionario\n",
        "                                    set nome_funcionario = 'Matheus Henrique', matricula_funcionario = 5200302\n",
        "                                    where id_funcionario = 2;\"\"\")"
      ],
      "execution_count": null,
      "outputs": []
    },
    {
      "cell_type": "code",
      "metadata": {
        "id": "0faKexyGeN69",
        "colab_type": "code",
        "colab": {}
      },
      "source": [
        "updt_funcionario = pd.read_sql(\"\"\"select *\n",
        "                                  from funcionario\n",
        "                                  where id_funcionario = 2\n",
        "                                  \"\"\",conn)"
      ],
      "execution_count": null,
      "outputs": []
    },
    {
      "cell_type": "code",
      "metadata": {
        "id": "Y3Wubf8aencd",
        "colab_type": "code",
        "colab": {
          "base_uri": "https://localhost:8080/",
          "height": 81
        },
        "outputId": "2e2df0ed-51c2-44b0-ece3-e0c6076c7e65"
      },
      "source": [
        "updt_funcionario"
      ],
      "execution_count": null,
      "outputs": [
        {
          "output_type": "execute_result",
          "data": {
            "text/html": [
              "<div>\n",
              "<style scoped>\n",
              "    .dataframe tbody tr th:only-of-type {\n",
              "        vertical-align: middle;\n",
              "    }\n",
              "\n",
              "    .dataframe tbody tr th {\n",
              "        vertical-align: top;\n",
              "    }\n",
              "\n",
              "    .dataframe thead th {\n",
              "        text-align: right;\n",
              "    }\n",
              "</style>\n",
              "<table border=\"1\" class=\"dataframe\">\n",
              "  <thead>\n",
              "    <tr style=\"text-align: right;\">\n",
              "      <th></th>\n",
              "      <th>id_funcionario</th>\n",
              "      <th>nome_funcionario</th>\n",
              "      <th>matricula_funcionario</th>\n",
              "    </tr>\n",
              "  </thead>\n",
              "  <tbody>\n",
              "    <tr>\n",
              "      <th>0</th>\n",
              "      <td>2</td>\n",
              "      <td>Matheus Henrique</td>\n",
              "      <td>5200302</td>\n",
              "    </tr>\n",
              "  </tbody>\n",
              "</table>\n",
              "</div>"
            ],
            "text/plain": [
              "   id_funcionario  nome_funcionario  matricula_funcionario\n",
              "0               2  Matheus Henrique                5200302"
            ]
          },
          "metadata": {
            "tags": []
          },
          "execution_count": 7
        }
      ]
    },
    {
      "cell_type": "markdown",
      "metadata": {
        "id": "6DkJtqcaDJaO",
        "colab_type": "text"
      },
      "source": [
        "### Categoria"
      ]
    },
    {
      "cell_type": "code",
      "metadata": {
        "id": "dozy8QygZ3rA",
        "colab_type": "code",
        "colab": {}
      },
      "source": [
        "cursor_updt_categoria = conn.cursor()\n",
        "cursor_updt_categoria.execute(\"\"\"update tamanho\n",
        "                                set descricao = 'individual'\n",
        "                                where descricao = '1 pessoa';\"\"\")\n"
      ],
      "execution_count": null,
      "outputs": []
    },
    {
      "cell_type": "code",
      "metadata": {
        "id": "m0i2AgIDytva",
        "colab_type": "code",
        "colab": {}
      },
      "source": [
        "updt_categoria = pd.read_sql_query(\"\"\"select *\n",
        "                                      from tamanho\n",
        "                                      where descricao = 'individual'\"\"\", conn)"
      ],
      "execution_count": null,
      "outputs": []
    },
    {
      "cell_type": "code",
      "metadata": {
        "id": "cM9ZbCl5zmKE",
        "colab_type": "code",
        "colab": {
          "base_uri": "https://localhost:8080/",
          "height": 81
        },
        "outputId": "e9028c4b-acda-4262-9ca5-5eba6d6fc5fa"
      },
      "source": [
        "updt_categoria"
      ],
      "execution_count": null,
      "outputs": [
        {
          "output_type": "execute_result",
          "data": {
            "text/html": [
              "<div>\n",
              "<style scoped>\n",
              "    .dataframe tbody tr th:only-of-type {\n",
              "        vertical-align: middle;\n",
              "    }\n",
              "\n",
              "    .dataframe tbody tr th {\n",
              "        vertical-align: top;\n",
              "    }\n",
              "\n",
              "    .dataframe thead th {\n",
              "        text-align: right;\n",
              "    }\n",
              "</style>\n",
              "<table border=\"1\" class=\"dataframe\">\n",
              "  <thead>\n",
              "    <tr style=\"text-align: right;\">\n",
              "      <th></th>\n",
              "      <th>id_tamanho</th>\n",
              "      <th>descricao</th>\n",
              "    </tr>\n",
              "  </thead>\n",
              "  <tbody>\n",
              "    <tr>\n",
              "      <th>0</th>\n",
              "      <td>2</td>\n",
              "      <td>individual</td>\n",
              "    </tr>\n",
              "  </tbody>\n",
              "</table>\n",
              "</div>"
            ],
            "text/plain": [
              "   id_tamanho   descricao\n",
              "0           2  individual"
            ]
          },
          "metadata": {
            "tags": []
          },
          "execution_count": 10
        }
      ]
    },
    {
      "cell_type": "markdown",
      "metadata": {
        "colab_type": "text",
        "id": "jKSpkBw8nRhi"
      },
      "source": [
        "### Preço item"
      ]
    },
    {
      "cell_type": "code",
      "metadata": {
        "colab_type": "code",
        "id": "6jXr8DtanRhu",
        "colab": {}
      },
      "source": [
        "cursor_updt_item = conn.cursor()\n",
        "cursor_updt_item.execute(\"\"\"upadte item_cardapio\n",
        "                                  set preco = preco * 1.1\n",
        "                                  where preco = (select min(preco) from item_Cardapio);\"\"\")\n"
      ],
      "execution_count": null,
      "outputs": []
    },
    {
      "cell_type": "code",
      "metadata": {
        "colab_type": "code",
        "id": "xoaf7Pj_nRiK",
        "colab": {}
      },
      "source": [
        "updt_item = pd.read_sql_query(\"\"\"select *\n",
        "                                from item_cardapio\n",
        "                                where preco = (select min(preco) from item_Cardapio)\"\"\", conn)"
      ],
      "execution_count": null,
      "outputs": []
    },
    {
      "cell_type": "code",
      "metadata": {
        "colab_type": "code",
        "id": "MEugY6hJnRit",
        "colab": {
          "base_uri": "https://localhost:8080/",
          "height": 81
        },
        "outputId": "bc861ce3-558c-410a-d138-40b7bc564704"
      },
      "source": [
        "updt_item"
      ],
      "execution_count": null,
      "outputs": [
        {
          "output_type": "execute_result",
          "data": {
            "text/html": [
              "<div>\n",
              "<style scoped>\n",
              "    .dataframe tbody tr th:only-of-type {\n",
              "        vertical-align: middle;\n",
              "    }\n",
              "\n",
              "    .dataframe tbody tr th {\n",
              "        vertical-align: top;\n",
              "    }\n",
              "\n",
              "    .dataframe thead th {\n",
              "        text-align: right;\n",
              "    }\n",
              "</style>\n",
              "<table border=\"1\" class=\"dataframe\">\n",
              "  <thead>\n",
              "    <tr style=\"text-align: right;\">\n",
              "      <th></th>\n",
              "      <th>id_itemcardapio</th>\n",
              "      <th>nome_item</th>\n",
              "      <th>preco</th>\n",
              "      <th>descricao</th>\n",
              "      <th>fk_id_categoria</th>\n",
              "      <th>fk_id_tamanho</th>\n",
              "    </tr>\n",
              "  </thead>\n",
              "  <tbody>\n",
              "    <tr>\n",
              "      <th>0</th>\n",
              "      <td>8</td>\n",
              "      <td>Stella Artois</td>\n",
              "      <td>5.99</td>\n",
              "      <td>Stella Artois Long Neck</td>\n",
              "      <td>2</td>\n",
              "      <td>4</td>\n",
              "    </tr>\n",
              "  </tbody>\n",
              "</table>\n",
              "</div>"
            ],
            "text/plain": [
              "   id_itemcardapio      nome_item  ...  fk_id_categoria fk_id_tamanho\n",
              "0                8  Stella Artois  ...                2             4\n",
              "\n",
              "[1 rows x 6 columns]"
            ]
          },
          "metadata": {
            "tags": []
          },
          "execution_count": 14
        }
      ]
    },
    {
      "cell_type": "markdown",
      "metadata": {
        "id": "P0uP7FEoLDOc",
        "colab_type": "text"
      },
      "source": [
        "## EXCLUSÃO"
      ]
    },
    {
      "cell_type": "markdown",
      "metadata": {
        "colab_type": "text",
        "id": "l0lCRyH3pF8X"
      },
      "source": [
        "### Tamanho"
      ]
    },
    {
      "cell_type": "code",
      "metadata": {
        "colab_type": "code",
        "id": "8RB6OGFYpF8h",
        "colab": {}
      },
      "source": [
        "cursor_dlt_tamanho = conn.cursor()\n",
        "cursor_dlt_tamanho.execute(\"\"\"delete from tamanho\n",
        "                            where descricao = 'infantil'\"\"\")\n"
      ],
      "execution_count": null,
      "outputs": []
    },
    {
      "cell_type": "code",
      "metadata": {
        "colab_type": "code",
        "id": "nxbq-UUepF89",
        "colab": {}
      },
      "source": [
        "dlt_tamanho = pd.read_sql_query(\"\"\"select * from tamanho\"\"\", conn)"
      ],
      "execution_count": null,
      "outputs": []
    },
    {
      "cell_type": "code",
      "metadata": {
        "colab_type": "code",
        "id": "GG1O4QdppF9i",
        "colab": {
          "base_uri": "https://localhost:8080/",
          "height": 175
        },
        "outputId": "65a03407-ed8f-4823-a0a7-ef76ea077eb9"
      },
      "source": [
        "dlt_tamanho"
      ],
      "execution_count": null,
      "outputs": [
        {
          "output_type": "execute_result",
          "data": {
            "text/html": [
              "<div>\n",
              "<style scoped>\n",
              "    .dataframe tbody tr th:only-of-type {\n",
              "        vertical-align: middle;\n",
              "    }\n",
              "\n",
              "    .dataframe tbody tr th {\n",
              "        vertical-align: top;\n",
              "    }\n",
              "\n",
              "    .dataframe thead th {\n",
              "        text-align: right;\n",
              "    }\n",
              "</style>\n",
              "<table border=\"1\" class=\"dataframe\">\n",
              "  <thead>\n",
              "    <tr style=\"text-align: right;\">\n",
              "      <th></th>\n",
              "      <th>id_tamanho</th>\n",
              "      <th>descricao</th>\n",
              "    </tr>\n",
              "  </thead>\n",
              "  <tbody>\n",
              "    <tr>\n",
              "      <th>0</th>\n",
              "      <td>1</td>\n",
              "      <td>2 pessoas</td>\n",
              "    </tr>\n",
              "    <tr>\n",
              "      <th>1</th>\n",
              "      <td>4</td>\n",
              "      <td>long neck</td>\n",
              "    </tr>\n",
              "    <tr>\n",
              "      <th>2</th>\n",
              "      <td>5</td>\n",
              "      <td>lata</td>\n",
              "    </tr>\n",
              "    <tr>\n",
              "      <th>3</th>\n",
              "      <td>2</td>\n",
              "      <td>individual</td>\n",
              "    </tr>\n",
              "  </tbody>\n",
              "</table>\n",
              "</div>"
            ],
            "text/plain": [
              "   id_tamanho   descricao\n",
              "0           1   2 pessoas\n",
              "1           4   long neck\n",
              "2           5        lata\n",
              "3           2  individual"
            ]
          },
          "metadata": {
            "tags": []
          },
          "execution_count": 17
        }
      ]
    },
    {
      "cell_type": "markdown",
      "metadata": {
        "colab_type": "text",
        "id": "FG8Ju0u6py2Q"
      },
      "source": [
        "### Observação"
      ]
    },
    {
      "cell_type": "code",
      "metadata": {
        "colab_type": "code",
        "id": "Z2eruel4py2d",
        "colab": {}
      },
      "source": [
        "cursor_dlt_obs = conn.cursor()\n",
        "cursor_dlt_obs.execute(\"\"\"delete from observacao\n",
        "                            where descricao = 'Porção extra de arroz';\"\"\")\n"
      ],
      "execution_count": null,
      "outputs": []
    },
    {
      "cell_type": "code",
      "metadata": {
        "colab_type": "code",
        "id": "lIrRSJOlpy3M",
        "colab": {}
      },
      "source": [
        "dlt_obs = pd.read_sql_query(\"\"\"select * from observacao\"\"\", conn)"
      ],
      "execution_count": null,
      "outputs": []
    },
    {
      "cell_type": "code",
      "metadata": {
        "colab_type": "code",
        "id": "5xxawTncpy3t",
        "colab": {
          "base_uri": "https://localhost:8080/",
          "height": 332
        },
        "outputId": "5afd4622-76c4-4dfd-fdaf-1328daa9318a"
      },
      "source": [
        "dlt_obs"
      ],
      "execution_count": null,
      "outputs": [
        {
          "output_type": "execute_result",
          "data": {
            "text/html": [
              "<div>\n",
              "<style scoped>\n",
              "    .dataframe tbody tr th:only-of-type {\n",
              "        vertical-align: middle;\n",
              "    }\n",
              "\n",
              "    .dataframe tbody tr th {\n",
              "        vertical-align: top;\n",
              "    }\n",
              "\n",
              "    .dataframe thead th {\n",
              "        text-align: right;\n",
              "    }\n",
              "</style>\n",
              "<table border=\"1\" class=\"dataframe\">\n",
              "  <thead>\n",
              "    <tr style=\"text-align: right;\">\n",
              "      <th></th>\n",
              "      <th>id_obs</th>\n",
              "      <th>descricao</th>\n",
              "      <th>fk_id_pedido</th>\n",
              "    </tr>\n",
              "  </thead>\n",
              "  <tbody>\n",
              "    <tr>\n",
              "      <th>0</th>\n",
              "      <td>1</td>\n",
              "      <td>Sem sal</td>\n",
              "      <td>1</td>\n",
              "    </tr>\n",
              "    <tr>\n",
              "      <th>1</th>\n",
              "      <td>2</td>\n",
              "      <td>Um prato e talher extra</td>\n",
              "      <td>4</td>\n",
              "    </tr>\n",
              "    <tr>\n",
              "      <th>2</th>\n",
              "      <td>3</td>\n",
              "      <td>Sem nozes</td>\n",
              "      <td>5</td>\n",
              "    </tr>\n",
              "    <tr>\n",
              "      <th>3</th>\n",
              "      <td>4</td>\n",
              "      <td>Sem espuma</td>\n",
              "      <td>7</td>\n",
              "    </tr>\n",
              "    <tr>\n",
              "      <th>4</th>\n",
              "      <td>5</td>\n",
              "      <td>Dois copos com gelo e limão</td>\n",
              "      <td>9</td>\n",
              "    </tr>\n",
              "    <tr>\n",
              "      <th>5</th>\n",
              "      <td>6</td>\n",
              "      <td>Sem os pães da casa</td>\n",
              "      <td>12</td>\n",
              "    </tr>\n",
              "    <tr>\n",
              "      <th>6</th>\n",
              "      <td>7</td>\n",
              "      <td>Sem maracujá</td>\n",
              "      <td>10</td>\n",
              "    </tr>\n",
              "    <tr>\n",
              "      <th>7</th>\n",
              "      <td>8</td>\n",
              "      <td>Servir no copo</td>\n",
              "      <td>8</td>\n",
              "    </tr>\n",
              "    <tr>\n",
              "      <th>8</th>\n",
              "      <td>10</td>\n",
              "      <td>Adicionar pimenta</td>\n",
              "      <td>11</td>\n",
              "    </tr>\n",
              "  </tbody>\n",
              "</table>\n",
              "</div>"
            ],
            "text/plain": [
              "   id_obs                    descricao  fk_id_pedido\n",
              "0       1                      Sem sal             1\n",
              "1       2      Um prato e talher extra             4\n",
              "2       3                    Sem nozes             5\n",
              "3       4                   Sem espuma             7\n",
              "4       5  Dois copos com gelo e limão             9\n",
              "5       6          Sem os pães da casa            12\n",
              "6       7                 Sem maracujá            10\n",
              "7       8               Servir no copo             8\n",
              "8      10            Adicionar pimenta            11"
            ]
          },
          "metadata": {
            "tags": []
          },
          "execution_count": 20
        }
      ]
    },
    {
      "cell_type": "markdown",
      "metadata": {
        "colab_type": "text",
        "id": "vO3oLYaop1oV"
      },
      "source": [
        "### Pedido"
      ]
    },
    {
      "cell_type": "code",
      "metadata": {
        "colab_type": "code",
        "id": "GaxnBIQWp1oj",
        "colab": {}
      },
      "source": [
        "cursor_dlt_pedido = conn.cursor()\n",
        "cursor_dlt_pedido.execute(\"\"\"delete from pedido\n",
        "                                    where id_pedido = 14;\"\"\")\n"
      ],
      "execution_count": null,
      "outputs": []
    },
    {
      "cell_type": "code",
      "metadata": {
        "colab_type": "code",
        "id": "lms3GRaKp1pJ",
        "colab": {}
      },
      "source": [
        "dlt_pedido = pd.read_sql_query(\"\"\"select * from pedido\"\"\", conn)"
      ],
      "execution_count": null,
      "outputs": []
    },
    {
      "cell_type": "code",
      "metadata": {
        "colab_type": "code",
        "id": "kG71mXufp1pi",
        "colab": {
          "base_uri": "https://localhost:8080/",
          "height": 802
        },
        "outputId": "c9c00da9-7e10-48ea-b009-59a703bcdce2"
      },
      "source": [
        "dlt_pedido"
      ],
      "execution_count": null,
      "outputs": [
        {
          "output_type": "execute_result",
          "data": {
            "text/html": [
              "<div>\n",
              "<style scoped>\n",
              "    .dataframe tbody tr th:only-of-type {\n",
              "        vertical-align: middle;\n",
              "    }\n",
              "\n",
              "    .dataframe tbody tr th {\n",
              "        vertical-align: top;\n",
              "    }\n",
              "\n",
              "    .dataframe thead th {\n",
              "        text-align: right;\n",
              "    }\n",
              "</style>\n",
              "<table border=\"1\" class=\"dataframe\">\n",
              "  <thead>\n",
              "    <tr style=\"text-align: right;\">\n",
              "      <th></th>\n",
              "      <th>id_pedido</th>\n",
              "      <th>quantidade</th>\n",
              "      <th>hora</th>\n",
              "      <th>fk_id_comanda</th>\n",
              "      <th>fk_id_itemcardapio</th>\n",
              "    </tr>\n",
              "  </thead>\n",
              "  <tbody>\n",
              "    <tr>\n",
              "      <th>0</th>\n",
              "      <td>1</td>\n",
              "      <td>2</td>\n",
              "      <td>12:58:00</td>\n",
              "      <td>1</td>\n",
              "      <td>1</td>\n",
              "    </tr>\n",
              "    <tr>\n",
              "      <th>1</th>\n",
              "      <td>2</td>\n",
              "      <td>1</td>\n",
              "      <td>13:19:00</td>\n",
              "      <td>1</td>\n",
              "      <td>2</td>\n",
              "    </tr>\n",
              "    <tr>\n",
              "      <th>2</th>\n",
              "      <td>3</td>\n",
              "      <td>1</td>\n",
              "      <td>12:34:00</td>\n",
              "      <td>2</td>\n",
              "      <td>3</td>\n",
              "    </tr>\n",
              "    <tr>\n",
              "      <th>3</th>\n",
              "      <td>4</td>\n",
              "      <td>3</td>\n",
              "      <td>12:45:00</td>\n",
              "      <td>3</td>\n",
              "      <td>4</td>\n",
              "    </tr>\n",
              "    <tr>\n",
              "      <th>4</th>\n",
              "      <td>5</td>\n",
              "      <td>1</td>\n",
              "      <td>12:45:00</td>\n",
              "      <td>3</td>\n",
              "      <td>5</td>\n",
              "    </tr>\n",
              "    <tr>\n",
              "      <th>5</th>\n",
              "      <td>6</td>\n",
              "      <td>2</td>\n",
              "      <td>13:30:00</td>\n",
              "      <td>3</td>\n",
              "      <td>6</td>\n",
              "    </tr>\n",
              "    <tr>\n",
              "      <th>6</th>\n",
              "      <td>7</td>\n",
              "      <td>1</td>\n",
              "      <td>12:23:00</td>\n",
              "      <td>4</td>\n",
              "      <td>7</td>\n",
              "    </tr>\n",
              "    <tr>\n",
              "      <th>7</th>\n",
              "      <td>8</td>\n",
              "      <td>1</td>\n",
              "      <td>12:37:00</td>\n",
              "      <td>4</td>\n",
              "      <td>8</td>\n",
              "    </tr>\n",
              "    <tr>\n",
              "      <th>8</th>\n",
              "      <td>9</td>\n",
              "      <td>2</td>\n",
              "      <td>13:42:00</td>\n",
              "      <td>5</td>\n",
              "      <td>9</td>\n",
              "    </tr>\n",
              "    <tr>\n",
              "      <th>9</th>\n",
              "      <td>10</td>\n",
              "      <td>1</td>\n",
              "      <td>12:26:00</td>\n",
              "      <td>6</td>\n",
              "      <td>10</td>\n",
              "    </tr>\n",
              "    <tr>\n",
              "      <th>10</th>\n",
              "      <td>11</td>\n",
              "      <td>1</td>\n",
              "      <td>12:57:00</td>\n",
              "      <td>6</td>\n",
              "      <td>1</td>\n",
              "    </tr>\n",
              "    <tr>\n",
              "      <th>11</th>\n",
              "      <td>12</td>\n",
              "      <td>2</td>\n",
              "      <td>12:21:00</td>\n",
              "      <td>7</td>\n",
              "      <td>2</td>\n",
              "    </tr>\n",
              "    <tr>\n",
              "      <th>12</th>\n",
              "      <td>13</td>\n",
              "      <td>3</td>\n",
              "      <td>13:15:00</td>\n",
              "      <td>8</td>\n",
              "      <td>3</td>\n",
              "    </tr>\n",
              "    <tr>\n",
              "      <th>13</th>\n",
              "      <td>15</td>\n",
              "      <td>1</td>\n",
              "      <td>13:02:00</td>\n",
              "      <td>9</td>\n",
              "      <td>5</td>\n",
              "    </tr>\n",
              "    <tr>\n",
              "      <th>14</th>\n",
              "      <td>16</td>\n",
              "      <td>2</td>\n",
              "      <td>13:04:00</td>\n",
              "      <td>10</td>\n",
              "      <td>6</td>\n",
              "    </tr>\n",
              "    <tr>\n",
              "      <th>15</th>\n",
              "      <td>17</td>\n",
              "      <td>3</td>\n",
              "      <td>13:37:00</td>\n",
              "      <td>10</td>\n",
              "      <td>7</td>\n",
              "    </tr>\n",
              "    <tr>\n",
              "      <th>16</th>\n",
              "      <td>18</td>\n",
              "      <td>1</td>\n",
              "      <td>13:49:00</td>\n",
              "      <td>10</td>\n",
              "      <td>8</td>\n",
              "    </tr>\n",
              "    <tr>\n",
              "      <th>17</th>\n",
              "      <td>19</td>\n",
              "      <td>1</td>\n",
              "      <td>12:18:00</td>\n",
              "      <td>11</td>\n",
              "      <td>9</td>\n",
              "    </tr>\n",
              "    <tr>\n",
              "      <th>18</th>\n",
              "      <td>20</td>\n",
              "      <td>1</td>\n",
              "      <td>12:43:00</td>\n",
              "      <td>12</td>\n",
              "      <td>1</td>\n",
              "    </tr>\n",
              "    <tr>\n",
              "      <th>19</th>\n",
              "      <td>21</td>\n",
              "      <td>2</td>\n",
              "      <td>13:09:00</td>\n",
              "      <td>12</td>\n",
              "      <td>2</td>\n",
              "    </tr>\n",
              "    <tr>\n",
              "      <th>20</th>\n",
              "      <td>22</td>\n",
              "      <td>3</td>\n",
              "      <td>13:38:00</td>\n",
              "      <td>13</td>\n",
              "      <td>3</td>\n",
              "    </tr>\n",
              "    <tr>\n",
              "      <th>21</th>\n",
              "      <td>23</td>\n",
              "      <td>4</td>\n",
              "      <td>13:51:00</td>\n",
              "      <td>13</td>\n",
              "      <td>4</td>\n",
              "    </tr>\n",
              "    <tr>\n",
              "      <th>22</th>\n",
              "      <td>24</td>\n",
              "      <td>2</td>\n",
              "      <td>14:23:00</td>\n",
              "      <td>13</td>\n",
              "      <td>5</td>\n",
              "    </tr>\n",
              "    <tr>\n",
              "      <th>23</th>\n",
              "      <td>25</td>\n",
              "      <td>1</td>\n",
              "      <td>14:29:00</td>\n",
              "      <td>13</td>\n",
              "      <td>6</td>\n",
              "    </tr>\n",
              "  </tbody>\n",
              "</table>\n",
              "</div>"
            ],
            "text/plain": [
              "    id_pedido  quantidade      hora  fk_id_comanda  fk_id_itemcardapio\n",
              "0           1           2  12:58:00              1                   1\n",
              "1           2           1  13:19:00              1                   2\n",
              "2           3           1  12:34:00              2                   3\n",
              "3           4           3  12:45:00              3                   4\n",
              "4           5           1  12:45:00              3                   5\n",
              "5           6           2  13:30:00              3                   6\n",
              "6           7           1  12:23:00              4                   7\n",
              "7           8           1  12:37:00              4                   8\n",
              "8           9           2  13:42:00              5                   9\n",
              "9          10           1  12:26:00              6                  10\n",
              "10         11           1  12:57:00              6                   1\n",
              "11         12           2  12:21:00              7                   2\n",
              "12         13           3  13:15:00              8                   3\n",
              "13         15           1  13:02:00              9                   5\n",
              "14         16           2  13:04:00             10                   6\n",
              "15         17           3  13:37:00             10                   7\n",
              "16         18           1  13:49:00             10                   8\n",
              "17         19           1  12:18:00             11                   9\n",
              "18         20           1  12:43:00             12                   1\n",
              "19         21           2  13:09:00             12                   2\n",
              "20         22           3  13:38:00             13                   3\n",
              "21         23           4  13:51:00             13                   4\n",
              "22         24           2  14:23:00             13                   5\n",
              "23         25           1  14:29:00             13                   6"
            ]
          },
          "metadata": {
            "tags": []
          },
          "execution_count": 23
        }
      ]
    }
  ]
}