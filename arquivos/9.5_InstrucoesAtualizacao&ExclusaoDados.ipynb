{
  "nbformat": 4,
  "nbformat_minor": 0,
  "metadata": {
    "colab": {
      "name": "9.5_InstrucoesAtualizacao&ExclusaoDados.ipynb",
      "provenance": [],
      "collapsed_sections": [],
      "authorship_tag": "ABX9TyNkL4udP0Lkj1R6vSPcfGjy",
      "include_colab_link": true
    },
    "kernelspec": {
      "name": "python3",
      "display_name": "Python 3"
    }
  },
  "cells": [
    {
      "cell_type": "markdown",
      "metadata": {
        "id": "view-in-github",
        "colab_type": "text"
      },
      "source": [
        "<a href=\"https://colab.research.google.com/github/adudars/PedidON/blob/master/arquivos/9.5_InstrucoesAtualizacao%26ExclusaoDados.ipynb\" target=\"_parent\"><img src=\"https://colab.research.google.com/assets/colab-badge.svg\" alt=\"Open In Colab\"/></a>"
      ]
    },
    {
      "cell_type": "markdown",
      "metadata": {
        "id": "tbJ_4aYwENvD",
        "colab_type": "text"
      },
      "source": [
        "# 9.5 INSTRUÇÕES APLICANDO ATUALIZAÇÃO E EXCLUSÃO DE DADOS"
      ]
    },
    {
      "cell_type": "markdown",
      "metadata": {
        "id": "N_SPUL1wC9Cy",
        "colab_type": "text"
      },
      "source": [
        "## ESTABELECENDO CONEXÃO\n",
        "\n",
        "\n"
      ]
    },
    {
      "cell_type": "markdown",
      "metadata": {
        "id": "2Zu6LMx9FZ2o",
        "colab_type": "text"
      },
      "source": [
        "### Instalando bibliotecas de acesso"
      ]
    },
    {
      "cell_type": "code",
      "metadata": {
        "id": "7y0VZn5eGT_B",
        "colab_type": "code",
        "colab": {}
      },
      "source": [
        "#!pip install --user psycopg2-binary\n",
        "#!pip install --user pandas"
      ],
      "execution_count": 1,
      "outputs": []
    },
    {
      "cell_type": "markdown",
      "metadata": {
        "id": "BiXhsGizEb4p",
        "colab_type": "text"
      },
      "source": [
        "### Importando bibliotecas"
      ]
    },
    {
      "cell_type": "code",
      "metadata": {
        "id": "pEEUdYDuqCHv",
        "colab_type": "code",
        "colab": {}
      },
      "source": [
        "import pandas as pd\n",
        "import psycopg2"
      ],
      "execution_count": 3,
      "outputs": []
    },
    {
      "cell_type": "markdown",
      "metadata": {
        "id": "pbbw322lDEC6",
        "colab_type": "text"
      },
      "source": [
        "### Conectando com o banco através do psycopg2"
      ]
    },
    {
      "cell_type": "code",
      "metadata": {
        "id": "hWeCAx6Wvgqv",
        "colab_type": "code",
        "colab": {}
      },
      "source": [
        "conn = psycopg2.connect(host=\"lallah.db.elephantsql.com\", database=\"nxthbnlu\", user=\"nxthbnlu\", password=\"buyAYKsY17pqexg1grIcJaWm0gHBsO2F\")"
      ],
      "execution_count": 35,
      "outputs": []
    },
    {
      "cell_type": "markdown",
      "metadata": {
        "id": "V9asSTvKYMLk",
        "colab_type": "text"
      },
      "source": [
        "## ATUALIZAÇÃO"
      ]
    },
    {
      "cell_type": "markdown",
      "metadata": {
        "id": "s4cWXI5ydDGq",
        "colab_type": "text"
      },
      "source": [
        "### Funcionário"
      ]
    },
    {
      "cell_type": "code",
      "metadata": {
        "id": "Ct0OyiPRdCOv",
        "colab_type": "code",
        "colab": {}
      },
      "source": [
        "cursor_updt_funcionario = conn.cursor()\n",
        "cursor_updt_funcionario.execute(\"\"\"update funcionario\n",
        "                                    set nome_funcionario = 'Matheus Henrique', matricula_funcionario = 5200302\n",
        "                                    where id_funcionario = 2;\"\"\")\n",
        "conn.commit()"
      ],
      "execution_count": 9,
      "outputs": []
    },
    {
      "cell_type": "code",
      "metadata": {
        "id": "0faKexyGeN69",
        "colab_type": "code",
        "colab": {}
      },
      "source": [
        "updt_funcionario = pd.read_sql(\"\"\"select *\n",
        "                                  from funcionario\n",
        "                                  where id_funcionario = 2\n",
        "                                  \"\"\",conn)"
      ],
      "execution_count": 10,
      "outputs": []
    },
    {
      "cell_type": "code",
      "metadata": {
        "id": "Y3Wubf8aencd",
        "colab_type": "code",
        "colab": {
          "base_uri": "https://localhost:8080/",
          "height": 81
        },
        "outputId": "ca1e3edb-e9d3-4297-f992-f41fc64c151d"
      },
      "source": [
        "updt_funcionario"
      ],
      "execution_count": 11,
      "outputs": [
        {
          "output_type": "execute_result",
          "data": {
            "text/html": [
              "<div>\n",
              "<style scoped>\n",
              "    .dataframe tbody tr th:only-of-type {\n",
              "        vertical-align: middle;\n",
              "    }\n",
              "\n",
              "    .dataframe tbody tr th {\n",
              "        vertical-align: top;\n",
              "    }\n",
              "\n",
              "    .dataframe thead th {\n",
              "        text-align: right;\n",
              "    }\n",
              "</style>\n",
              "<table border=\"1\" class=\"dataframe\">\n",
              "  <thead>\n",
              "    <tr style=\"text-align: right;\">\n",
              "      <th></th>\n",
              "      <th>id_funcionario</th>\n",
              "      <th>nome_funcionario</th>\n",
              "      <th>matricula_funcionario</th>\n",
              "    </tr>\n",
              "  </thead>\n",
              "  <tbody>\n",
              "    <tr>\n",
              "      <th>0</th>\n",
              "      <td>2</td>\n",
              "      <td>Matheus Henrique</td>\n",
              "      <td>5200302</td>\n",
              "    </tr>\n",
              "  </tbody>\n",
              "</table>\n",
              "</div>"
            ],
            "text/plain": [
              "   id_funcionario  nome_funcionario  matricula_funcionario\n",
              "0               2  Matheus Henrique                5200302"
            ]
          },
          "metadata": {
            "tags": []
          },
          "execution_count": 11
        }
      ]
    },
    {
      "cell_type": "markdown",
      "metadata": {
        "id": "6DkJtqcaDJaO",
        "colab_type": "text"
      },
      "source": [
        "### Categoria"
      ]
    },
    {
      "cell_type": "code",
      "metadata": {
        "id": "dozy8QygZ3rA",
        "colab_type": "code",
        "colab": {}
      },
      "source": [
        "cursor_updt_categoria = conn.cursor()\n",
        "cursor_updt_categoria.execute(\"\"\"update tamanho\n",
        "                                set descricao_tamanho = 'individual'\n",
        "                                where descricao_tamanho = '1 pessoa';\"\"\")\n",
        "\n",
        "conn.commit()"
      ],
      "execution_count": 22,
      "outputs": []
    },
    {
      "cell_type": "code",
      "metadata": {
        "id": "m0i2AgIDytva",
        "colab_type": "code",
        "colab": {}
      },
      "source": [
        "updt_categoria = pd.read_sql_query(\"\"\"select *\n",
        "                                      from tamanho\n",
        "                                      where descricao_tamanho = 'individual'\"\"\", conn)"
      ],
      "execution_count": 24,
      "outputs": []
    },
    {
      "cell_type": "code",
      "metadata": {
        "id": "cM9ZbCl5zmKE",
        "colab_type": "code",
        "colab": {
          "base_uri": "https://localhost:8080/",
          "height": 81
        },
        "outputId": "fa0f6d97-376b-4445-f752-d747a424466d"
      },
      "source": [
        "updt_categoria"
      ],
      "execution_count": 25,
      "outputs": [
        {
          "output_type": "execute_result",
          "data": {
            "text/html": [
              "<div>\n",
              "<style scoped>\n",
              "    .dataframe tbody tr th:only-of-type {\n",
              "        vertical-align: middle;\n",
              "    }\n",
              "\n",
              "    .dataframe tbody tr th {\n",
              "        vertical-align: top;\n",
              "    }\n",
              "\n",
              "    .dataframe thead th {\n",
              "        text-align: right;\n",
              "    }\n",
              "</style>\n",
              "<table border=\"1\" class=\"dataframe\">\n",
              "  <thead>\n",
              "    <tr style=\"text-align: right;\">\n",
              "      <th></th>\n",
              "      <th>id_tamanho</th>\n",
              "      <th>descricao_tamanho</th>\n",
              "    </tr>\n",
              "  </thead>\n",
              "  <tbody>\n",
              "    <tr>\n",
              "      <th>0</th>\n",
              "      <td>2</td>\n",
              "      <td>individual</td>\n",
              "    </tr>\n",
              "  </tbody>\n",
              "</table>\n",
              "</div>"
            ],
            "text/plain": [
              "   id_tamanho descricao_tamanho\n",
              "0           2        individual"
            ]
          },
          "metadata": {
            "tags": []
          },
          "execution_count": 25
        }
      ]
    },
    {
      "cell_type": "markdown",
      "metadata": {
        "colab_type": "text",
        "id": "jKSpkBw8nRhi"
      },
      "source": [
        "### Preço item"
      ]
    },
    {
      "cell_type": "code",
      "metadata": {
        "colab_type": "code",
        "id": "6jXr8DtanRhu",
        "colab": {}
      },
      "source": [
        "cursor_updt_item = conn.cursor()\n",
        "cursor_updt_item.execute(\"\"\"update item_cardapio\n",
        "                                  set preco = preco * 1.1\n",
        "                                  where preco = (select min(preco) from item_Cardapio);\"\"\")\n",
        "conn.commit()\n"
      ],
      "execution_count": 26,
      "outputs": []
    },
    {
      "cell_type": "code",
      "metadata": {
        "colab_type": "code",
        "id": "xoaf7Pj_nRiK",
        "colab": {}
      },
      "source": [
        "updt_item = pd.read_sql_query(\"\"\"select *\n",
        "                                from item_cardapio\n",
        "                                where preco = (select min(preco) from item_Cardapio)\"\"\", conn)"
      ],
      "execution_count": 28,
      "outputs": []
    },
    {
      "cell_type": "code",
      "metadata": {
        "colab_type": "code",
        "id": "MEugY6hJnRit",
        "colab": {
          "base_uri": "https://localhost:8080/",
          "height": 81
        },
        "outputId": "bc22c324-daac-4d8f-d829-b02709ad0790"
      },
      "source": [
        "updt_item"
      ],
      "execution_count": 29,
      "outputs": [
        {
          "output_type": "execute_result",
          "data": {
            "text/html": [
              "<div>\n",
              "<style scoped>\n",
              "    .dataframe tbody tr th:only-of-type {\n",
              "        vertical-align: middle;\n",
              "    }\n",
              "\n",
              "    .dataframe tbody tr th {\n",
              "        vertical-align: top;\n",
              "    }\n",
              "\n",
              "    .dataframe thead th {\n",
              "        text-align: right;\n",
              "    }\n",
              "</style>\n",
              "<table border=\"1\" class=\"dataframe\">\n",
              "  <thead>\n",
              "    <tr style=\"text-align: right;\">\n",
              "      <th></th>\n",
              "      <th>id_itemcardapio</th>\n",
              "      <th>nome_item</th>\n",
              "      <th>preco</th>\n",
              "      <th>descricao_item</th>\n",
              "      <th>fk_id_categoria</th>\n",
              "      <th>fk_id_tamanho</th>\n",
              "    </tr>\n",
              "  </thead>\n",
              "  <tbody>\n",
              "    <tr>\n",
              "      <th>0</th>\n",
              "      <td>41</td>\n",
              "      <td>Água</td>\n",
              "      <td>5.39</td>\n",
              "      <td>sem Gás</td>\n",
              "      <td>20</td>\n",
              "      <td>12</td>\n",
              "    </tr>\n",
              "  </tbody>\n",
              "</table>\n",
              "</div>"
            ],
            "text/plain": [
              "   id_itemcardapio nome_item  ...  fk_id_categoria fk_id_tamanho\n",
              "0               41      Água  ...               20            12\n",
              "\n",
              "[1 rows x 6 columns]"
            ]
          },
          "metadata": {
            "tags": []
          },
          "execution_count": 29
        }
      ]
    },
    {
      "cell_type": "markdown",
      "metadata": {
        "id": "P0uP7FEoLDOc",
        "colab_type": "text"
      },
      "source": [
        "## EXCLUSÃO"
      ]
    },
    {
      "cell_type": "markdown",
      "metadata": {
        "colab_type": "text",
        "id": "l0lCRyH3pF8X"
      },
      "source": [
        "### Tamanho"
      ]
    },
    {
      "cell_type": "code",
      "metadata": {
        "colab_type": "code",
        "id": "8RB6OGFYpF8h",
        "colab": {}
      },
      "source": [
        "cursor_dlt_tamanho = conn.cursor()\n",
        "cursor_dlt_tamanho.execute(\"\"\"delete from tamanho\n",
        "                            where descricao_tamanho = 'infantil'\"\"\")\n",
        "conn.commit()\n"
      ],
      "execution_count": 30,
      "outputs": []
    },
    {
      "cell_type": "code",
      "metadata": {
        "colab_type": "code",
        "id": "nxbq-UUepF89",
        "colab": {}
      },
      "source": [
        "dlt_tamanho = pd.read_sql_query(\"\"\"select * from tamanho\"\"\", conn)"
      ],
      "execution_count": 31,
      "outputs": []
    },
    {
      "cell_type": "code",
      "metadata": {
        "colab_type": "code",
        "id": "GG1O4QdppF9i",
        "colab": {
          "base_uri": "https://localhost:8080/",
          "height": 677
        },
        "outputId": "53a7681c-e1da-4954-812d-873157c7b2a1"
      },
      "source": [
        "dlt_tamanho"
      ],
      "execution_count": 32,
      "outputs": [
        {
          "output_type": "execute_result",
          "data": {
            "text/html": [
              "<div>\n",
              "<style scoped>\n",
              "    .dataframe tbody tr th:only-of-type {\n",
              "        vertical-align: middle;\n",
              "    }\n",
              "\n",
              "    .dataframe tbody tr th {\n",
              "        vertical-align: top;\n",
              "    }\n",
              "\n",
              "    .dataframe thead th {\n",
              "        text-align: right;\n",
              "    }\n",
              "</style>\n",
              "<table border=\"1\" class=\"dataframe\">\n",
              "  <thead>\n",
              "    <tr style=\"text-align: right;\">\n",
              "      <th></th>\n",
              "      <th>id_tamanho</th>\n",
              "      <th>descricao_tamanho</th>\n",
              "    </tr>\n",
              "  </thead>\n",
              "  <tbody>\n",
              "    <tr>\n",
              "      <th>0</th>\n",
              "      <td>1</td>\n",
              "      <td>2 pessoas</td>\n",
              "    </tr>\n",
              "    <tr>\n",
              "      <th>1</th>\n",
              "      <td>4</td>\n",
              "      <td>long neck</td>\n",
              "    </tr>\n",
              "    <tr>\n",
              "      <th>2</th>\n",
              "      <td>5</td>\n",
              "      <td>lata</td>\n",
              "    </tr>\n",
              "    <tr>\n",
              "      <th>3</th>\n",
              "      <td>3</td>\n",
              "      <td>3 pessoas</td>\n",
              "    </tr>\n",
              "    <tr>\n",
              "      <th>4</th>\n",
              "      <td>6</td>\n",
              "      <td>4 pessoas</td>\n",
              "    </tr>\n",
              "    <tr>\n",
              "      <th>5</th>\n",
              "      <td>7</td>\n",
              "      <td>5 pessoas</td>\n",
              "    </tr>\n",
              "    <tr>\n",
              "      <th>6</th>\n",
              "      <td>8</td>\n",
              "      <td>jarra</td>\n",
              "    </tr>\n",
              "    <tr>\n",
              "      <th>7</th>\n",
              "      <td>9</td>\n",
              "      <td>copo</td>\n",
              "    </tr>\n",
              "    <tr>\n",
              "      <th>8</th>\n",
              "      <td>10</td>\n",
              "      <td>taça</td>\n",
              "    </tr>\n",
              "    <tr>\n",
              "      <th>9</th>\n",
              "      <td>11</td>\n",
              "      <td>garrafa</td>\n",
              "    </tr>\n",
              "    <tr>\n",
              "      <th>10</th>\n",
              "      <td>12</td>\n",
              "      <td>330ml</td>\n",
              "    </tr>\n",
              "    <tr>\n",
              "      <th>11</th>\n",
              "      <td>13</td>\n",
              "      <td>500ml</td>\n",
              "    </tr>\n",
              "    <tr>\n",
              "      <th>12</th>\n",
              "      <td>14</td>\n",
              "      <td>600ml</td>\n",
              "    </tr>\n",
              "    <tr>\n",
              "      <th>13</th>\n",
              "      <td>15</td>\n",
              "      <td>1l</td>\n",
              "    </tr>\n",
              "    <tr>\n",
              "      <th>14</th>\n",
              "      <td>16</td>\n",
              "      <td>2l</td>\n",
              "    </tr>\n",
              "    <tr>\n",
              "      <th>15</th>\n",
              "      <td>17</td>\n",
              "      <td>3l</td>\n",
              "    </tr>\n",
              "    <tr>\n",
              "      <th>16</th>\n",
              "      <td>18</td>\n",
              "      <td>dose</td>\n",
              "    </tr>\n",
              "    <tr>\n",
              "      <th>17</th>\n",
              "      <td>19</td>\n",
              "      <td>combo</td>\n",
              "    </tr>\n",
              "    <tr>\n",
              "      <th>18</th>\n",
              "      <td>20</td>\n",
              "      <td>unidade</td>\n",
              "    </tr>\n",
              "    <tr>\n",
              "      <th>19</th>\n",
              "      <td>2</td>\n",
              "      <td>individual</td>\n",
              "    </tr>\n",
              "  </tbody>\n",
              "</table>\n",
              "</div>"
            ],
            "text/plain": [
              "    id_tamanho descricao_tamanho\n",
              "0            1         2 pessoas\n",
              "1            4         long neck\n",
              "2            5              lata\n",
              "3            3         3 pessoas\n",
              "4            6         4 pessoas\n",
              "5            7         5 pessoas\n",
              "6            8             jarra\n",
              "7            9              copo\n",
              "8           10              taça\n",
              "9           11           garrafa\n",
              "10          12             330ml\n",
              "11          13             500ml\n",
              "12          14             600ml\n",
              "13          15                1l\n",
              "14          16                2l\n",
              "15          17                3l\n",
              "16          18              dose\n",
              "17          19             combo\n",
              "18          20           unidade\n",
              "19           2        individual"
            ]
          },
          "metadata": {
            "tags": []
          },
          "execution_count": 32
        }
      ]
    },
    {
      "cell_type": "markdown",
      "metadata": {
        "colab_type": "text",
        "id": "FG8Ju0u6py2Q"
      },
      "source": [
        "### Observação"
      ]
    },
    {
      "cell_type": "code",
      "metadata": {
        "colab_type": "code",
        "id": "Z2eruel4py2d",
        "colab": {}
      },
      "source": [
        "cursor_dlt_obs = conn.cursor()\n",
        "cursor_dlt_obs.execute(\"\"\"delete from observacao\n",
        "                            where descricao_obs = '2 porções extras de arroz';\"\"\")\n",
        "conn.commit()\n"
      ],
      "execution_count": 36,
      "outputs": []
    },
    {
      "cell_type": "code",
      "metadata": {
        "colab_type": "code",
        "id": "lIrRSJOlpy3M",
        "colab": {}
      },
      "source": [
        "dlt_obs = pd.read_sql_query(\"\"\"select * from observacao\"\"\", conn)"
      ],
      "execution_count": 37,
      "outputs": []
    },
    {
      "cell_type": "code",
      "metadata": {
        "colab_type": "code",
        "id": "5xxawTncpy3t",
        "colab": {
          "base_uri": "https://localhost:8080/",
          "height": 677
        },
        "outputId": "31365b76-9181-482c-f4a6-8294543b5262"
      },
      "source": [
        "dlt_obs"
      ],
      "execution_count": 38,
      "outputs": [
        {
          "output_type": "execute_result",
          "data": {
            "text/html": [
              "<div>\n",
              "<style scoped>\n",
              "    .dataframe tbody tr th:only-of-type {\n",
              "        vertical-align: middle;\n",
              "    }\n",
              "\n",
              "    .dataframe tbody tr th {\n",
              "        vertical-align: top;\n",
              "    }\n",
              "\n",
              "    .dataframe thead th {\n",
              "        text-align: right;\n",
              "    }\n",
              "</style>\n",
              "<table border=\"1\" class=\"dataframe\">\n",
              "  <thead>\n",
              "    <tr style=\"text-align: right;\">\n",
              "      <th></th>\n",
              "      <th>id_obs</th>\n",
              "      <th>descricao_obs</th>\n",
              "      <th>fk_id_pedido</th>\n",
              "    </tr>\n",
              "  </thead>\n",
              "  <tbody>\n",
              "    <tr>\n",
              "      <th>0</th>\n",
              "      <td>1</td>\n",
              "      <td>Sem sal</td>\n",
              "      <td>1</td>\n",
              "    </tr>\n",
              "    <tr>\n",
              "      <th>1</th>\n",
              "      <td>2</td>\n",
              "      <td>Um prato e talher extra</td>\n",
              "      <td>4</td>\n",
              "    </tr>\n",
              "    <tr>\n",
              "      <th>2</th>\n",
              "      <td>3</td>\n",
              "      <td>Sem nozes</td>\n",
              "      <td>5</td>\n",
              "    </tr>\n",
              "    <tr>\n",
              "      <th>3</th>\n",
              "      <td>4</td>\n",
              "      <td>Sem espuma</td>\n",
              "      <td>7</td>\n",
              "    </tr>\n",
              "    <tr>\n",
              "      <th>4</th>\n",
              "      <td>5</td>\n",
              "      <td>Dois copos com gelo e limão</td>\n",
              "      <td>9</td>\n",
              "    </tr>\n",
              "    <tr>\n",
              "      <th>5</th>\n",
              "      <td>6</td>\n",
              "      <td>Sem os pães da casa</td>\n",
              "      <td>12</td>\n",
              "    </tr>\n",
              "    <tr>\n",
              "      <th>6</th>\n",
              "      <td>7</td>\n",
              "      <td>Sem maracujá</td>\n",
              "      <td>10</td>\n",
              "    </tr>\n",
              "    <tr>\n",
              "      <th>7</th>\n",
              "      <td>8</td>\n",
              "      <td>Servir no copo</td>\n",
              "      <td>8</td>\n",
              "    </tr>\n",
              "    <tr>\n",
              "      <th>8</th>\n",
              "      <td>10</td>\n",
              "      <td>Adicionar pimenta</td>\n",
              "      <td>11</td>\n",
              "    </tr>\n",
              "    <tr>\n",
              "      <th>9</th>\n",
              "      <td>9</td>\n",
              "      <td>Porção extra de arroz</td>\n",
              "      <td>14</td>\n",
              "    </tr>\n",
              "    <tr>\n",
              "      <th>10</th>\n",
              "      <td>11</td>\n",
              "      <td>Só filé mignon</td>\n",
              "      <td>27</td>\n",
              "    </tr>\n",
              "    <tr>\n",
              "      <th>11</th>\n",
              "      <td>12</td>\n",
              "      <td>Copo com gelo</td>\n",
              "      <td>30</td>\n",
              "    </tr>\n",
              "    <tr>\n",
              "      <th>12</th>\n",
              "      <td>13</td>\n",
              "      <td>Azeitonas no copo</td>\n",
              "      <td>35</td>\n",
              "    </tr>\n",
              "    <tr>\n",
              "      <th>13</th>\n",
              "      <td>14</td>\n",
              "      <td>Legumes no ponto</td>\n",
              "      <td>40</td>\n",
              "    </tr>\n",
              "    <tr>\n",
              "      <th>14</th>\n",
              "      <td>15</td>\n",
              "      <td>Limonada</td>\n",
              "      <td>41</td>\n",
              "    </tr>\n",
              "    <tr>\n",
              "      <th>15</th>\n",
              "      <td>16</td>\n",
              "      <td>Abrir na minha frete</td>\n",
              "      <td>50</td>\n",
              "    </tr>\n",
              "    <tr>\n",
              "      <th>16</th>\n",
              "      <td>17</td>\n",
              "      <td>Água de coco junto</td>\n",
              "      <td>54</td>\n",
              "    </tr>\n",
              "    <tr>\n",
              "      <th>17</th>\n",
              "      <td>18</td>\n",
              "      <td>Coloca limão</td>\n",
              "      <td>55</td>\n",
              "    </tr>\n",
              "    <tr>\n",
              "      <th>18</th>\n",
              "      <td>19</td>\n",
              "      <td>Ostras de Vitória mesmo. De Santa Catarina vai...</td>\n",
              "      <td>66</td>\n",
              "    </tr>\n",
              "    <tr>\n",
              "      <th>19</th>\n",
              "      <td>20</td>\n",
              "      <td>2 águas de coco</td>\n",
              "      <td>72</td>\n",
              "    </tr>\n",
              "  </tbody>\n",
              "</table>\n",
              "</div>"
            ],
            "text/plain": [
              "    id_obs                                      descricao_obs  fk_id_pedido\n",
              "0        1                                            Sem sal             1\n",
              "1        2                            Um prato e talher extra             4\n",
              "2        3                                          Sem nozes             5\n",
              "3        4                                         Sem espuma             7\n",
              "4        5                        Dois copos com gelo e limão             9\n",
              "5        6                                Sem os pães da casa            12\n",
              "6        7                                       Sem maracujá            10\n",
              "7        8                                     Servir no copo             8\n",
              "8       10                                  Adicionar pimenta            11\n",
              "9        9                              Porção extra de arroz            14\n",
              "10      11                                     Só filé mignon            27\n",
              "11      12                                      Copo com gelo            30\n",
              "12      13                                  Azeitonas no copo            35\n",
              "13      14                                   Legumes no ponto            40\n",
              "14      15                                           Limonada            41\n",
              "15      16                               Abrir na minha frete            50\n",
              "16      17                                 Água de coco junto            54\n",
              "17      18                                       Coloca limão            55\n",
              "18      19  Ostras de Vitória mesmo. De Santa Catarina vai...            66\n",
              "19      20                                    2 águas de coco            72"
            ]
          },
          "metadata": {
            "tags": []
          },
          "execution_count": 38
        }
      ]
    },
    {
      "cell_type": "markdown",
      "metadata": {
        "colab_type": "text",
        "id": "vO3oLYaop1oV"
      },
      "source": [
        "### Pedido"
      ]
    },
    {
      "cell_type": "code",
      "metadata": {
        "colab_type": "code",
        "id": "GaxnBIQWp1oj",
        "colab": {}
      },
      "source": [
        "cursor_dlt_pedido = conn.cursor()\n",
        "cursor_dlt_pedido.execute(\"\"\"delete from pedido\n",
        "                                    where id_pedido = 73;\"\"\")\n"
      ],
      "execution_count": 39,
      "outputs": []
    },
    {
      "cell_type": "code",
      "metadata": {
        "colab_type": "code",
        "id": "lms3GRaKp1pJ",
        "colab": {}
      },
      "source": [
        "dlt_pedido = pd.read_sql_query(\"\"\"select * from pedido\"\"\", conn)"
      ],
      "execution_count": 40,
      "outputs": []
    },
    {
      "cell_type": "code",
      "metadata": {
        "colab_type": "code",
        "id": "kG71mXufp1pi",
        "colab": {
          "base_uri": "https://localhost:8080/",
          "height": 424
        },
        "outputId": "9345757b-52ed-4f7e-f581-5deb1a8938a2"
      },
      "source": [
        "dlt_pedido"
      ],
      "execution_count": 41,
      "outputs": [
        {
          "output_type": "execute_result",
          "data": {
            "text/html": [
              "<div>\n",
              "<style scoped>\n",
              "    .dataframe tbody tr th:only-of-type {\n",
              "        vertical-align: middle;\n",
              "    }\n",
              "\n",
              "    .dataframe tbody tr th {\n",
              "        vertical-align: top;\n",
              "    }\n",
              "\n",
              "    .dataframe thead th {\n",
              "        text-align: right;\n",
              "    }\n",
              "</style>\n",
              "<table border=\"1\" class=\"dataframe\">\n",
              "  <thead>\n",
              "    <tr style=\"text-align: right;\">\n",
              "      <th></th>\n",
              "      <th>id_pedido</th>\n",
              "      <th>quantidade</th>\n",
              "      <th>hora</th>\n",
              "      <th>fk_id_comanda</th>\n",
              "      <th>fk_id_itemcardapio</th>\n",
              "    </tr>\n",
              "  </thead>\n",
              "  <tbody>\n",
              "    <tr>\n",
              "      <th>0</th>\n",
              "      <td>1</td>\n",
              "      <td>2</td>\n",
              "      <td>12:58:00</td>\n",
              "      <td>1</td>\n",
              "      <td>1</td>\n",
              "    </tr>\n",
              "    <tr>\n",
              "      <th>1</th>\n",
              "      <td>2</td>\n",
              "      <td>1</td>\n",
              "      <td>13:19:00</td>\n",
              "      <td>1</td>\n",
              "      <td>2</td>\n",
              "    </tr>\n",
              "    <tr>\n",
              "      <th>2</th>\n",
              "      <td>3</td>\n",
              "      <td>1</td>\n",
              "      <td>12:34:00</td>\n",
              "      <td>2</td>\n",
              "      <td>3</td>\n",
              "    </tr>\n",
              "    <tr>\n",
              "      <th>3</th>\n",
              "      <td>4</td>\n",
              "      <td>3</td>\n",
              "      <td>12:45:00</td>\n",
              "      <td>3</td>\n",
              "      <td>4</td>\n",
              "    </tr>\n",
              "    <tr>\n",
              "      <th>4</th>\n",
              "      <td>5</td>\n",
              "      <td>1</td>\n",
              "      <td>12:45:00</td>\n",
              "      <td>3</td>\n",
              "      <td>5</td>\n",
              "    </tr>\n",
              "    <tr>\n",
              "      <th>...</th>\n",
              "      <td>...</td>\n",
              "      <td>...</td>\n",
              "      <td>...</td>\n",
              "      <td>...</td>\n",
              "      <td>...</td>\n",
              "    </tr>\n",
              "    <tr>\n",
              "      <th>67</th>\n",
              "      <td>68</td>\n",
              "      <td>1</td>\n",
              "      <td>12:43:00</td>\n",
              "      <td>66</td>\n",
              "      <td>13</td>\n",
              "    </tr>\n",
              "    <tr>\n",
              "      <th>68</th>\n",
              "      <td>69</td>\n",
              "      <td>2</td>\n",
              "      <td>13:09:00</td>\n",
              "      <td>67</td>\n",
              "      <td>14</td>\n",
              "    </tr>\n",
              "    <tr>\n",
              "      <th>69</th>\n",
              "      <td>70</td>\n",
              "      <td>3</td>\n",
              "      <td>13:38:00</td>\n",
              "      <td>68</td>\n",
              "      <td>15</td>\n",
              "    </tr>\n",
              "    <tr>\n",
              "      <th>70</th>\n",
              "      <td>71</td>\n",
              "      <td>4</td>\n",
              "      <td>13:51:00</td>\n",
              "      <td>69</td>\n",
              "      <td>16</td>\n",
              "    </tr>\n",
              "    <tr>\n",
              "      <th>71</th>\n",
              "      <td>72</td>\n",
              "      <td>2</td>\n",
              "      <td>14:00:00</td>\n",
              "      <td>70</td>\n",
              "      <td>17</td>\n",
              "    </tr>\n",
              "  </tbody>\n",
              "</table>\n",
              "<p>72 rows × 5 columns</p>\n",
              "</div>"
            ],
            "text/plain": [
              "    id_pedido  quantidade      hora  fk_id_comanda  fk_id_itemcardapio\n",
              "0           1           2  12:58:00              1                   1\n",
              "1           2           1  13:19:00              1                   2\n",
              "2           3           1  12:34:00              2                   3\n",
              "3           4           3  12:45:00              3                   4\n",
              "4           5           1  12:45:00              3                   5\n",
              "..        ...         ...       ...            ...                 ...\n",
              "67         68           1  12:43:00             66                  13\n",
              "68         69           2  13:09:00             67                  14\n",
              "69         70           3  13:38:00             68                  15\n",
              "70         71           4  13:51:00             69                  16\n",
              "71         72           2  14:00:00             70                  17\n",
              "\n",
              "[72 rows x 5 columns]"
            ]
          },
          "metadata": {
            "tags": []
          },
          "execution_count": 41
        }
      ]
    }
  ]
}