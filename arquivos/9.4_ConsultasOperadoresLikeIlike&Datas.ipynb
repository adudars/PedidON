{
  "nbformat": 4,
  "nbformat_minor": 0,
  "metadata": {
    "colab": {
      "name": "9.4_ConsultasOperadoresLikeIlike&Datas.ipynb",
      "provenance": [],
      "collapsed_sections": [
        "-rho2dWh5QjC",
        "YJiKpFUr5Qjh",
        "gn9UW_KU5QkF",
        "mhZyBD8U5Qkl"
      ],
      "authorship_tag": "ABX9TyOkGoJw6c+qpLLaR9T3tU0D",
      "include_colab_link": true
    },
    "kernelspec": {
      "name": "python3",
      "display_name": "Python 3"
    }
  },
  "cells": [
    {
      "cell_type": "markdown",
      "metadata": {
        "id": "view-in-github",
        "colab_type": "text"
      },
      "source": [
        "<a href=\"https://colab.research.google.com/github/adudars/PedidON/blob/master/arquivos/9.4_ConsultasOperadoresLikeIlike%26Datas.ipynb\" target=\"_parent\"><img src=\"https://colab.research.google.com/assets/colab-badge.svg\" alt=\"Open In Colab\"/></a>"
      ]
    },
    {
      "cell_type": "markdown",
      "metadata": {
        "id": "tbJ_4aYwENvD",
        "colab_type": "text"
      },
      "source": [
        "# 9.4 CONSULTAS QUE USAM OPERADORES LIKE E DATAS"
      ]
    },
    {
      "cell_type": "markdown",
      "metadata": {
        "id": "N_SPUL1wC9Cy",
        "colab_type": "text"
      },
      "source": [
        "## ESTABELECENDO CONEXÃO\n",
        "\n",
        "\n"
      ]
    },
    {
      "cell_type": "markdown",
      "metadata": {
        "id": "2Zu6LMx9FZ2o",
        "colab_type": "text"
      },
      "source": [
        "### Instalando bibliotecas de acesso"
      ]
    },
    {
      "cell_type": "code",
      "metadata": {
        "id": "7y0VZn5eGT_B",
        "colab_type": "code",
        "colab": {}
      },
      "source": [
        "#!pip install --user psycopg2-binary\n",
        "#!pip install --user pandas"
      ],
      "execution_count": 1,
      "outputs": []
    },
    {
      "cell_type": "markdown",
      "metadata": {
        "id": "BiXhsGizEb4p",
        "colab_type": "text"
      },
      "source": [
        "### Importando bibliotecas"
      ]
    },
    {
      "cell_type": "code",
      "metadata": {
        "id": "pEEUdYDuqCHv",
        "colab_type": "code",
        "colab": {}
      },
      "source": [
        "import pandas as pd\n",
        "import psycopg2"
      ],
      "execution_count": 3,
      "outputs": []
    },
    {
      "cell_type": "markdown",
      "metadata": {
        "id": "pbbw322lDEC6",
        "colab_type": "text"
      },
      "source": [
        "### Conectando com o banco através do psycopg2"
      ]
    },
    {
      "cell_type": "code",
      "metadata": {
        "id": "hWeCAx6Wvgqv",
        "colab_type": "code",
        "colab": {}
      },
      "source": [
        "conn = psycopg2.connect(host=\"lallah.db.elephantsql.com\",database=\"nxthbnlu\", user=\"nxthbnlu\", password=\"buyAYKsY17pqexg1grIcJaWm0gHBsO2F\")"
      ],
      "execution_count": 4,
      "outputs": []
    },
    {
      "cell_type": "markdown",
      "metadata": {
        "id": "P0uP7FEoLDOc",
        "colab_type": "text"
      },
      "source": [
        "## CONSULTAS QUE USAM OPERADORES LIKE/ILIKE"
      ]
    },
    {
      "cell_type": "markdown",
      "metadata": {
        "id": "6DkJtqcaDJaO",
        "colab_type": "text"
      },
      "source": [
        "### Clientes que possuem a letra 'a' como a segunda letra do nome e um total de 4 letras"
      ]
    },
    {
      "cell_type": "code",
      "metadata": {
        "id": "m0i2AgIDytva",
        "colab_type": "code",
        "colab": {}
      },
      "source": [
        "clientes_a___ = pd.read_sql_query(\"\"\"select nome_cliente\n",
        "                                    from cliente\n",
        "                                    where nome_cliente like '_a__';\"\"\", conn)"
      ],
      "execution_count": 5,
      "outputs": []
    },
    {
      "cell_type": "code",
      "metadata": {
        "id": "cM9ZbCl5zmKE",
        "colab_type": "code",
        "colab": {
          "base_uri": "https://localhost:8080/",
          "height": 143
        },
        "outputId": "607238cf-ac6d-4579-e395-fdf15097f5c4"
      },
      "source": [
        "clientes_a___"
      ],
      "execution_count": 6,
      "outputs": [
        {
          "output_type": "execute_result",
          "data": {
            "text/html": [
              "<div>\n",
              "<style scoped>\n",
              "    .dataframe tbody tr th:only-of-type {\n",
              "        vertical-align: middle;\n",
              "    }\n",
              "\n",
              "    .dataframe tbody tr th {\n",
              "        vertical-align: top;\n",
              "    }\n",
              "\n",
              "    .dataframe thead th {\n",
              "        text-align: right;\n",
              "    }\n",
              "</style>\n",
              "<table border=\"1\" class=\"dataframe\">\n",
              "  <thead>\n",
              "    <tr style=\"text-align: right;\">\n",
              "      <th></th>\n",
              "      <th>nome_cliente</th>\n",
              "    </tr>\n",
              "  </thead>\n",
              "  <tbody>\n",
              "    <tr>\n",
              "      <th>0</th>\n",
              "      <td>Lara</td>\n",
              "    </tr>\n",
              "    <tr>\n",
              "      <th>1</th>\n",
              "      <td>Davi</td>\n",
              "    </tr>\n",
              "    <tr>\n",
              "      <th>2</th>\n",
              "      <td>Tais</td>\n",
              "    </tr>\n",
              "  </tbody>\n",
              "</table>\n",
              "</div>"
            ],
            "text/plain": [
              "  nome_cliente\n",
              "0         Lara\n",
              "1         Davi\n",
              "2         Tais"
            ]
          },
          "metadata": {
            "tags": []
          },
          "execution_count": 6
        }
      ]
    },
    {
      "cell_type": "markdown",
      "metadata": {
        "id": "4IYkr5E-DQV2",
        "colab_type": "text"
      },
      "source": [
        "### Clientes que possuem a letra 'a' no nome"
      ]
    },
    {
      "cell_type": "code",
      "metadata": {
        "colab_type": "code",
        "id": "O5fuPjFAD38Y",
        "colab": {}
      },
      "source": [
        "clientesA = pd.read_sql_query(\"\"\"select *\n",
        "                                from cliente\n",
        "                                where nome_cliente ilike '%a%';\"\"\", conn)"
      ],
      "execution_count": 12,
      "outputs": []
    },
    {
      "cell_type": "code",
      "metadata": {
        "id": "C2OQ_rvlDHBn",
        "colab_type": "code",
        "colab": {
          "base_uri": "https://localhost:8080/",
          "height": 269
        },
        "outputId": "d8b7f4be-9843-4165-e235-4c5ee5670188"
      },
      "source": [
        "clientesA"
      ],
      "execution_count": 13,
      "outputs": [
        {
          "output_type": "execute_result",
          "data": {
            "text/html": [
              "<div>\n",
              "<style scoped>\n",
              "    .dataframe tbody tr th:only-of-type {\n",
              "        vertical-align: middle;\n",
              "    }\n",
              "\n",
              "    .dataframe tbody tr th {\n",
              "        vertical-align: top;\n",
              "    }\n",
              "\n",
              "    .dataframe thead th {\n",
              "        text-align: right;\n",
              "    }\n",
              "</style>\n",
              "<table border=\"1\" class=\"dataframe\">\n",
              "  <thead>\n",
              "    <tr style=\"text-align: right;\">\n",
              "      <th></th>\n",
              "      <th>id_cliente</th>\n",
              "      <th>nome_cliente</th>\n",
              "      <th>cpf_cliente</th>\n",
              "    </tr>\n",
              "  </thead>\n",
              "  <tbody>\n",
              "    <tr>\n",
              "      <th>0</th>\n",
              "      <td>1</td>\n",
              "      <td>Lara</td>\n",
              "      <td>10582</td>\n",
              "    </tr>\n",
              "    <tr>\n",
              "      <th>1</th>\n",
              "      <td>3</td>\n",
              "      <td>Clara</td>\n",
              "      <td>12890</td>\n",
              "    </tr>\n",
              "    <tr>\n",
              "      <th>2</th>\n",
              "      <td>4</td>\n",
              "      <td>Davi</td>\n",
              "      <td>14045</td>\n",
              "    </tr>\n",
              "    <tr>\n",
              "      <th>3</th>\n",
              "      <td>6</td>\n",
              "      <td>Luiza</td>\n",
              "      <td>18662</td>\n",
              "    </tr>\n",
              "    <tr>\n",
              "      <th>4</th>\n",
              "      <td>7</td>\n",
              "      <td>Ana</td>\n",
              "      <td>16354</td>\n",
              "    </tr>\n",
              "    <tr>\n",
              "      <th>5</th>\n",
              "      <td>8</td>\n",
              "      <td>Tais</td>\n",
              "      <td>17508</td>\n",
              "    </tr>\n",
              "    <tr>\n",
              "      <th>6</th>\n",
              "      <td>9</td>\n",
              "      <td>Isabella</td>\n",
              "      <td>19817</td>\n",
              "    </tr>\n",
              "  </tbody>\n",
              "</table>\n",
              "</div>"
            ],
            "text/plain": [
              "   id_cliente nome_cliente  cpf_cliente\n",
              "0           1         Lara        10582\n",
              "1           3        Clara        12890\n",
              "2           4         Davi        14045\n",
              "3           6        Luiza        18662\n",
              "4           7          Ana        16354\n",
              "5           8         Tais        17508\n",
              "6           9     Isabella        19817"
            ]
          },
          "metadata": {
            "tags": []
          },
          "execution_count": 13
        }
      ]
    },
    {
      "cell_type": "markdown",
      "metadata": {
        "colab_type": "text",
        "id": "q_JZ8NcBD-2S"
      },
      "source": [
        "### Funcionários que possuem a letra 'o' como última letra do nome"
      ]
    },
    {
      "cell_type": "code",
      "metadata": {
        "colab_type": "code",
        "id": "8lR1zl3gD-2a",
        "colab": {}
      },
      "source": [
        "funcionarioO = pd.read_sql_query(\"\"\"select nome_funcionario\n",
        "                                from funcionario\n",
        "                                where nome_funcionario ilike '%O';\"\"\", conn)"
      ],
      "execution_count": 16,
      "outputs": []
    },
    {
      "cell_type": "code",
      "metadata": {
        "colab_type": "code",
        "id": "RryFY0SnD-2t",
        "colab": {
          "base_uri": "https://localhost:8080/",
          "height": 81
        },
        "outputId": "297caebd-df0f-4ecb-e93b-5993b75a9f76"
      },
      "source": [
        "funcionarioO"
      ],
      "execution_count": 17,
      "outputs": [
        {
          "output_type": "execute_result",
          "data": {
            "text/html": [
              "<div>\n",
              "<style scoped>\n",
              "    .dataframe tbody tr th:only-of-type {\n",
              "        vertical-align: middle;\n",
              "    }\n",
              "\n",
              "    .dataframe tbody tr th {\n",
              "        vertical-align: top;\n",
              "    }\n",
              "\n",
              "    .dataframe thead th {\n",
              "        text-align: right;\n",
              "    }\n",
              "</style>\n",
              "<table border=\"1\" class=\"dataframe\">\n",
              "  <thead>\n",
              "    <tr style=\"text-align: right;\">\n",
              "      <th></th>\n",
              "      <th>nome_funcionario</th>\n",
              "    </tr>\n",
              "  </thead>\n",
              "  <tbody>\n",
              "    <tr>\n",
              "      <th>0</th>\n",
              "      <td>Bernardo</td>\n",
              "    </tr>\n",
              "  </tbody>\n",
              "</table>\n",
              "</div>"
            ],
            "text/plain": [
              "  nome_funcionario\n",
              "0         Bernardo"
            ]
          },
          "metadata": {
            "tags": []
          },
          "execution_count": 17
        }
      ]
    },
    {
      "cell_type": "markdown",
      "metadata": {
        "colab_type": "text",
        "id": "gvxUz2ZLIDF7"
      },
      "source": [
        "### Dados de item de cardapio que possuem a letra 'b' como primeira letra do nome"
      ]
    },
    {
      "cell_type": "code",
      "metadata": {
        "colab_type": "code",
        "id": "Fs0mKPshIDGF",
        "colab": {}
      },
      "source": [
        "itemB = pd.read_sql_query(\"\"\"select *\n",
        "                            from item_cardapio\n",
        "                            where nome_item like 'B%';\"\"\", conn)"
      ],
      "execution_count": 18,
      "outputs": []
    },
    {
      "cell_type": "code",
      "metadata": {
        "id": "d1LK5RgRIKBH",
        "colab_type": "code",
        "colab": {
          "base_uri": "https://localhost:8080/",
          "height": 112
        },
        "outputId": "4c2328a0-3a85-426b-e60e-33241bc26698"
      },
      "source": [
        "itemB"
      ],
      "execution_count": 19,
      "outputs": [
        {
          "output_type": "execute_result",
          "data": {
            "text/html": [
              "<div>\n",
              "<style scoped>\n",
              "    .dataframe tbody tr th:only-of-type {\n",
              "        vertical-align: middle;\n",
              "    }\n",
              "\n",
              "    .dataframe tbody tr th {\n",
              "        vertical-align: top;\n",
              "    }\n",
              "\n",
              "    .dataframe thead th {\n",
              "        text-align: right;\n",
              "    }\n",
              "</style>\n",
              "<table border=\"1\" class=\"dataframe\">\n",
              "  <thead>\n",
              "    <tr style=\"text-align: right;\">\n",
              "      <th></th>\n",
              "      <th>id_itemcardapio</th>\n",
              "      <th>nome_item</th>\n",
              "      <th>preco</th>\n",
              "      <th>descricao</th>\n",
              "      <th>fk_id_categoria</th>\n",
              "      <th>fk_id_tamanho</th>\n",
              "    </tr>\n",
              "  </thead>\n",
              "  <tbody>\n",
              "    <tr>\n",
              "      <th>0</th>\n",
              "      <td>6</td>\n",
              "      <td>Bons ventos te trazem</td>\n",
              "      <td>25.9</td>\n",
              "      <td>Gin, redução de flor de sabugueiro, maracujá, ...</td>\n",
              "      <td>2</td>\n",
              "      <td>2</td>\n",
              "    </tr>\n",
              "    <tr>\n",
              "      <th>1</th>\n",
              "      <td>7</td>\n",
              "      <td>Barlavento</td>\n",
              "      <td>25.9</td>\n",
              "      <td>Gin, xarope de morango, maracujá, suco de lara...</td>\n",
              "      <td>2</td>\n",
              "      <td>2</td>\n",
              "    </tr>\n",
              "  </tbody>\n",
              "</table>\n",
              "</div>"
            ],
            "text/plain": [
              "   id_itemcardapio              nome_item  ...  fk_id_categoria fk_id_tamanho\n",
              "0                6  Bons ventos te trazem  ...                2             2\n",
              "1                7             Barlavento  ...                2             2\n",
              "\n",
              "[2 rows x 6 columns]"
            ]
          },
          "metadata": {
            "tags": []
          },
          "execution_count": 19
        }
      ]
    },
    {
      "cell_type": "markdown",
      "metadata": {
        "colab_type": "text",
        "id": "iXglAcByISem"
      },
      "source": [
        "### Dados de item de cardapio que possuem um total de 10 letras no nome"
      ]
    },
    {
      "cell_type": "code",
      "metadata": {
        "colab_type": "code",
        "id": "LUH8DisSISeu",
        "colab": {}
      },
      "source": [
        "item10 = pd.read_sql_query(\"\"\"select *\n",
        "                              from item_cardapio\n",
        "                              where nome_item ilike '__________';\"\"\", conn)"
      ],
      "execution_count": 20,
      "outputs": []
    },
    {
      "cell_type": "code",
      "metadata": {
        "id": "cZj89lWUIZDk",
        "colab_type": "code",
        "colab": {
          "base_uri": "https://localhost:8080/",
          "height": 112
        },
        "outputId": "1cc3e0af-c014-4024-d1eb-f4378b7afe51"
      },
      "source": [
        "item10"
      ],
      "execution_count": 21,
      "outputs": [
        {
          "output_type": "execute_result",
          "data": {
            "text/html": [
              "<div>\n",
              "<style scoped>\n",
              "    .dataframe tbody tr th:only-of-type {\n",
              "        vertical-align: middle;\n",
              "    }\n",
              "\n",
              "    .dataframe tbody tr th {\n",
              "        vertical-align: top;\n",
              "    }\n",
              "\n",
              "    .dataframe thead th {\n",
              "        text-align: right;\n",
              "    }\n",
              "</style>\n",
              "<table border=\"1\" class=\"dataframe\">\n",
              "  <thead>\n",
              "    <tr style=\"text-align: right;\">\n",
              "      <th></th>\n",
              "      <th>id_itemcardapio</th>\n",
              "      <th>nome_item</th>\n",
              "      <th>preco</th>\n",
              "      <th>descricao</th>\n",
              "      <th>fk_id_categoria</th>\n",
              "      <th>fk_id_tamanho</th>\n",
              "    </tr>\n",
              "  </thead>\n",
              "  <tbody>\n",
              "    <tr>\n",
              "      <th>0</th>\n",
              "      <td>7</td>\n",
              "      <td>Barlavento</td>\n",
              "      <td>25.9</td>\n",
              "      <td>Gin, xarope de morango, maracujá, suco de lara...</td>\n",
              "      <td>2</td>\n",
              "      <td>2</td>\n",
              "    </tr>\n",
              "    <tr>\n",
              "      <th>1</th>\n",
              "      <td>10</td>\n",
              "      <td>Cidade Sol</td>\n",
              "      <td>29.9</td>\n",
              "      <td>Whiskey Jack Daniels, maracujá, mix de cítrico...</td>\n",
              "      <td>2</td>\n",
              "      <td>2</td>\n",
              "    </tr>\n",
              "  </tbody>\n",
              "</table>\n",
              "</div>"
            ],
            "text/plain": [
              "   id_itemcardapio   nome_item  ...  fk_id_categoria fk_id_tamanho\n",
              "0                7  Barlavento  ...                2             2\n",
              "1               10  Cidade Sol  ...                2             2\n",
              "\n",
              "[2 rows x 6 columns]"
            ]
          },
          "metadata": {
            "tags": []
          },
          "execution_count": 21
        }
      ]
    },
    {
      "cell_type": "markdown",
      "metadata": {
        "colab_type": "text",
        "id": "LRE607PP5Qgb"
      },
      "source": [
        "## CONSULTAS QUE USAM DATAS"
      ]
    },
    {
      "cell_type": "markdown",
      "metadata": {
        "colab_type": "text",
        "id": "tC1G0Pw75Qgn"
      },
      "source": [
        "### Quantidade de atendimentos por mesa em datas menores ou iguais a data corrente"
      ]
    },
    {
      "cell_type": "code",
      "metadata": {
        "colab_type": "code",
        "id": "thHFQXVH5Qgw",
        "colab": {}
      },
      "source": [
        "atendimentos_mesa = pd.read_sql_query(\"\"\"select mesa, count(mesa) as vezes_usada_para_atendimento\n",
        "                              from comanda\n",
        "                              where data <= current_date\n",
        "                              group by mesa\n",
        "                              order by vezes_usada_para_atendimento desc;\"\"\", conn)"
      ],
      "execution_count": 38,
      "outputs": []
    },
    {
      "cell_type": "code",
      "metadata": {
        "colab_type": "code",
        "id": "erIgopUa5QhS",
        "colab": {
          "base_uri": "https://localhost:8080/",
          "height": 238
        },
        "outputId": "02728152-00b5-489a-a8ba-31eff31d65b6"
      },
      "source": [
        "atendimentos_mesa"
      ],
      "execution_count": 39,
      "outputs": [
        {
          "output_type": "execute_result",
          "data": {
            "text/html": [
              "<div>\n",
              "<style scoped>\n",
              "    .dataframe tbody tr th:only-of-type {\n",
              "        vertical-align: middle;\n",
              "    }\n",
              "\n",
              "    .dataframe tbody tr th {\n",
              "        vertical-align: top;\n",
              "    }\n",
              "\n",
              "    .dataframe thead th {\n",
              "        text-align: right;\n",
              "    }\n",
              "</style>\n",
              "<table border=\"1\" class=\"dataframe\">\n",
              "  <thead>\n",
              "    <tr style=\"text-align: right;\">\n",
              "      <th></th>\n",
              "      <th>mesa</th>\n",
              "      <th>vezes_usada_para_atendimento</th>\n",
              "    </tr>\n",
              "  </thead>\n",
              "  <tbody>\n",
              "    <tr>\n",
              "      <th>0</th>\n",
              "      <td>13</td>\n",
              "      <td>4</td>\n",
              "    </tr>\n",
              "    <tr>\n",
              "      <th>1</th>\n",
              "      <td>12</td>\n",
              "      <td>3</td>\n",
              "    </tr>\n",
              "    <tr>\n",
              "      <th>2</th>\n",
              "      <td>4</td>\n",
              "      <td>2</td>\n",
              "    </tr>\n",
              "    <tr>\n",
              "      <th>3</th>\n",
              "      <td>1</td>\n",
              "      <td>2</td>\n",
              "    </tr>\n",
              "    <tr>\n",
              "      <th>4</th>\n",
              "      <td>3</td>\n",
              "      <td>1</td>\n",
              "    </tr>\n",
              "    <tr>\n",
              "      <th>5</th>\n",
              "      <td>2</td>\n",
              "      <td>1</td>\n",
              "    </tr>\n",
              "  </tbody>\n",
              "</table>\n",
              "</div>"
            ],
            "text/plain": [
              "   mesa  vezes_usada_para_atendimento\n",
              "0    13                             4\n",
              "1    12                             3\n",
              "2     4                             2\n",
              "3     1                             2\n",
              "4     3                             1\n",
              "5     2                             1"
            ]
          },
          "metadata": {
            "tags": []
          },
          "execution_count": 39
        }
      ]
    },
    {
      "cell_type": "markdown",
      "metadata": {
        "colab_type": "text",
        "id": "ArRwtyKk5Qhw"
      },
      "source": [
        "### Datas dos pedidos realizados, data corrente e quantidade de dias entre as datas"
      ]
    },
    {
      "cell_type": "code",
      "metadata": {
        "colab_type": "code",
        "id": "27DmMMEI5Qh3",
        "colab": {}
      },
      "source": [
        "data_pedidos = pd.read_sql_query(\"\"\"select data as data_pedidos, current_date as data_de_hoje, age(current_date,data) as dias_corridos_ate_hoje\n",
        "                                    from comanda\n",
        "                                    group by data_pedidos\n",
        "                                    order by data_pedidos asc;\"\"\", conn)"
      ],
      "execution_count": 40,
      "outputs": []
    },
    {
      "cell_type": "code",
      "metadata": {
        "colab_type": "code",
        "id": "gtCVOLFl5QiM",
        "colab": {
          "base_uri": "https://localhost:8080/",
          "height": 143
        },
        "outputId": "f3551781-bfed-4bdd-b2b5-fba5cf52bae2"
      },
      "source": [
        "data_pedidos"
      ],
      "execution_count": 41,
      "outputs": [
        {
          "output_type": "execute_result",
          "data": {
            "text/html": [
              "<div>\n",
              "<style scoped>\n",
              "    .dataframe tbody tr th:only-of-type {\n",
              "        vertical-align: middle;\n",
              "    }\n",
              "\n",
              "    .dataframe tbody tr th {\n",
              "        vertical-align: top;\n",
              "    }\n",
              "\n",
              "    .dataframe thead th {\n",
              "        text-align: right;\n",
              "    }\n",
              "</style>\n",
              "<table border=\"1\" class=\"dataframe\">\n",
              "  <thead>\n",
              "    <tr style=\"text-align: right;\">\n",
              "      <th></th>\n",
              "      <th>data_pedidos</th>\n",
              "      <th>data_de_hoje</th>\n",
              "      <th>dias_corridos_ate_hoje</th>\n",
              "    </tr>\n",
              "  </thead>\n",
              "  <tbody>\n",
              "    <tr>\n",
              "      <th>0</th>\n",
              "      <td>2020-07-30</td>\n",
              "      <td>2020-09-12</td>\n",
              "      <td>43 days</td>\n",
              "    </tr>\n",
              "    <tr>\n",
              "      <th>1</th>\n",
              "      <td>2020-07-31</td>\n",
              "      <td>2020-09-12</td>\n",
              "      <td>42 days</td>\n",
              "    </tr>\n",
              "    <tr>\n",
              "      <th>2</th>\n",
              "      <td>2020-08-01</td>\n",
              "      <td>2020-09-12</td>\n",
              "      <td>41 days</td>\n",
              "    </tr>\n",
              "  </tbody>\n",
              "</table>\n",
              "</div>"
            ],
            "text/plain": [
              "  data_pedidos data_de_hoje dias_corridos_ate_hoje\n",
              "0   2020-07-30   2020-09-12                43 days\n",
              "1   2020-07-31   2020-09-12                42 days\n",
              "2   2020-08-01   2020-09-12                41 days"
            ]
          },
          "metadata": {
            "tags": []
          },
          "execution_count": 41
        }
      ]
    },
    {
      "cell_type": "markdown",
      "metadata": {
        "colab_type": "text",
        "id": "wwLxJxM65Qid"
      },
      "source": [
        "### Núrmero referente ao mês da data dos pedidos realizados"
      ]
    },
    {
      "cell_type": "code",
      "metadata": {
        "colab_type": "code",
        "id": "Rv7R7nVn5Qih",
        "colab": {}
      },
      "source": [
        "mes_pedido = pd.read_sql_query(\"\"\"select data as data_pedidos, date_part('month',data) as mes\n",
        "                                  from comanda\n",
        "                                  group by data_pedidos;\"\"\", conn)"
      ],
      "execution_count": 44,
      "outputs": []
    },
    {
      "cell_type": "code",
      "metadata": {
        "colab_type": "code",
        "id": "LyacUOzL5Qix",
        "colab": {
          "base_uri": "https://localhost:8080/",
          "height": 143
        },
        "outputId": "7f20ec8e-9e97-4e69-af69-b7ecdcac2781"
      },
      "source": [
        "mes_pedido"
      ],
      "execution_count": 45,
      "outputs": [
        {
          "output_type": "execute_result",
          "data": {
            "text/html": [
              "<div>\n",
              "<style scoped>\n",
              "    .dataframe tbody tr th:only-of-type {\n",
              "        vertical-align: middle;\n",
              "    }\n",
              "\n",
              "    .dataframe tbody tr th {\n",
              "        vertical-align: top;\n",
              "    }\n",
              "\n",
              "    .dataframe thead th {\n",
              "        text-align: right;\n",
              "    }\n",
              "</style>\n",
              "<table border=\"1\" class=\"dataframe\">\n",
              "  <thead>\n",
              "    <tr style=\"text-align: right;\">\n",
              "      <th></th>\n",
              "      <th>data_pedidos</th>\n",
              "      <th>mes</th>\n",
              "    </tr>\n",
              "  </thead>\n",
              "  <tbody>\n",
              "    <tr>\n",
              "      <th>0</th>\n",
              "      <td>2020-08-01</td>\n",
              "      <td>8.0</td>\n",
              "    </tr>\n",
              "    <tr>\n",
              "      <th>1</th>\n",
              "      <td>2020-07-30</td>\n",
              "      <td>7.0</td>\n",
              "    </tr>\n",
              "    <tr>\n",
              "      <th>2</th>\n",
              "      <td>2020-07-31</td>\n",
              "      <td>7.0</td>\n",
              "    </tr>\n",
              "  </tbody>\n",
              "</table>\n",
              "</div>"
            ],
            "text/plain": [
              "  data_pedidos  mes\n",
              "0   2020-08-01  8.0\n",
              "1   2020-07-30  7.0\n",
              "2   2020-07-31  7.0"
            ]
          },
          "metadata": {
            "tags": []
          },
          "execution_count": 45
        }
      ]
    },
    {
      "cell_type": "markdown",
      "metadata": {
        "colab_type": "text",
        "id": "-rho2dWh5QjC"
      },
      "source": [
        "### Comandas com datas finitas"
      ]
    },
    {
      "cell_type": "code",
      "metadata": {
        "colab_type": "code",
        "id": "P7Dbn0tD5QjG",
        "colab": {}
      },
      "source": [
        "data_finita = pd.read_sql_query(\"\"\"select isfinite(data) as datas_finita\n",
        "                              from comanda\n",
        "                              group by datas_finita;\"\"\", conn)"
      ],
      "execution_count": 46,
      "outputs": []
    },
    {
      "cell_type": "code",
      "metadata": {
        "colab_type": "code",
        "id": "WcED-piZ5QjT",
        "colab": {
          "base_uri": "https://localhost:8080/",
          "height": 81
        },
        "outputId": "85cae079-9eb6-4626-c9f8-e0635642818d"
      },
      "source": [
        "data_finita"
      ],
      "execution_count": 47,
      "outputs": [
        {
          "output_type": "execute_result",
          "data": {
            "text/html": [
              "<div>\n",
              "<style scoped>\n",
              "    .dataframe tbody tr th:only-of-type {\n",
              "        vertical-align: middle;\n",
              "    }\n",
              "\n",
              "    .dataframe tbody tr th {\n",
              "        vertical-align: top;\n",
              "    }\n",
              "\n",
              "    .dataframe thead th {\n",
              "        text-align: right;\n",
              "    }\n",
              "</style>\n",
              "<table border=\"1\" class=\"dataframe\">\n",
              "  <thead>\n",
              "    <tr style=\"text-align: right;\">\n",
              "      <th></th>\n",
              "      <th>datas_finita</th>\n",
              "    </tr>\n",
              "  </thead>\n",
              "  <tbody>\n",
              "    <tr>\n",
              "      <th>0</th>\n",
              "      <td>True</td>\n",
              "    </tr>\n",
              "  </tbody>\n",
              "</table>\n",
              "</div>"
            ],
            "text/plain": [
              "   datas_finita\n",
              "0          True"
            ]
          },
          "metadata": {
            "tags": []
          },
          "execution_count": 47
        }
      ]
    },
    {
      "cell_type": "markdown",
      "metadata": {
        "colab_type": "text",
        "id": "YJiKpFUr5Qjh"
      },
      "source": [
        "### Ano referente às comandas"
      ]
    },
    {
      "cell_type": "code",
      "metadata": {
        "colab_type": "code",
        "id": "GfLd34oD5Qjn",
        "colab": {}
      },
      "source": [
        "data_ano = pd.read_sql_query(\"\"\"select data as data_pedidos, extract('year' from data) as ano\n",
        "                                from comanda\n",
        "                                group by data_pedidos;\"\"\", conn)"
      ],
      "execution_count": 49,
      "outputs": []
    },
    {
      "cell_type": "code",
      "metadata": {
        "colab_type": "code",
        "id": "icrIAm_95Qj3",
        "colab": {
          "base_uri": "https://localhost:8080/",
          "height": 143
        },
        "outputId": "46ef7b9c-d3e8-467f-c535-4ee131efd0c9"
      },
      "source": [
        "data_ano"
      ],
      "execution_count": 50,
      "outputs": [
        {
          "output_type": "execute_result",
          "data": {
            "text/html": [
              "<div>\n",
              "<style scoped>\n",
              "    .dataframe tbody tr th:only-of-type {\n",
              "        vertical-align: middle;\n",
              "    }\n",
              "\n",
              "    .dataframe tbody tr th {\n",
              "        vertical-align: top;\n",
              "    }\n",
              "\n",
              "    .dataframe thead th {\n",
              "        text-align: right;\n",
              "    }\n",
              "</style>\n",
              "<table border=\"1\" class=\"dataframe\">\n",
              "  <thead>\n",
              "    <tr style=\"text-align: right;\">\n",
              "      <th></th>\n",
              "      <th>data_pedidos</th>\n",
              "      <th>ano</th>\n",
              "    </tr>\n",
              "  </thead>\n",
              "  <tbody>\n",
              "    <tr>\n",
              "      <th>0</th>\n",
              "      <td>2020-08-01</td>\n",
              "      <td>2020.0</td>\n",
              "    </tr>\n",
              "    <tr>\n",
              "      <th>1</th>\n",
              "      <td>2020-07-30</td>\n",
              "      <td>2020.0</td>\n",
              "    </tr>\n",
              "    <tr>\n",
              "      <th>2</th>\n",
              "      <td>2020-07-31</td>\n",
              "      <td>2020.0</td>\n",
              "    </tr>\n",
              "  </tbody>\n",
              "</table>\n",
              "</div>"
            ],
            "text/plain": [
              "  data_pedidos     ano\n",
              "0   2020-08-01  2020.0\n",
              "1   2020-07-30  2020.0\n",
              "2   2020-07-31  2020.0"
            ]
          },
          "metadata": {
            "tags": []
          },
          "execution_count": 50
        }
      ]
    },
    {
      "cell_type": "markdown",
      "metadata": {
        "colab_type": "text",
        "id": "gn9UW_KU5QkF"
      },
      "source": [
        "### Data e hora dos pedidos realizados"
      ]
    },
    {
      "cell_type": "code",
      "metadata": {
        "colab_type": "code",
        "id": "I1ZaKhmB5QkH",
        "colab": {}
      },
      "source": [
        "data_hora = pd.read_sql_query(\"\"\"select nome_cliente, concat(data, ' ' ,hora) as data_hora_pedido\n",
        "                            from comanda as c\n",
        "                            inner join pedido as p on\n",
        "                            (p.fk_id_comanda = c.id_comanda)\n",
        "                            inner join cliente as cl on\n",
        "                            (cl.id_cliente = c.fk_id_cliente)\n",
        "                            order by data_hora_pedido asc;\"\"\", conn)"
      ],
      "execution_count": 53,
      "outputs": []
    },
    {
      "cell_type": "code",
      "metadata": {
        "colab_type": "code",
        "id": "As-QzdOl5QkX",
        "colab": {
          "base_uri": "https://localhost:8080/",
          "height": 834
        },
        "outputId": "e3d487b7-15c1-40e0-c636-a93f534d3251"
      },
      "source": [
        "data_hora"
      ],
      "execution_count": 54,
      "outputs": [
        {
          "output_type": "execute_result",
          "data": {
            "text/html": [
              "<div>\n",
              "<style scoped>\n",
              "    .dataframe tbody tr th:only-of-type {\n",
              "        vertical-align: middle;\n",
              "    }\n",
              "\n",
              "    .dataframe tbody tr th {\n",
              "        vertical-align: top;\n",
              "    }\n",
              "\n",
              "    .dataframe thead th {\n",
              "        text-align: right;\n",
              "    }\n",
              "</style>\n",
              "<table border=\"1\" class=\"dataframe\">\n",
              "  <thead>\n",
              "    <tr style=\"text-align: right;\">\n",
              "      <th></th>\n",
              "      <th>nome_cliente</th>\n",
              "      <th>data_hora_pedido</th>\n",
              "    </tr>\n",
              "  </thead>\n",
              "  <tbody>\n",
              "    <tr>\n",
              "      <th>0</th>\n",
              "      <td>Davi</td>\n",
              "      <td>2020-07-30 12:23:00</td>\n",
              "    </tr>\n",
              "    <tr>\n",
              "      <th>1</th>\n",
              "      <td>Jorge</td>\n",
              "      <td>2020-07-30 12:34:00</td>\n",
              "    </tr>\n",
              "    <tr>\n",
              "      <th>2</th>\n",
              "      <td>Davi</td>\n",
              "      <td>2020-07-30 12:37:00</td>\n",
              "    </tr>\n",
              "    <tr>\n",
              "      <th>3</th>\n",
              "      <td>Clara</td>\n",
              "      <td>2020-07-30 12:45:00</td>\n",
              "    </tr>\n",
              "    <tr>\n",
              "      <th>4</th>\n",
              "      <td>Clara</td>\n",
              "      <td>2020-07-30 12:45:00</td>\n",
              "    </tr>\n",
              "    <tr>\n",
              "      <th>5</th>\n",
              "      <td>Lara</td>\n",
              "      <td>2020-07-30 12:58:00</td>\n",
              "    </tr>\n",
              "    <tr>\n",
              "      <th>6</th>\n",
              "      <td>Lara</td>\n",
              "      <td>2020-07-30 13:19:00</td>\n",
              "    </tr>\n",
              "    <tr>\n",
              "      <th>7</th>\n",
              "      <td>Clara</td>\n",
              "      <td>2020-07-30 13:30:00</td>\n",
              "    </tr>\n",
              "    <tr>\n",
              "      <th>8</th>\n",
              "      <td>Milton</td>\n",
              "      <td>2020-07-30 13:42:00</td>\n",
              "    </tr>\n",
              "    <tr>\n",
              "      <th>9</th>\n",
              "      <td>Luiza</td>\n",
              "      <td>2020-07-31 12:21:00</td>\n",
              "    </tr>\n",
              "    <tr>\n",
              "      <th>10</th>\n",
              "      <td>Jorge</td>\n",
              "      <td>2020-07-31 12:26:00</td>\n",
              "    </tr>\n",
              "    <tr>\n",
              "      <th>11</th>\n",
              "      <td>Jorge</td>\n",
              "      <td>2020-07-31 12:57:00</td>\n",
              "    </tr>\n",
              "    <tr>\n",
              "      <th>12</th>\n",
              "      <td>Tais</td>\n",
              "      <td>2020-07-31 13:02:00</td>\n",
              "    </tr>\n",
              "    <tr>\n",
              "      <th>13</th>\n",
              "      <td>Ana</td>\n",
              "      <td>2020-07-31 13:15:00</td>\n",
              "    </tr>\n",
              "    <tr>\n",
              "      <th>14</th>\n",
              "      <td>Ana</td>\n",
              "      <td>2020-07-31 13:38:00</td>\n",
              "    </tr>\n",
              "    <tr>\n",
              "      <th>15</th>\n",
              "      <td>Jorge</td>\n",
              "      <td>2020-08-01 12:18:00</td>\n",
              "    </tr>\n",
              "    <tr>\n",
              "      <th>16</th>\n",
              "      <td>Isabella</td>\n",
              "      <td>2020-08-01 12:43:00</td>\n",
              "    </tr>\n",
              "    <tr>\n",
              "      <th>17</th>\n",
              "      <td>Davi</td>\n",
              "      <td>2020-08-01 13:04:00</td>\n",
              "    </tr>\n",
              "    <tr>\n",
              "      <th>18</th>\n",
              "      <td>Isabella</td>\n",
              "      <td>2020-08-01 13:09:00</td>\n",
              "    </tr>\n",
              "    <tr>\n",
              "      <th>19</th>\n",
              "      <td>Davi</td>\n",
              "      <td>2020-08-01 13:37:00</td>\n",
              "    </tr>\n",
              "    <tr>\n",
              "      <th>20</th>\n",
              "      <td>Henrique</td>\n",
              "      <td>2020-08-01 13:38:00</td>\n",
              "    </tr>\n",
              "    <tr>\n",
              "      <th>21</th>\n",
              "      <td>Davi</td>\n",
              "      <td>2020-08-01 13:49:00</td>\n",
              "    </tr>\n",
              "    <tr>\n",
              "      <th>22</th>\n",
              "      <td>Henrique</td>\n",
              "      <td>2020-08-01 13:51:00</td>\n",
              "    </tr>\n",
              "    <tr>\n",
              "      <th>23</th>\n",
              "      <td>Henrique</td>\n",
              "      <td>2020-08-01 14:23:00</td>\n",
              "    </tr>\n",
              "    <tr>\n",
              "      <th>24</th>\n",
              "      <td>Henrique</td>\n",
              "      <td>2020-08-01 14:29:00</td>\n",
              "    </tr>\n",
              "  </tbody>\n",
              "</table>\n",
              "</div>"
            ],
            "text/plain": [
              "   nome_cliente     data_hora_pedido\n",
              "0          Davi  2020-07-30 12:23:00\n",
              "1         Jorge  2020-07-30 12:34:00\n",
              "2          Davi  2020-07-30 12:37:00\n",
              "3         Clara  2020-07-30 12:45:00\n",
              "4         Clara  2020-07-30 12:45:00\n",
              "5          Lara  2020-07-30 12:58:00\n",
              "6          Lara  2020-07-30 13:19:00\n",
              "7         Clara  2020-07-30 13:30:00\n",
              "8        Milton  2020-07-30 13:42:00\n",
              "9         Luiza  2020-07-31 12:21:00\n",
              "10        Jorge  2020-07-31 12:26:00\n",
              "11        Jorge  2020-07-31 12:57:00\n",
              "12         Tais  2020-07-31 13:02:00\n",
              "13          Ana  2020-07-31 13:15:00\n",
              "14          Ana  2020-07-31 13:38:00\n",
              "15        Jorge  2020-08-01 12:18:00\n",
              "16     Isabella  2020-08-01 12:43:00\n",
              "17         Davi  2020-08-01 13:04:00\n",
              "18     Isabella  2020-08-01 13:09:00\n",
              "19         Davi  2020-08-01 13:37:00\n",
              "20     Henrique  2020-08-01 13:38:00\n",
              "21         Davi  2020-08-01 13:49:00\n",
              "22     Henrique  2020-08-01 13:51:00\n",
              "23     Henrique  2020-08-01 14:23:00\n",
              "24     Henrique  2020-08-01 14:29:00"
            ]
          },
          "metadata": {
            "tags": []
          },
          "execution_count": 54
        }
      ]
    },
    {
      "cell_type": "markdown",
      "metadata": {
        "colab_type": "text",
        "id": "mhZyBD8U5Qkl"
      },
      "source": [
        "### Data e hora dos pedidos realizados menores ou iguais a data e hora corrente"
      ]
    },
    {
      "cell_type": "code",
      "metadata": {
        "colab_type": "code",
        "id": "ySPMzXlT5Qkp",
        "colab": {}
      },
      "source": [
        "data_hora_corrente = pd.read_sql_query(\"\"\"select data as data_pedido, hora\n",
        "                                  from comanda as c\n",
        "                                  inner join pedido as p on\n",
        "                                  (p.fk_id_comanda = c.id_comanda)\n",
        "                                  where hora <= current_time and data <= current_date;\"\"\", conn)"
      ],
      "execution_count": 56,
      "outputs": []
    },
    {
      "cell_type": "code",
      "metadata": {
        "colab_type": "code",
        "id": "fego4cI25Qk2",
        "colab": {
          "base_uri": "https://localhost:8080/",
          "height": 834
        },
        "outputId": "db6fe856-69f3-4841-ef00-1a9d3dc796a0"
      },
      "source": [
        "data_hora_corrente"
      ],
      "execution_count": 57,
      "outputs": [
        {
          "output_type": "execute_result",
          "data": {
            "text/html": [
              "<div>\n",
              "<style scoped>\n",
              "    .dataframe tbody tr th:only-of-type {\n",
              "        vertical-align: middle;\n",
              "    }\n",
              "\n",
              "    .dataframe tbody tr th {\n",
              "        vertical-align: top;\n",
              "    }\n",
              "\n",
              "    .dataframe thead th {\n",
              "        text-align: right;\n",
              "    }\n",
              "</style>\n",
              "<table border=\"1\" class=\"dataframe\">\n",
              "  <thead>\n",
              "    <tr style=\"text-align: right;\">\n",
              "      <th></th>\n",
              "      <th>data_pedido</th>\n",
              "      <th>hora</th>\n",
              "    </tr>\n",
              "  </thead>\n",
              "  <tbody>\n",
              "    <tr>\n",
              "      <th>0</th>\n",
              "      <td>2020-07-30</td>\n",
              "      <td>12:58:00</td>\n",
              "    </tr>\n",
              "    <tr>\n",
              "      <th>1</th>\n",
              "      <td>2020-07-30</td>\n",
              "      <td>13:19:00</td>\n",
              "    </tr>\n",
              "    <tr>\n",
              "      <th>2</th>\n",
              "      <td>2020-07-30</td>\n",
              "      <td>12:34:00</td>\n",
              "    </tr>\n",
              "    <tr>\n",
              "      <th>3</th>\n",
              "      <td>2020-07-30</td>\n",
              "      <td>12:45:00</td>\n",
              "    </tr>\n",
              "    <tr>\n",
              "      <th>4</th>\n",
              "      <td>2020-07-30</td>\n",
              "      <td>12:45:00</td>\n",
              "    </tr>\n",
              "    <tr>\n",
              "      <th>5</th>\n",
              "      <td>2020-07-30</td>\n",
              "      <td>13:30:00</td>\n",
              "    </tr>\n",
              "    <tr>\n",
              "      <th>6</th>\n",
              "      <td>2020-07-30</td>\n",
              "      <td>12:23:00</td>\n",
              "    </tr>\n",
              "    <tr>\n",
              "      <th>7</th>\n",
              "      <td>2020-07-30</td>\n",
              "      <td>12:37:00</td>\n",
              "    </tr>\n",
              "    <tr>\n",
              "      <th>8</th>\n",
              "      <td>2020-07-30</td>\n",
              "      <td>13:42:00</td>\n",
              "    </tr>\n",
              "    <tr>\n",
              "      <th>9</th>\n",
              "      <td>2020-07-31</td>\n",
              "      <td>12:26:00</td>\n",
              "    </tr>\n",
              "    <tr>\n",
              "      <th>10</th>\n",
              "      <td>2020-07-31</td>\n",
              "      <td>12:57:00</td>\n",
              "    </tr>\n",
              "    <tr>\n",
              "      <th>11</th>\n",
              "      <td>2020-07-31</td>\n",
              "      <td>12:21:00</td>\n",
              "    </tr>\n",
              "    <tr>\n",
              "      <th>12</th>\n",
              "      <td>2020-07-31</td>\n",
              "      <td>13:15:00</td>\n",
              "    </tr>\n",
              "    <tr>\n",
              "      <th>13</th>\n",
              "      <td>2020-07-31</td>\n",
              "      <td>13:38:00</td>\n",
              "    </tr>\n",
              "    <tr>\n",
              "      <th>14</th>\n",
              "      <td>2020-07-31</td>\n",
              "      <td>13:02:00</td>\n",
              "    </tr>\n",
              "    <tr>\n",
              "      <th>15</th>\n",
              "      <td>2020-08-01</td>\n",
              "      <td>13:04:00</td>\n",
              "    </tr>\n",
              "    <tr>\n",
              "      <th>16</th>\n",
              "      <td>2020-08-01</td>\n",
              "      <td>13:37:00</td>\n",
              "    </tr>\n",
              "    <tr>\n",
              "      <th>17</th>\n",
              "      <td>2020-08-01</td>\n",
              "      <td>13:49:00</td>\n",
              "    </tr>\n",
              "    <tr>\n",
              "      <th>18</th>\n",
              "      <td>2020-08-01</td>\n",
              "      <td>12:18:00</td>\n",
              "    </tr>\n",
              "    <tr>\n",
              "      <th>19</th>\n",
              "      <td>2020-08-01</td>\n",
              "      <td>12:43:00</td>\n",
              "    </tr>\n",
              "    <tr>\n",
              "      <th>20</th>\n",
              "      <td>2020-08-01</td>\n",
              "      <td>13:09:00</td>\n",
              "    </tr>\n",
              "    <tr>\n",
              "      <th>21</th>\n",
              "      <td>2020-08-01</td>\n",
              "      <td>13:38:00</td>\n",
              "    </tr>\n",
              "    <tr>\n",
              "      <th>22</th>\n",
              "      <td>2020-08-01</td>\n",
              "      <td>13:51:00</td>\n",
              "    </tr>\n",
              "    <tr>\n",
              "      <th>23</th>\n",
              "      <td>2020-08-01</td>\n",
              "      <td>14:23:00</td>\n",
              "    </tr>\n",
              "    <tr>\n",
              "      <th>24</th>\n",
              "      <td>2020-08-01</td>\n",
              "      <td>14:29:00</td>\n",
              "    </tr>\n",
              "  </tbody>\n",
              "</table>\n",
              "</div>"
            ],
            "text/plain": [
              "   data_pedido      hora\n",
              "0   2020-07-30  12:58:00\n",
              "1   2020-07-30  13:19:00\n",
              "2   2020-07-30  12:34:00\n",
              "3   2020-07-30  12:45:00\n",
              "4   2020-07-30  12:45:00\n",
              "5   2020-07-30  13:30:00\n",
              "6   2020-07-30  12:23:00\n",
              "7   2020-07-30  12:37:00\n",
              "8   2020-07-30  13:42:00\n",
              "9   2020-07-31  12:26:00\n",
              "10  2020-07-31  12:57:00\n",
              "11  2020-07-31  12:21:00\n",
              "12  2020-07-31  13:15:00\n",
              "13  2020-07-31  13:38:00\n",
              "14  2020-07-31  13:02:00\n",
              "15  2020-08-01  13:04:00\n",
              "16  2020-08-01  13:37:00\n",
              "17  2020-08-01  13:49:00\n",
              "18  2020-08-01  12:18:00\n",
              "19  2020-08-01  12:43:00\n",
              "20  2020-08-01  13:09:00\n",
              "21  2020-08-01  13:38:00\n",
              "22  2020-08-01  13:51:00\n",
              "23  2020-08-01  14:23:00\n",
              "24  2020-08-01  14:29:00"
            ]
          },
          "metadata": {
            "tags": []
          },
          "execution_count": 57
        }
      ]
    }
  ]
}