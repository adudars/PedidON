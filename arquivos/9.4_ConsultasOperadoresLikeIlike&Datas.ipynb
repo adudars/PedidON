{
  "nbformat": 4,
  "nbformat_minor": 0,
  "metadata": {
    "colab": {
      "name": "9.4_ConsultasOperadoresLikeIlike&Datas.ipynb",
      "provenance": [],
      "collapsed_sections": [
        "-rho2dWh5QjC",
        "YJiKpFUr5Qjh",
        "gn9UW_KU5QkF",
        "mhZyBD8U5Qkl"
      ],
      "authorship_tag": "ABX9TyOkGoJw6c+qpLLaR9T3tU0D",
      "include_colab_link": true
    },
    "kernelspec": {
      "name": "python3",
      "display_name": "Python 3"
    }
  },
  "cells": [
    {
      "cell_type": "markdown",
      "metadata": {
        "id": "view-in-github",
        "colab_type": "text"
      },
      "source": [
        "<a href=\"https://colab.research.google.com/github/adudars/PedidON/blob/master/arquivos/9.4_ConsultasOperadoresLikeIlike%26Datas.ipynb\" target=\"_parent\"><img src=\"https://colab.research.google.com/assets/colab-badge.svg\" alt=\"Open In Colab\"/></a>"
      ]
    },
    {
      "cell_type": "markdown",
      "metadata": {
        "id": "tbJ_4aYwENvD",
        "colab_type": "text"
      },
      "source": [
        "# 9.4 CONSULTAS QUE USAM OPERADORES LIKE E DATAS"
      ]
    },
    {
      "cell_type": "markdown",
      "metadata": {
        "id": "N_SPUL1wC9Cy",
        "colab_type": "text"
      },
      "source": [
        "## ESTABELECENDO CONEXÃO\n",
        "\n",
        "\n"
      ]
    },
    {
      "cell_type": "markdown",
      "metadata": {
        "id": "2Zu6LMx9FZ2o",
        "colab_type": "text"
      },
      "source": [
        "### Instalando bibliotecas de acesso"
      ]
    },
    {
      "cell_type": "code",
      "metadata": {
        "id": "7y0VZn5eGT_B",
        "colab_type": "code",
        "colab": {}
      },
      "source": [
        "#!pip install --user psycopg2-binary\n",
        "#!pip install --user pandas"
      ],
      "execution_count": 1,
      "outputs": []
    },
    {
      "cell_type": "markdown",
      "metadata": {
        "id": "BiXhsGizEb4p",
        "colab_type": "text"
      },
      "source": [
        "### Importando bibliotecas"
      ]
    },
    {
      "cell_type": "code",
      "metadata": {
        "id": "pEEUdYDuqCHv",
        "colab_type": "code",
        "colab": {}
      },
      "source": [
        "import pandas as pd\n",
        "import psycopg2"
      ],
      "execution_count": 3,
      "outputs": []
    },
    {
      "cell_type": "markdown",
      "metadata": {
        "id": "pbbw322lDEC6",
        "colab_type": "text"
      },
      "source": [
        "### Conectando com o banco através do psycopg2"
      ]
    },
    {
      "cell_type": "code",
      "metadata": {
        "id": "hWeCAx6Wvgqv",
        "colab_type": "code",
        "colab": {}
      },
      "source": [
        "conn = psycopg2.connect(host=\"lallah.db.elephantsql.com\",database=\"nxthbnlu\", user=\"nxthbnlu\", password=\"buyAYKsY17pqexg1grIcJaWm0gHBsO2F\")"
      ],
      "execution_count": 4,
      "outputs": []
    },
    {
      "cell_type": "markdown",
      "metadata": {
        "id": "P0uP7FEoLDOc",
        "colab_type": "text"
      },
      "source": [
        "## CONSULTAS QUE USAM OPERADORES LIKE/ILIKE"
      ]
    },
    {
      "cell_type": "markdown",
      "metadata": {
        "id": "6DkJtqcaDJaO",
        "colab_type": "text"
      },
      "source": [
        "### Clientes que possuem a letra 'a' como a segunda letra do nome e um total de 4 letras"
      ]
    },
    {
      "cell_type": "code",
      "metadata": {
        "id": "m0i2AgIDytva",
        "colab_type": "code",
        "colab": {}
      },
      "source": [
        "clientes_a___ = pd.read_sql_query(\"\"\"select nome_cliente\n",
        "                                    from cliente\n",
        "                                    where nome_cliente like '_a__';\"\"\", conn)"
      ],
      "execution_count": 5,
      "outputs": []
    },
    {
      "cell_type": "code",
      "metadata": {
        "id": "cM9ZbCl5zmKE",
        "colab_type": "code",
        "colab": {
          "base_uri": "https://localhost:8080/",
          "height": 143
        },
        "outputId": "f0a751de-2ee1-46c3-af99-a2756b8e97ee"
      },
      "source": [
        "clientes_a___"
      ],
      "execution_count": 6,
      "outputs": [
        {
          "output_type": "execute_result",
          "data": {
            "text/html": [
              "<div>\n",
              "<style scoped>\n",
              "    .dataframe tbody tr th:only-of-type {\n",
              "        vertical-align: middle;\n",
              "    }\n",
              "\n",
              "    .dataframe tbody tr th {\n",
              "        vertical-align: top;\n",
              "    }\n",
              "\n",
              "    .dataframe thead th {\n",
              "        text-align: right;\n",
              "    }\n",
              "</style>\n",
              "<table border=\"1\" class=\"dataframe\">\n",
              "  <thead>\n",
              "    <tr style=\"text-align: right;\">\n",
              "      <th></th>\n",
              "      <th>nome_cliente</th>\n",
              "    </tr>\n",
              "  </thead>\n",
              "  <tbody>\n",
              "    <tr>\n",
              "      <th>0</th>\n",
              "      <td>Lara</td>\n",
              "    </tr>\n",
              "    <tr>\n",
              "      <th>1</th>\n",
              "      <td>Davi</td>\n",
              "    </tr>\n",
              "    <tr>\n",
              "      <th>2</th>\n",
              "      <td>Tais</td>\n",
              "    </tr>\n",
              "  </tbody>\n",
              "</table>\n",
              "</div>"
            ],
            "text/plain": [
              "  nome_cliente\n",
              "0         Lara\n",
              "1         Davi\n",
              "2         Tais"
            ]
          },
          "metadata": {
            "tags": []
          },
          "execution_count": 6
        }
      ]
    },
    {
      "cell_type": "markdown",
      "metadata": {
        "id": "4IYkr5E-DQV2",
        "colab_type": "text"
      },
      "source": [
        "### Clientes que possuem a letra 'a' no nome"
      ]
    },
    {
      "cell_type": "code",
      "metadata": {
        "colab_type": "code",
        "id": "O5fuPjFAD38Y",
        "colab": {}
      },
      "source": [
        "clientesA = pd.read_sql_query(\"\"\"select *\n",
        "                                from cliente\n",
        "                                where nome_cliente ilike '%a%';\"\"\", conn)"
      ],
      "execution_count": 7,
      "outputs": []
    },
    {
      "cell_type": "code",
      "metadata": {
        "id": "C2OQ_rvlDHBn",
        "colab_type": "code",
        "colab": {
          "base_uri": "https://localhost:8080/",
          "height": 489
        },
        "outputId": "46e08fc1-8065-42e9-80f3-bdc3c50b2c93"
      },
      "source": [
        "clientesA"
      ],
      "execution_count": 8,
      "outputs": [
        {
          "output_type": "execute_result",
          "data": {
            "text/html": [
              "<div>\n",
              "<style scoped>\n",
              "    .dataframe tbody tr th:only-of-type {\n",
              "        vertical-align: middle;\n",
              "    }\n",
              "\n",
              "    .dataframe tbody tr th {\n",
              "        vertical-align: top;\n",
              "    }\n",
              "\n",
              "    .dataframe thead th {\n",
              "        text-align: right;\n",
              "    }\n",
              "</style>\n",
              "<table border=\"1\" class=\"dataframe\">\n",
              "  <thead>\n",
              "    <tr style=\"text-align: right;\">\n",
              "      <th></th>\n",
              "      <th>id_cliente</th>\n",
              "      <th>nome_cliente</th>\n",
              "      <th>cpf_cliente</th>\n",
              "    </tr>\n",
              "  </thead>\n",
              "  <tbody>\n",
              "    <tr>\n",
              "      <th>0</th>\n",
              "      <td>1</td>\n",
              "      <td>Lara</td>\n",
              "      <td>10582</td>\n",
              "    </tr>\n",
              "    <tr>\n",
              "      <th>1</th>\n",
              "      <td>3</td>\n",
              "      <td>Clara</td>\n",
              "      <td>12890</td>\n",
              "    </tr>\n",
              "    <tr>\n",
              "      <th>2</th>\n",
              "      <td>4</td>\n",
              "      <td>Davi</td>\n",
              "      <td>14045</td>\n",
              "    </tr>\n",
              "    <tr>\n",
              "      <th>3</th>\n",
              "      <td>6</td>\n",
              "      <td>Luiza</td>\n",
              "      <td>18662</td>\n",
              "    </tr>\n",
              "    <tr>\n",
              "      <th>4</th>\n",
              "      <td>7</td>\n",
              "      <td>Ana</td>\n",
              "      <td>16354</td>\n",
              "    </tr>\n",
              "    <tr>\n",
              "      <th>5</th>\n",
              "      <td>8</td>\n",
              "      <td>Tais</td>\n",
              "      <td>17508</td>\n",
              "    </tr>\n",
              "    <tr>\n",
              "      <th>6</th>\n",
              "      <td>9</td>\n",
              "      <td>Isabella</td>\n",
              "      <td>19817</td>\n",
              "    </tr>\n",
              "    <tr>\n",
              "      <th>7</th>\n",
              "      <td>11</td>\n",
              "      <td>Clarice</td>\n",
              "      <td>25648</td>\n",
              "    </tr>\n",
              "    <tr>\n",
              "      <th>8</th>\n",
              "      <td>14</td>\n",
              "      <td>Mauro</td>\n",
              "      <td>15649</td>\n",
              "    </tr>\n",
              "    <tr>\n",
              "      <th>9</th>\n",
              "      <td>15</td>\n",
              "      <td>Antonella</td>\n",
              "      <td>26456</td>\n",
              "    </tr>\n",
              "    <tr>\n",
              "      <th>10</th>\n",
              "      <td>26</td>\n",
              "      <td>José Geraldo</td>\n",
              "      <td>11111</td>\n",
              "    </tr>\n",
              "    <tr>\n",
              "      <th>11</th>\n",
              "      <td>27</td>\n",
              "      <td>Eduarda</td>\n",
              "      <td>22222</td>\n",
              "    </tr>\n",
              "    <tr>\n",
              "      <th>12</th>\n",
              "      <td>28</td>\n",
              "      <td>Gabrielle</td>\n",
              "      <td>33333</td>\n",
              "    </tr>\n",
              "    <tr>\n",
              "      <th>13</th>\n",
              "      <td>29</td>\n",
              "      <td>Thiago</td>\n",
              "      <td>44444</td>\n",
              "    </tr>\n",
              "  </tbody>\n",
              "</table>\n",
              "</div>"
            ],
            "text/plain": [
              "    id_cliente  nome_cliente  cpf_cliente\n",
              "0            1          Lara        10582\n",
              "1            3         Clara        12890\n",
              "2            4          Davi        14045\n",
              "3            6         Luiza        18662\n",
              "4            7           Ana        16354\n",
              "5            8          Tais        17508\n",
              "6            9      Isabella        19817\n",
              "7           11       Clarice        25648\n",
              "8           14         Mauro        15649\n",
              "9           15     Antonella        26456\n",
              "10          26  José Geraldo        11111\n",
              "11          27       Eduarda        22222\n",
              "12          28     Gabrielle        33333\n",
              "13          29        Thiago        44444"
            ]
          },
          "metadata": {
            "tags": []
          },
          "execution_count": 8
        }
      ]
    },
    {
      "cell_type": "markdown",
      "metadata": {
        "colab_type": "text",
        "id": "q_JZ8NcBD-2S"
      },
      "source": [
        "### Funcionários que possuem a letra 'o' como última letra do nome"
      ]
    },
    {
      "cell_type": "code",
      "metadata": {
        "colab_type": "code",
        "id": "8lR1zl3gD-2a",
        "colab": {}
      },
      "source": [
        "funcionarioO = pd.read_sql_query(\"\"\"select nome_funcionario\n",
        "                                from funcionario\n",
        "                                where nome_funcionario ilike '%O';\"\"\", conn)"
      ],
      "execution_count": 9,
      "outputs": []
    },
    {
      "cell_type": "code",
      "metadata": {
        "colab_type": "code",
        "id": "RryFY0SnD-2t",
        "colab": {
          "base_uri": "https://localhost:8080/",
          "height": 175
        },
        "outputId": "424c5062-9ef3-4db4-e89e-474e97a92769"
      },
      "source": [
        "funcionarioO"
      ],
      "execution_count": 10,
      "outputs": [
        {
          "output_type": "execute_result",
          "data": {
            "text/html": [
              "<div>\n",
              "<style scoped>\n",
              "    .dataframe tbody tr th:only-of-type {\n",
              "        vertical-align: middle;\n",
              "    }\n",
              "\n",
              "    .dataframe tbody tr th {\n",
              "        vertical-align: top;\n",
              "    }\n",
              "\n",
              "    .dataframe thead th {\n",
              "        text-align: right;\n",
              "    }\n",
              "</style>\n",
              "<table border=\"1\" class=\"dataframe\">\n",
              "  <thead>\n",
              "    <tr style=\"text-align: right;\">\n",
              "      <th></th>\n",
              "      <th>nome_funcionario</th>\n",
              "    </tr>\n",
              "  </thead>\n",
              "  <tbody>\n",
              "    <tr>\n",
              "      <th>0</th>\n",
              "      <td>Bernardo</td>\n",
              "    </tr>\n",
              "    <tr>\n",
              "      <th>1</th>\n",
              "      <td>Ronaldo</td>\n",
              "    </tr>\n",
              "    <tr>\n",
              "      <th>2</th>\n",
              "      <td>Rivaldo</td>\n",
              "    </tr>\n",
              "    <tr>\n",
              "      <th>3</th>\n",
              "      <td>Lucio</td>\n",
              "    </tr>\n",
              "  </tbody>\n",
              "</table>\n",
              "</div>"
            ],
            "text/plain": [
              "  nome_funcionario\n",
              "0         Bernardo\n",
              "1          Ronaldo\n",
              "2          Rivaldo\n",
              "3            Lucio"
            ]
          },
          "metadata": {
            "tags": []
          },
          "execution_count": 10
        }
      ]
    },
    {
      "cell_type": "markdown",
      "metadata": {
        "colab_type": "text",
        "id": "gvxUz2ZLIDF7"
      },
      "source": [
        "### Dados de item de cardapio que possuem a letra 'b' como primeira letra do nome"
      ]
    },
    {
      "cell_type": "code",
      "metadata": {
        "colab_type": "code",
        "id": "Fs0mKPshIDGF",
        "colab": {}
      },
      "source": [
        "itemB = pd.read_sql_query(\"\"\"select *\n",
        "                            from item_cardapio\n",
        "                            where nome_item like 'B%';\"\"\", conn)"
      ],
      "execution_count": 11,
      "outputs": []
    },
    {
      "cell_type": "code",
      "metadata": {
        "id": "d1LK5RgRIKBH",
        "colab_type": "code",
        "colab": {
          "base_uri": "https://localhost:8080/",
          "height": 300
        },
        "outputId": "83678a1f-74a6-4792-b80d-1b83a785f223"
      },
      "source": [
        "itemB"
      ],
      "execution_count": 12,
      "outputs": [
        {
          "output_type": "execute_result",
          "data": {
            "text/html": [
              "<div>\n",
              "<style scoped>\n",
              "    .dataframe tbody tr th:only-of-type {\n",
              "        vertical-align: middle;\n",
              "    }\n",
              "\n",
              "    .dataframe tbody tr th {\n",
              "        vertical-align: top;\n",
              "    }\n",
              "\n",
              "    .dataframe thead th {\n",
              "        text-align: right;\n",
              "    }\n",
              "</style>\n",
              "<table border=\"1\" class=\"dataframe\">\n",
              "  <thead>\n",
              "    <tr style=\"text-align: right;\">\n",
              "      <th></th>\n",
              "      <th>id_itemcardapio</th>\n",
              "      <th>nome_item</th>\n",
              "      <th>preco</th>\n",
              "      <th>descricao_item</th>\n",
              "      <th>fk_id_categoria</th>\n",
              "      <th>fk_id_tamanho</th>\n",
              "    </tr>\n",
              "  </thead>\n",
              "  <tbody>\n",
              "    <tr>\n",
              "      <th>0</th>\n",
              "      <td>11</td>\n",
              "      <td>Beira mar</td>\n",
              "      <td>17.99</td>\n",
              "      <td>Ostras frescas de Santa Catarina</td>\n",
              "      <td>15</td>\n",
              "      <td>20</td>\n",
              "    </tr>\n",
              "    <tr>\n",
              "      <th>1</th>\n",
              "      <td>14</td>\n",
              "      <td>Brisa</td>\n",
              "      <td>26.00</td>\n",
              "      <td>Ciabatta, cogumelos shitake e paris e legume t...</td>\n",
              "      <td>6</td>\n",
              "      <td>2</td>\n",
              "    </tr>\n",
              "    <tr>\n",
              "      <th>2</th>\n",
              "      <td>20</td>\n",
              "      <td>Borgo Magredo</td>\n",
              "      <td>95.00</td>\n",
              "      <td>Uva: Pinot Grigio. País: Itália</td>\n",
              "      <td>5</td>\n",
              "      <td>11</td>\n",
              "    </tr>\n",
              "    <tr>\n",
              "      <th>3</th>\n",
              "      <td>42</td>\n",
              "      <td>Beffeater pink</td>\n",
              "      <td>359.00</td>\n",
              "      <td>com 05 red bull tropical</td>\n",
              "      <td>11</td>\n",
              "      <td>19</td>\n",
              "    </tr>\n",
              "    <tr>\n",
              "      <th>4</th>\n",
              "      <td>48</td>\n",
              "      <td>Brasil Brasil</td>\n",
              "      <td>24.90</td>\n",
              "      <td>Cachaça de Umburana, manjericão orgânico, mix ...</td>\n",
              "      <td>2</td>\n",
              "      <td>16</td>\n",
              "    </tr>\n",
              "    <tr>\n",
              "      <th>5</th>\n",
              "      <td>50</td>\n",
              "      <td>Brahma</td>\n",
              "      <td>6.90</td>\n",
              "      <td>0.0% álcool</td>\n",
              "      <td>8</td>\n",
              "      <td>4</td>\n",
              "    </tr>\n",
              "    <tr>\n",
              "      <th>6</th>\n",
              "      <td>6</td>\n",
              "      <td>Bons ventos te trazem</td>\n",
              "      <td>25.90</td>\n",
              "      <td>Gin, redução de flor de sabugueiro, maracujá, ...</td>\n",
              "      <td>2</td>\n",
              "      <td>12</td>\n",
              "    </tr>\n",
              "    <tr>\n",
              "      <th>7</th>\n",
              "      <td>7</td>\n",
              "      <td>Barlavento</td>\n",
              "      <td>25.90</td>\n",
              "      <td>Gin, xarope de morango, maracujá, suco de lara...</td>\n",
              "      <td>2</td>\n",
              "      <td>12</td>\n",
              "    </tr>\n",
              "  </tbody>\n",
              "</table>\n",
              "</div>"
            ],
            "text/plain": [
              "   id_itemcardapio              nome_item  ...  fk_id_categoria fk_id_tamanho\n",
              "0               11              Beira mar  ...               15            20\n",
              "1               14                  Brisa  ...                6             2\n",
              "2               20          Borgo Magredo  ...                5            11\n",
              "3               42         Beffeater pink  ...               11            19\n",
              "4               48          Brasil Brasil  ...                2            16\n",
              "5               50                 Brahma  ...                8             4\n",
              "6                6  Bons ventos te trazem  ...                2            12\n",
              "7                7             Barlavento  ...                2            12\n",
              "\n",
              "[8 rows x 6 columns]"
            ]
          },
          "metadata": {
            "tags": []
          },
          "execution_count": 12
        }
      ]
    },
    {
      "cell_type": "markdown",
      "metadata": {
        "colab_type": "text",
        "id": "iXglAcByISem"
      },
      "source": [
        "### Dados de item de cardapio que possuem um total de 10 letras no nome"
      ]
    },
    {
      "cell_type": "code",
      "metadata": {
        "colab_type": "code",
        "id": "LUH8DisSISeu",
        "colab": {}
      },
      "source": [
        "item10 = pd.read_sql_query(\"\"\"select *\n",
        "                              from item_cardapio\n",
        "                              where nome_item ilike '__________';\"\"\", conn)"
      ],
      "execution_count": 13,
      "outputs": []
    },
    {
      "cell_type": "code",
      "metadata": {
        "id": "cZj89lWUIZDk",
        "colab_type": "code",
        "colab": {
          "base_uri": "https://localhost:8080/",
          "height": 175
        },
        "outputId": "f7839579-8b5d-4409-f01d-d1f6d3feb617"
      },
      "source": [
        "item10"
      ],
      "execution_count": 14,
      "outputs": [
        {
          "output_type": "execute_result",
          "data": {
            "text/html": [
              "<div>\n",
              "<style scoped>\n",
              "    .dataframe tbody tr th:only-of-type {\n",
              "        vertical-align: middle;\n",
              "    }\n",
              "\n",
              "    .dataframe tbody tr th {\n",
              "        vertical-align: top;\n",
              "    }\n",
              "\n",
              "    .dataframe thead th {\n",
              "        text-align: right;\n",
              "    }\n",
              "</style>\n",
              "<table border=\"1\" class=\"dataframe\">\n",
              "  <thead>\n",
              "    <tr style=\"text-align: right;\">\n",
              "      <th></th>\n",
              "      <th>id_itemcardapio</th>\n",
              "      <th>nome_item</th>\n",
              "      <th>preco</th>\n",
              "      <th>descricao_item</th>\n",
              "      <th>fk_id_categoria</th>\n",
              "      <th>fk_id_tamanho</th>\n",
              "    </tr>\n",
              "  </thead>\n",
              "  <tbody>\n",
              "    <tr>\n",
              "      <th>0</th>\n",
              "      <td>24</td>\n",
              "      <td>Paneleiras</td>\n",
              "      <td>217.99</td>\n",
              "      <td>Releitura da moqueca capixabas - Peixe grelhad...</td>\n",
              "      <td>3</td>\n",
              "      <td>6</td>\n",
              "    </tr>\n",
              "    <tr>\n",
              "      <th>1</th>\n",
              "      <td>46</td>\n",
              "      <td>Marinheiro</td>\n",
              "      <td>24.99</td>\n",
              "      <td>Crepioca de cogumelos salteados no azeito de t...</td>\n",
              "      <td>7</td>\n",
              "      <td>2</td>\n",
              "    </tr>\n",
              "    <tr>\n",
              "      <th>2</th>\n",
              "      <td>7</td>\n",
              "      <td>Barlavento</td>\n",
              "      <td>25.90</td>\n",
              "      <td>Gin, xarope de morango, maracujá, suco de lara...</td>\n",
              "      <td>2</td>\n",
              "      <td>12</td>\n",
              "    </tr>\n",
              "    <tr>\n",
              "      <th>3</th>\n",
              "      <td>10</td>\n",
              "      <td>Cidade Sol</td>\n",
              "      <td>29.90</td>\n",
              "      <td>Whiskey Jack Daniels, maracujá, mix de cítrico...</td>\n",
              "      <td>2</td>\n",
              "      <td>12</td>\n",
              "    </tr>\n",
              "  </tbody>\n",
              "</table>\n",
              "</div>"
            ],
            "text/plain": [
              "   id_itemcardapio   nome_item  ...  fk_id_categoria fk_id_tamanho\n",
              "0               24  Paneleiras  ...                3             6\n",
              "1               46  Marinheiro  ...                7             2\n",
              "2                7  Barlavento  ...                2            12\n",
              "3               10  Cidade Sol  ...                2            12\n",
              "\n",
              "[4 rows x 6 columns]"
            ]
          },
          "metadata": {
            "tags": []
          },
          "execution_count": 14
        }
      ]
    },
    {
      "cell_type": "markdown",
      "metadata": {
        "colab_type": "text",
        "id": "LRE607PP5Qgb"
      },
      "source": [
        "## CONSULTAS QUE USAM DATAS"
      ]
    },
    {
      "cell_type": "markdown",
      "metadata": {
        "colab_type": "text",
        "id": "tC1G0Pw75Qgn"
      },
      "source": [
        "### Quantidade de atendimentos por mesa em datas menores ou iguais a data corrente"
      ]
    },
    {
      "cell_type": "code",
      "metadata": {
        "colab_type": "code",
        "id": "thHFQXVH5Qgw",
        "colab": {}
      },
      "source": [
        "atendimentos_mesa = pd.read_sql_query(\"\"\"select mesa, count(mesa) as vezes_usada_para_atendimento\n",
        "                              from comanda\n",
        "                              where data <= current_date\n",
        "                              group by mesa\n",
        "                              order by vezes_usada_para_atendimento desc;\"\"\", conn)"
      ],
      "execution_count": 15,
      "outputs": []
    },
    {
      "cell_type": "code",
      "metadata": {
        "colab_type": "code",
        "id": "erIgopUa5QhS",
        "colab": {
          "base_uri": "https://localhost:8080/",
          "height": 457
        },
        "outputId": "31864cf8-196e-4270-e75f-138a0c119927"
      },
      "source": [
        "atendimentos_mesa"
      ],
      "execution_count": 16,
      "outputs": [
        {
          "output_type": "execute_result",
          "data": {
            "text/html": [
              "<div>\n",
              "<style scoped>\n",
              "    .dataframe tbody tr th:only-of-type {\n",
              "        vertical-align: middle;\n",
              "    }\n",
              "\n",
              "    .dataframe tbody tr th {\n",
              "        vertical-align: top;\n",
              "    }\n",
              "\n",
              "    .dataframe thead th {\n",
              "        text-align: right;\n",
              "    }\n",
              "</style>\n",
              "<table border=\"1\" class=\"dataframe\">\n",
              "  <thead>\n",
              "    <tr style=\"text-align: right;\">\n",
              "      <th></th>\n",
              "      <th>mesa</th>\n",
              "      <th>vezes_usada_para_atendimento</th>\n",
              "    </tr>\n",
              "  </thead>\n",
              "  <tbody>\n",
              "    <tr>\n",
              "      <th>0</th>\n",
              "      <td>4</td>\n",
              "      <td>6</td>\n",
              "    </tr>\n",
              "    <tr>\n",
              "      <th>1</th>\n",
              "      <td>13</td>\n",
              "      <td>6</td>\n",
              "    </tr>\n",
              "    <tr>\n",
              "      <th>2</th>\n",
              "      <td>1</td>\n",
              "      <td>6</td>\n",
              "    </tr>\n",
              "    <tr>\n",
              "      <th>3</th>\n",
              "      <td>2</td>\n",
              "      <td>5</td>\n",
              "    </tr>\n",
              "    <tr>\n",
              "      <th>4</th>\n",
              "      <td>3</td>\n",
              "      <td>5</td>\n",
              "    </tr>\n",
              "    <tr>\n",
              "      <th>5</th>\n",
              "      <td>12</td>\n",
              "      <td>5</td>\n",
              "    </tr>\n",
              "    <tr>\n",
              "      <th>6</th>\n",
              "      <td>8</td>\n",
              "      <td>4</td>\n",
              "    </tr>\n",
              "    <tr>\n",
              "      <th>7</th>\n",
              "      <td>9</td>\n",
              "      <td>4</td>\n",
              "    </tr>\n",
              "    <tr>\n",
              "      <th>8</th>\n",
              "      <td>5</td>\n",
              "      <td>4</td>\n",
              "    </tr>\n",
              "    <tr>\n",
              "      <th>9</th>\n",
              "      <td>10</td>\n",
              "      <td>4</td>\n",
              "    </tr>\n",
              "    <tr>\n",
              "      <th>10</th>\n",
              "      <td>6</td>\n",
              "      <td>4</td>\n",
              "    </tr>\n",
              "    <tr>\n",
              "      <th>11</th>\n",
              "      <td>7</td>\n",
              "      <td>4</td>\n",
              "    </tr>\n",
              "    <tr>\n",
              "      <th>12</th>\n",
              "      <td>11</td>\n",
              "      <td>3</td>\n",
              "    </tr>\n",
              "  </tbody>\n",
              "</table>\n",
              "</div>"
            ],
            "text/plain": [
              "    mesa  vezes_usada_para_atendimento\n",
              "0      4                             6\n",
              "1     13                             6\n",
              "2      1                             6\n",
              "3      2                             5\n",
              "4      3                             5\n",
              "5     12                             5\n",
              "6      8                             4\n",
              "7      9                             4\n",
              "8      5                             4\n",
              "9     10                             4\n",
              "10     6                             4\n",
              "11     7                             4\n",
              "12    11                             3"
            ]
          },
          "metadata": {
            "tags": []
          },
          "execution_count": 16
        }
      ]
    },
    {
      "cell_type": "markdown",
      "metadata": {
        "colab_type": "text",
        "id": "ArRwtyKk5Qhw"
      },
      "source": [
        "### Datas dos pedidos realizados, data corrente e quantidade de dias entre as datas"
      ]
    },
    {
      "cell_type": "code",
      "metadata": {
        "colab_type": "code",
        "id": "27DmMMEI5Qh3",
        "colab": {}
      },
      "source": [
        "data_pedidos = pd.read_sql_query(\"\"\"select data as data_pedidos, current_date as data_de_hoje, age(current_date,data) as dias_corridos_ate_hoje\n",
        "                                    from comanda\n",
        "                                    group by data_pedidos\n",
        "                                    order by data_pedidos asc;\"\"\", conn)"
      ],
      "execution_count": 18,
      "outputs": []
    },
    {
      "cell_type": "code",
      "metadata": {
        "colab_type": "code",
        "id": "gtCVOLFl5QiM",
        "colab": {
          "base_uri": "https://localhost:8080/",
          "height": 238
        },
        "outputId": "5d56f044-431f-4fbb-fffb-6404121a910a"
      },
      "source": [
        "data_pedidos"
      ],
      "execution_count": 19,
      "outputs": [
        {
          "output_type": "execute_result",
          "data": {
            "text/html": [
              "<div>\n",
              "<style scoped>\n",
              "    .dataframe tbody tr th:only-of-type {\n",
              "        vertical-align: middle;\n",
              "    }\n",
              "\n",
              "    .dataframe tbody tr th {\n",
              "        vertical-align: top;\n",
              "    }\n",
              "\n",
              "    .dataframe thead th {\n",
              "        text-align: right;\n",
              "    }\n",
              "</style>\n",
              "<table border=\"1\" class=\"dataframe\">\n",
              "  <thead>\n",
              "    <tr style=\"text-align: right;\">\n",
              "      <th></th>\n",
              "      <th>data_pedidos</th>\n",
              "      <th>data_de_hoje</th>\n",
              "      <th>dias_corridos_ate_hoje</th>\n",
              "    </tr>\n",
              "  </thead>\n",
              "  <tbody>\n",
              "    <tr>\n",
              "      <th>0</th>\n",
              "      <td>2020-07-30</td>\n",
              "      <td>2020-09-21</td>\n",
              "      <td>52 days</td>\n",
              "    </tr>\n",
              "    <tr>\n",
              "      <th>1</th>\n",
              "      <td>2020-07-31</td>\n",
              "      <td>2020-09-21</td>\n",
              "      <td>51 days</td>\n",
              "    </tr>\n",
              "    <tr>\n",
              "      <th>2</th>\n",
              "      <td>2020-08-01</td>\n",
              "      <td>2020-09-21</td>\n",
              "      <td>50 days</td>\n",
              "    </tr>\n",
              "    <tr>\n",
              "      <th>3</th>\n",
              "      <td>2020-08-02</td>\n",
              "      <td>2020-09-21</td>\n",
              "      <td>49 days</td>\n",
              "    </tr>\n",
              "    <tr>\n",
              "      <th>4</th>\n",
              "      <td>2020-08-03</td>\n",
              "      <td>2020-09-21</td>\n",
              "      <td>48 days</td>\n",
              "    </tr>\n",
              "    <tr>\n",
              "      <th>5</th>\n",
              "      <td>2020-08-04</td>\n",
              "      <td>2020-09-21</td>\n",
              "      <td>47 days</td>\n",
              "    </tr>\n",
              "  </tbody>\n",
              "</table>\n",
              "</div>"
            ],
            "text/plain": [
              "  data_pedidos data_de_hoje dias_corridos_ate_hoje\n",
              "0   2020-07-30   2020-09-21                52 days\n",
              "1   2020-07-31   2020-09-21                51 days\n",
              "2   2020-08-01   2020-09-21                50 days\n",
              "3   2020-08-02   2020-09-21                49 days\n",
              "4   2020-08-03   2020-09-21                48 days\n",
              "5   2020-08-04   2020-09-21                47 days"
            ]
          },
          "metadata": {
            "tags": []
          },
          "execution_count": 19
        }
      ]
    },
    {
      "cell_type": "markdown",
      "metadata": {
        "colab_type": "text",
        "id": "wwLxJxM65Qid"
      },
      "source": [
        "### Núrmero referente ao mês da data dos pedidos realizados"
      ]
    },
    {
      "cell_type": "code",
      "metadata": {
        "colab_type": "code",
        "id": "Rv7R7nVn5Qih",
        "colab": {}
      },
      "source": [
        "mes_pedido = pd.read_sql_query(\"\"\"select data as data_pedidos, date_part('month',data) as mes\n",
        "                                  from comanda\n",
        "                                  group by data_pedidos;\"\"\", conn)"
      ],
      "execution_count": 20,
      "outputs": []
    },
    {
      "cell_type": "code",
      "metadata": {
        "colab_type": "code",
        "id": "LyacUOzL5Qix",
        "colab": {
          "base_uri": "https://localhost:8080/",
          "height": 238
        },
        "outputId": "a999e49e-9646-4d59-c4fe-6f48640f1920"
      },
      "source": [
        "mes_pedido"
      ],
      "execution_count": 21,
      "outputs": [
        {
          "output_type": "execute_result",
          "data": {
            "text/html": [
              "<div>\n",
              "<style scoped>\n",
              "    .dataframe tbody tr th:only-of-type {\n",
              "        vertical-align: middle;\n",
              "    }\n",
              "\n",
              "    .dataframe tbody tr th {\n",
              "        vertical-align: top;\n",
              "    }\n",
              "\n",
              "    .dataframe thead th {\n",
              "        text-align: right;\n",
              "    }\n",
              "</style>\n",
              "<table border=\"1\" class=\"dataframe\">\n",
              "  <thead>\n",
              "    <tr style=\"text-align: right;\">\n",
              "      <th></th>\n",
              "      <th>data_pedidos</th>\n",
              "      <th>mes</th>\n",
              "    </tr>\n",
              "  </thead>\n",
              "  <tbody>\n",
              "    <tr>\n",
              "      <th>0</th>\n",
              "      <td>2020-08-01</td>\n",
              "      <td>8.0</td>\n",
              "    </tr>\n",
              "    <tr>\n",
              "      <th>1</th>\n",
              "      <td>2020-08-02</td>\n",
              "      <td>8.0</td>\n",
              "    </tr>\n",
              "    <tr>\n",
              "      <th>2</th>\n",
              "      <td>2020-07-30</td>\n",
              "      <td>7.0</td>\n",
              "    </tr>\n",
              "    <tr>\n",
              "      <th>3</th>\n",
              "      <td>2020-08-03</td>\n",
              "      <td>8.0</td>\n",
              "    </tr>\n",
              "    <tr>\n",
              "      <th>4</th>\n",
              "      <td>2020-07-31</td>\n",
              "      <td>7.0</td>\n",
              "    </tr>\n",
              "    <tr>\n",
              "      <th>5</th>\n",
              "      <td>2020-08-04</td>\n",
              "      <td>8.0</td>\n",
              "    </tr>\n",
              "  </tbody>\n",
              "</table>\n",
              "</div>"
            ],
            "text/plain": [
              "  data_pedidos  mes\n",
              "0   2020-08-01  8.0\n",
              "1   2020-08-02  8.0\n",
              "2   2020-07-30  7.0\n",
              "3   2020-08-03  8.0\n",
              "4   2020-07-31  7.0\n",
              "5   2020-08-04  8.0"
            ]
          },
          "metadata": {
            "tags": []
          },
          "execution_count": 21
        }
      ]
    },
    {
      "cell_type": "markdown",
      "metadata": {
        "colab_type": "text",
        "id": "-rho2dWh5QjC"
      },
      "source": [
        "### Comandas com datas finitas"
      ]
    },
    {
      "cell_type": "code",
      "metadata": {
        "colab_type": "code",
        "id": "P7Dbn0tD5QjG",
        "colab": {}
      },
      "source": [
        "data_finita = pd.read_sql_query(\"\"\"select isfinite(data) as datas_finita\n",
        "                              from comanda\n",
        "                              group by datas_finita;\"\"\", conn)"
      ],
      "execution_count": 24,
      "outputs": []
    },
    {
      "cell_type": "code",
      "metadata": {
        "colab_type": "code",
        "id": "WcED-piZ5QjT",
        "colab": {
          "base_uri": "https://localhost:8080/",
          "height": 81
        },
        "outputId": "90859888-c13c-4982-de30-c6095fc56d36"
      },
      "source": [
        "data_finita"
      ],
      "execution_count": 25,
      "outputs": [
        {
          "output_type": "execute_result",
          "data": {
            "text/html": [
              "<div>\n",
              "<style scoped>\n",
              "    .dataframe tbody tr th:only-of-type {\n",
              "        vertical-align: middle;\n",
              "    }\n",
              "\n",
              "    .dataframe tbody tr th {\n",
              "        vertical-align: top;\n",
              "    }\n",
              "\n",
              "    .dataframe thead th {\n",
              "        text-align: right;\n",
              "    }\n",
              "</style>\n",
              "<table border=\"1\" class=\"dataframe\">\n",
              "  <thead>\n",
              "    <tr style=\"text-align: right;\">\n",
              "      <th></th>\n",
              "      <th>datas_finita</th>\n",
              "    </tr>\n",
              "  </thead>\n",
              "  <tbody>\n",
              "    <tr>\n",
              "      <th>0</th>\n",
              "      <td>True</td>\n",
              "    </tr>\n",
              "  </tbody>\n",
              "</table>\n",
              "</div>"
            ],
            "text/plain": [
              "   datas_finita\n",
              "0          True"
            ]
          },
          "metadata": {
            "tags": []
          },
          "execution_count": 25
        }
      ]
    },
    {
      "cell_type": "markdown",
      "metadata": {
        "colab_type": "text",
        "id": "YJiKpFUr5Qjh"
      },
      "source": [
        "### Ano referente às comandas"
      ]
    },
    {
      "cell_type": "code",
      "metadata": {
        "colab_type": "code",
        "id": "GfLd34oD5Qjn",
        "colab": {}
      },
      "source": [
        "data_ano = pd.read_sql_query(\"\"\"select data as data_pedidos, extract('year' from data) as ano\n",
        "                                from comanda\n",
        "                                group by data_pedidos;\"\"\", conn)"
      ],
      "execution_count": 28,
      "outputs": []
    },
    {
      "cell_type": "code",
      "metadata": {
        "colab_type": "code",
        "id": "icrIAm_95Qj3",
        "colab": {
          "base_uri": "https://localhost:8080/",
          "height": 238
        },
        "outputId": "19e0981e-4d30-40a8-89aa-5069113987f6"
      },
      "source": [
        "data_ano"
      ],
      "execution_count": 30,
      "outputs": [
        {
          "output_type": "execute_result",
          "data": {
            "text/html": [
              "<div>\n",
              "<style scoped>\n",
              "    .dataframe tbody tr th:only-of-type {\n",
              "        vertical-align: middle;\n",
              "    }\n",
              "\n",
              "    .dataframe tbody tr th {\n",
              "        vertical-align: top;\n",
              "    }\n",
              "\n",
              "    .dataframe thead th {\n",
              "        text-align: right;\n",
              "    }\n",
              "</style>\n",
              "<table border=\"1\" class=\"dataframe\">\n",
              "  <thead>\n",
              "    <tr style=\"text-align: right;\">\n",
              "      <th></th>\n",
              "      <th>data_pedidos</th>\n",
              "      <th>ano</th>\n",
              "    </tr>\n",
              "  </thead>\n",
              "  <tbody>\n",
              "    <tr>\n",
              "      <th>0</th>\n",
              "      <td>2020-08-01</td>\n",
              "      <td>2020.0</td>\n",
              "    </tr>\n",
              "    <tr>\n",
              "      <th>1</th>\n",
              "      <td>2020-08-02</td>\n",
              "      <td>2020.0</td>\n",
              "    </tr>\n",
              "    <tr>\n",
              "      <th>2</th>\n",
              "      <td>2020-07-30</td>\n",
              "      <td>2020.0</td>\n",
              "    </tr>\n",
              "    <tr>\n",
              "      <th>3</th>\n",
              "      <td>2020-08-03</td>\n",
              "      <td>2020.0</td>\n",
              "    </tr>\n",
              "    <tr>\n",
              "      <th>4</th>\n",
              "      <td>2020-07-31</td>\n",
              "      <td>2020.0</td>\n",
              "    </tr>\n",
              "    <tr>\n",
              "      <th>5</th>\n",
              "      <td>2020-08-04</td>\n",
              "      <td>2020.0</td>\n",
              "    </tr>\n",
              "  </tbody>\n",
              "</table>\n",
              "</div>"
            ],
            "text/plain": [
              "  data_pedidos     ano\n",
              "0   2020-08-01  2020.0\n",
              "1   2020-08-02  2020.0\n",
              "2   2020-07-30  2020.0\n",
              "3   2020-08-03  2020.0\n",
              "4   2020-07-31  2020.0\n",
              "5   2020-08-04  2020.0"
            ]
          },
          "metadata": {
            "tags": []
          },
          "execution_count": 30
        }
      ]
    },
    {
      "cell_type": "markdown",
      "metadata": {
        "colab_type": "text",
        "id": "gn9UW_KU5QkF"
      },
      "source": [
        "### Data e hora dos pedidos realizados"
      ]
    },
    {
      "cell_type": "code",
      "metadata": {
        "colab_type": "code",
        "id": "I1ZaKhmB5QkH",
        "colab": {}
      },
      "source": [
        "data_hora = pd.read_sql_query(\"\"\"select nome_cliente, concat(data, ' ' ,hora) as data_hora_pedido\n",
        "                            from comanda as c\n",
        "                            inner join pedido as p on\n",
        "                            (p.fk_id_comanda = c.id_comanda)\n",
        "                            inner join cliente as cl on\n",
        "                            (cl.id_cliente = c.fk_id_cliente)\n",
        "                            order by data_hora_pedido asc;\"\"\", conn)"
      ],
      "execution_count": 33,
      "outputs": []
    },
    {
      "cell_type": "code",
      "metadata": {
        "colab_type": "code",
        "id": "As-QzdOl5QkX",
        "colab": {
          "base_uri": "https://localhost:8080/",
          "height": 424
        },
        "outputId": "e720d743-a983-4969-c2ae-12342c0d4738"
      },
      "source": [
        "data_hora"
      ],
      "execution_count": 34,
      "outputs": [
        {
          "output_type": "execute_result",
          "data": {
            "text/html": [
              "<div>\n",
              "<style scoped>\n",
              "    .dataframe tbody tr th:only-of-type {\n",
              "        vertical-align: middle;\n",
              "    }\n",
              "\n",
              "    .dataframe tbody tr th {\n",
              "        vertical-align: top;\n",
              "    }\n",
              "\n",
              "    .dataframe thead th {\n",
              "        text-align: right;\n",
              "    }\n",
              "</style>\n",
              "<table border=\"1\" class=\"dataframe\">\n",
              "  <thead>\n",
              "    <tr style=\"text-align: right;\">\n",
              "      <th></th>\n",
              "      <th>nome_cliente</th>\n",
              "      <th>data_hora_pedido</th>\n",
              "    </tr>\n",
              "  </thead>\n",
              "  <tbody>\n",
              "    <tr>\n",
              "      <th>0</th>\n",
              "      <td>Davi</td>\n",
              "      <td>2020-07-30 12:23:00</td>\n",
              "    </tr>\n",
              "    <tr>\n",
              "      <th>1</th>\n",
              "      <td>Jorge</td>\n",
              "      <td>2020-07-30 12:34:00</td>\n",
              "    </tr>\n",
              "    <tr>\n",
              "      <th>2</th>\n",
              "      <td>Davi</td>\n",
              "      <td>2020-07-30 12:37:00</td>\n",
              "    </tr>\n",
              "    <tr>\n",
              "      <th>3</th>\n",
              "      <td>Clara</td>\n",
              "      <td>2020-07-30 12:45:00</td>\n",
              "    </tr>\n",
              "    <tr>\n",
              "      <th>4</th>\n",
              "      <td>Clara</td>\n",
              "      <td>2020-07-30 12:45:00</td>\n",
              "    </tr>\n",
              "    <tr>\n",
              "      <th>...</th>\n",
              "      <td>...</td>\n",
              "      <td>...</td>\n",
              "    </tr>\n",
              "    <tr>\n",
              "      <th>67</th>\n",
              "      <td>Gabrielle</td>\n",
              "      <td>2020-08-04 13:38:00</td>\n",
              "    </tr>\n",
              "    <tr>\n",
              "      <th>68</th>\n",
              "      <td>Isabella</td>\n",
              "      <td>2020-08-04 13:50:00</td>\n",
              "    </tr>\n",
              "    <tr>\n",
              "      <th>69</th>\n",
              "      <td>Thiago</td>\n",
              "      <td>2020-08-04 13:51:00</td>\n",
              "    </tr>\n",
              "    <tr>\n",
              "      <th>70</th>\n",
              "      <td>Moises</td>\n",
              "      <td>2020-08-04 14:00:00</td>\n",
              "    </tr>\n",
              "    <tr>\n",
              "      <th>71</th>\n",
              "      <td>Henrique</td>\n",
              "      <td>2020-08-04 14:00:00</td>\n",
              "    </tr>\n",
              "  </tbody>\n",
              "</table>\n",
              "<p>72 rows × 2 columns</p>\n",
              "</div>"
            ],
            "text/plain": [
              "   nome_cliente     data_hora_pedido\n",
              "0          Davi  2020-07-30 12:23:00\n",
              "1         Jorge  2020-07-30 12:34:00\n",
              "2          Davi  2020-07-30 12:37:00\n",
              "3         Clara  2020-07-30 12:45:00\n",
              "4         Clara  2020-07-30 12:45:00\n",
              "..          ...                  ...\n",
              "67    Gabrielle  2020-08-04 13:38:00\n",
              "68     Isabella  2020-08-04 13:50:00\n",
              "69       Thiago  2020-08-04 13:51:00\n",
              "70       Moises  2020-08-04 14:00:00\n",
              "71     Henrique  2020-08-04 14:00:00\n",
              "\n",
              "[72 rows x 2 columns]"
            ]
          },
          "metadata": {
            "tags": []
          },
          "execution_count": 34
        }
      ]
    },
    {
      "cell_type": "markdown",
      "metadata": {
        "colab_type": "text",
        "id": "mhZyBD8U5Qkl"
      },
      "source": [
        "### Data e hora dos pedidos realizados menores ou iguais a data e hora corrente"
      ]
    },
    {
      "cell_type": "code",
      "metadata": {
        "colab_type": "code",
        "id": "ySPMzXlT5Qkp",
        "colab": {}
      },
      "source": [
        "data_hora_corrente = pd.read_sql_query(\"\"\"select data as data_pedido, hora\n",
        "                                  from comanda as c\n",
        "                                  inner join pedido as p on\n",
        "                                  (p.fk_id_comanda = c.id_comanda)\n",
        "                                  where hora <= current_time and data <= current_date;\"\"\", conn)"
      ],
      "execution_count": 35,
      "outputs": []
    },
    {
      "cell_type": "code",
      "metadata": {
        "colab_type": "code",
        "id": "fego4cI25Qk2",
        "colab": {
          "base_uri": "https://localhost:8080/",
          "height": 424
        },
        "outputId": "7b02e392-632f-44cb-e785-80ecf39f1552"
      },
      "source": [
        "data_hora_corrente"
      ],
      "execution_count": 36,
      "outputs": [
        {
          "output_type": "execute_result",
          "data": {
            "text/html": [
              "<div>\n",
              "<style scoped>\n",
              "    .dataframe tbody tr th:only-of-type {\n",
              "        vertical-align: middle;\n",
              "    }\n",
              "\n",
              "    .dataframe tbody tr th {\n",
              "        vertical-align: top;\n",
              "    }\n",
              "\n",
              "    .dataframe thead th {\n",
              "        text-align: right;\n",
              "    }\n",
              "</style>\n",
              "<table border=\"1\" class=\"dataframe\">\n",
              "  <thead>\n",
              "    <tr style=\"text-align: right;\">\n",
              "      <th></th>\n",
              "      <th>data_pedido</th>\n",
              "      <th>hora</th>\n",
              "    </tr>\n",
              "  </thead>\n",
              "  <tbody>\n",
              "    <tr>\n",
              "      <th>0</th>\n",
              "      <td>2020-07-30</td>\n",
              "      <td>12:58:00</td>\n",
              "    </tr>\n",
              "    <tr>\n",
              "      <th>1</th>\n",
              "      <td>2020-07-30</td>\n",
              "      <td>13:19:00</td>\n",
              "    </tr>\n",
              "    <tr>\n",
              "      <th>2</th>\n",
              "      <td>2020-07-30</td>\n",
              "      <td>12:34:00</td>\n",
              "    </tr>\n",
              "    <tr>\n",
              "      <th>3</th>\n",
              "      <td>2020-07-30</td>\n",
              "      <td>12:45:00</td>\n",
              "    </tr>\n",
              "    <tr>\n",
              "      <th>4</th>\n",
              "      <td>2020-07-30</td>\n",
              "      <td>12:45:00</td>\n",
              "    </tr>\n",
              "    <tr>\n",
              "      <th>...</th>\n",
              "      <td>...</td>\n",
              "      <td>...</td>\n",
              "    </tr>\n",
              "    <tr>\n",
              "      <th>67</th>\n",
              "      <td>2020-08-04</td>\n",
              "      <td>12:43:00</td>\n",
              "    </tr>\n",
              "    <tr>\n",
              "      <th>68</th>\n",
              "      <td>2020-08-04</td>\n",
              "      <td>13:09:00</td>\n",
              "    </tr>\n",
              "    <tr>\n",
              "      <th>69</th>\n",
              "      <td>2020-08-04</td>\n",
              "      <td>13:38:00</td>\n",
              "    </tr>\n",
              "    <tr>\n",
              "      <th>70</th>\n",
              "      <td>2020-08-04</td>\n",
              "      <td>13:51:00</td>\n",
              "    </tr>\n",
              "    <tr>\n",
              "      <th>71</th>\n",
              "      <td>2020-08-04</td>\n",
              "      <td>14:00:00</td>\n",
              "    </tr>\n",
              "  </tbody>\n",
              "</table>\n",
              "<p>72 rows × 2 columns</p>\n",
              "</div>"
            ],
            "text/plain": [
              "   data_pedido      hora\n",
              "0   2020-07-30  12:58:00\n",
              "1   2020-07-30  13:19:00\n",
              "2   2020-07-30  12:34:00\n",
              "3   2020-07-30  12:45:00\n",
              "4   2020-07-30  12:45:00\n",
              "..         ...       ...\n",
              "67  2020-08-04  12:43:00\n",
              "68  2020-08-04  13:09:00\n",
              "69  2020-08-04  13:38:00\n",
              "70  2020-08-04  13:51:00\n",
              "71  2020-08-04  14:00:00\n",
              "\n",
              "[72 rows x 2 columns]"
            ]
          },
          "metadata": {
            "tags": []
          },
          "execution_count": 36
        }
      ]
    }
  ]
}