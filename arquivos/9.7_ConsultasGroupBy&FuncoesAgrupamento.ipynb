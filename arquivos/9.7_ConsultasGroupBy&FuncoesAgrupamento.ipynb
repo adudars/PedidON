{
  "nbformat": 4,
  "nbformat_minor": 0,
  "metadata": {
    "colab": {
      "name": "9.7_ConsultasGroupBy&FuncoesAgrupamento.ipynb",
      "provenance": [],
      "collapsed_sections": [
        "-rho2dWh5QjC",
        "YJiKpFUr5Qjh",
        "gn9UW_KU5QkF",
        "mhZyBD8U5Qkl"
      ],
      "authorship_tag": "ABX9TyOqTuS7y5g/zVZXwkfETEfy",
      "include_colab_link": true
    },
    "kernelspec": {
      "name": "python3",
      "display_name": "Python 3"
    }
  },
  "cells": [
    {
      "cell_type": "markdown",
      "metadata": {
        "id": "view-in-github",
        "colab_type": "text"
      },
      "source": [
        "<a href=\"https://colab.research.google.com/github/adudars/PedidON/blob/master/arquivos/9.7_ConsultasGroupBy%26FuncoesAgrupamento.ipynb\" target=\"_parent\"><img src=\"https://colab.research.google.com/assets/colab-badge.svg\" alt=\"Open In Colab\"/></a>"
      ]
    },
    {
      "cell_type": "markdown",
      "metadata": {
        "id": "tbJ_4aYwENvD",
        "colab_type": "text"
      },
      "source": [
        "# 9.7 CONSULTAS COM GROUP BY E FUNÇÕES DE AGRUPAMENTO"
      ]
    },
    {
      "cell_type": "markdown",
      "metadata": {
        "id": "N_SPUL1wC9Cy",
        "colab_type": "text"
      },
      "source": [
        "## ESTABELECENDO CONEXÃO\n",
        "\n",
        "\n"
      ]
    },
    {
      "cell_type": "markdown",
      "metadata": {
        "id": "2Zu6LMx9FZ2o",
        "colab_type": "text"
      },
      "source": [
        "### Instalando bibliotecas de acesso"
      ]
    },
    {
      "cell_type": "code",
      "metadata": {
        "id": "7y0VZn5eGT_B",
        "colab_type": "code",
        "colab": {}
      },
      "source": [
        "#!pip install --user psycopg2-binary\n",
        "#!pip install --user pandas"
      ],
      "execution_count": 1,
      "outputs": []
    },
    {
      "cell_type": "markdown",
      "metadata": {
        "id": "BiXhsGizEb4p",
        "colab_type": "text"
      },
      "source": [
        "### Importando bibliotecas"
      ]
    },
    {
      "cell_type": "code",
      "metadata": {
        "id": "pEEUdYDuqCHv",
        "colab_type": "code",
        "colab": {}
      },
      "source": [
        "import pandas as pd\n",
        "import psycopg2"
      ],
      "execution_count": 3,
      "outputs": []
    },
    {
      "cell_type": "markdown",
      "metadata": {
        "id": "pbbw322lDEC6",
        "colab_type": "text"
      },
      "source": [
        "### Conectando com o banco através do psycopg2"
      ]
    },
    {
      "cell_type": "code",
      "metadata": {
        "id": "hWeCAx6Wvgqv",
        "colab_type": "code",
        "colab": {}
      },
      "source": [
        "conn = psycopg2.connect(host=\"lallah.db.elephantsql.com\",database=\"nxthbnlu\", user=\"nxthbnlu\", password=\"buyAYKsY17pqexg1grIcJaWm0gHBsO2F\")"
      ],
      "execution_count": 4,
      "outputs": []
    },
    {
      "cell_type": "markdown",
      "metadata": {
        "id": "P0uP7FEoLDOc",
        "colab_type": "text"
      },
      "source": [
        "## CONSULTAS"
      ]
    },
    {
      "cell_type": "markdown",
      "metadata": {
        "id": "6DkJtqcaDJaO",
        "colab_type": "text"
      },
      "source": [
        "### Média de preço de comanda"
      ]
    },
    {
      "cell_type": "code",
      "metadata": {
        "id": "m0i2AgIDytva",
        "colab_type": "code",
        "colab": {}
      },
      "source": [
        "avg_preco_comanda = pd.read_sql_query(\"\"\"select id_comanda, nome_cliente, nome_funcionario, avg(preco) as media_preco\n",
        "                                      from comanda as c\n",
        "                                      inner join pedido as p on\n",
        "                                      (c.id_comanda = p.fk_id_comanda)\n",
        "                                      inner join item_cardapio as ic on\n",
        "                                      (p.fk_id_itemcardapio = ic.id_itemcardapio)\n",
        "                                      inner join cliente as cl on\n",
        "                                      (cl.id_cliente = c.fk_id_cliente)\n",
        "                                      inner join funcionario as f on\n",
        "                                      (f.id_funcionario = c.fk_id_funcionario)\n",
        "                                      group by id_comanda, nome_cliente, nome_funcionario\n",
        "                                      order by id_comanda;\"\"\", conn)"
      ],
      "execution_count": 5,
      "outputs": []
    },
    {
      "cell_type": "code",
      "metadata": {
        "id": "cM9ZbCl5zmKE",
        "colab_type": "code",
        "colab": {
          "base_uri": "https://localhost:8080/",
          "height": 457
        },
        "outputId": "b9cc0569-fcad-46e2-e706-d05de1c76d70"
      },
      "source": [
        "avg_preco_comanda"
      ],
      "execution_count": 6,
      "outputs": [
        {
          "output_type": "execute_result",
          "data": {
            "text/html": [
              "<div>\n",
              "<style scoped>\n",
              "    .dataframe tbody tr th:only-of-type {\n",
              "        vertical-align: middle;\n",
              "    }\n",
              "\n",
              "    .dataframe tbody tr th {\n",
              "        vertical-align: top;\n",
              "    }\n",
              "\n",
              "    .dataframe thead th {\n",
              "        text-align: right;\n",
              "    }\n",
              "</style>\n",
              "<table border=\"1\" class=\"dataframe\">\n",
              "  <thead>\n",
              "    <tr style=\"text-align: right;\">\n",
              "      <th></th>\n",
              "      <th>id_comanda</th>\n",
              "      <th>nome_cliente</th>\n",
              "      <th>nome_funcionario</th>\n",
              "      <th>media_preco</th>\n",
              "    </tr>\n",
              "  </thead>\n",
              "  <tbody>\n",
              "    <tr>\n",
              "      <th>0</th>\n",
              "      <td>1</td>\n",
              "      <td>Lara</td>\n",
              "      <td>Bernardo</td>\n",
              "      <td>55.950000</td>\n",
              "    </tr>\n",
              "    <tr>\n",
              "      <th>1</th>\n",
              "      <td>2</td>\n",
              "      <td>Jorge</td>\n",
              "      <td>Bernardo</td>\n",
              "      <td>145.000000</td>\n",
              "    </tr>\n",
              "    <tr>\n",
              "      <th>2</th>\n",
              "      <td>3</td>\n",
              "      <td>Clara</td>\n",
              "      <td>Matheus</td>\n",
              "      <td>54.300000</td>\n",
              "    </tr>\n",
              "    <tr>\n",
              "      <th>3</th>\n",
              "      <td>4</td>\n",
              "      <td>Davi</td>\n",
              "      <td>Ismael</td>\n",
              "      <td>15.945000</td>\n",
              "    </tr>\n",
              "    <tr>\n",
              "      <th>4</th>\n",
              "      <td>5</td>\n",
              "      <td>Milton</td>\n",
              "      <td>Matheus</td>\n",
              "      <td>6.900000</td>\n",
              "    </tr>\n",
              "    <tr>\n",
              "      <th>5</th>\n",
              "      <td>6</td>\n",
              "      <td>Jorge</td>\n",
              "      <td>Ismael</td>\n",
              "      <td>43.400000</td>\n",
              "    </tr>\n",
              "    <tr>\n",
              "      <th>6</th>\n",
              "      <td>7</td>\n",
              "      <td>Luiza</td>\n",
              "      <td>Bernardo</td>\n",
              "      <td>55.000000</td>\n",
              "    </tr>\n",
              "    <tr>\n",
              "      <th>7</th>\n",
              "      <td>8</td>\n",
              "      <td>Ana</td>\n",
              "      <td>Matheus</td>\n",
              "      <td>130.000000</td>\n",
              "    </tr>\n",
              "    <tr>\n",
              "      <th>8</th>\n",
              "      <td>9</td>\n",
              "      <td>Tais</td>\n",
              "      <td>Ismael</td>\n",
              "      <td>22.000000</td>\n",
              "    </tr>\n",
              "    <tr>\n",
              "      <th>9</th>\n",
              "      <td>10</td>\n",
              "      <td>Davi</td>\n",
              "      <td>Bernardo</td>\n",
              "      <td>19.263333</td>\n",
              "    </tr>\n",
              "    <tr>\n",
              "      <th>10</th>\n",
              "      <td>11</td>\n",
              "      <td>Jorge</td>\n",
              "      <td>Matheus</td>\n",
              "      <td>6.900000</td>\n",
              "    </tr>\n",
              "    <tr>\n",
              "      <th>11</th>\n",
              "      <td>12</td>\n",
              "      <td>Isabella</td>\n",
              "      <td>Ismael</td>\n",
              "      <td>55.950000</td>\n",
              "    </tr>\n",
              "    <tr>\n",
              "      <th>12</th>\n",
              "      <td>13</td>\n",
              "      <td>Henrique</td>\n",
              "      <td>Matheus</td>\n",
              "      <td>76.975000</td>\n",
              "    </tr>\n",
              "  </tbody>\n",
              "</table>\n",
              "</div>"
            ],
            "text/plain": [
              "    id_comanda nome_cliente nome_funcionario  media_preco\n",
              "0            1         Lara         Bernardo    55.950000\n",
              "1            2        Jorge         Bernardo   145.000000\n",
              "2            3        Clara          Matheus    54.300000\n",
              "3            4         Davi           Ismael    15.945000\n",
              "4            5       Milton          Matheus     6.900000\n",
              "5            6        Jorge           Ismael    43.400000\n",
              "6            7        Luiza         Bernardo    55.000000\n",
              "7            8          Ana          Matheus   130.000000\n",
              "8            9         Tais           Ismael    22.000000\n",
              "9           10         Davi         Bernardo    19.263333\n",
              "10          11        Jorge          Matheus     6.900000\n",
              "11          12     Isabella           Ismael    55.950000\n",
              "12          13     Henrique          Matheus    76.975000"
            ]
          },
          "metadata": {
            "tags": []
          },
          "execution_count": 6
        }
      ]
    },
    {
      "cell_type": "markdown",
      "metadata": {
        "id": "4IYkr5E-DQV2",
        "colab_type": "text"
      },
      "source": [
        "### Maior preço de item por comanda"
      ]
    },
    {
      "cell_type": "code",
      "metadata": {
        "colab_type": "code",
        "id": "O5fuPjFAD38Y",
        "colab": {}
      },
      "source": [
        "max_preco_comanda = pd.read_sql_query(\"\"\"select id_comanda, max(preco) as preço_max\n",
        "                                  from item_cardapio as ic\n",
        "                                  inner join pedido as p on\n",
        "                                  (p.fk_id_itemcardapio = ic.id_itemcardapio)\n",
        "                                  inner join comanda as c on\n",
        "                                  (c.id_comanda = p.fk_id_comanda)\n",
        "                                  group by id_comanda\n",
        "                                  order by id_comanda;\"\"\", conn)"
      ],
      "execution_count": 7,
      "outputs": []
    },
    {
      "cell_type": "code",
      "metadata": {
        "id": "C2OQ_rvlDHBn",
        "colab_type": "code",
        "colab": {
          "base_uri": "https://localhost:8080/",
          "height": 457
        },
        "outputId": "129b2a8f-08e7-42ef-e0a0-a7c78d2093a1"
      },
      "source": [
        "max_preco_comanda"
      ],
      "execution_count": 8,
      "outputs": [
        {
          "output_type": "execute_result",
          "data": {
            "text/html": [
              "<div>\n",
              "<style scoped>\n",
              "    .dataframe tbody tr th:only-of-type {\n",
              "        vertical-align: middle;\n",
              "    }\n",
              "\n",
              "    .dataframe tbody tr th {\n",
              "        vertical-align: top;\n",
              "    }\n",
              "\n",
              "    .dataframe thead th {\n",
              "        text-align: right;\n",
              "    }\n",
              "</style>\n",
              "<table border=\"1\" class=\"dataframe\">\n",
              "  <thead>\n",
              "    <tr style=\"text-align: right;\">\n",
              "      <th></th>\n",
              "      <th>id_comanda</th>\n",
              "      <th>preço_max</th>\n",
              "    </tr>\n",
              "  </thead>\n",
              "  <tbody>\n",
              "    <tr>\n",
              "      <th>0</th>\n",
              "      <td>1</td>\n",
              "      <td>56.9</td>\n",
              "    </tr>\n",
              "    <tr>\n",
              "      <th>1</th>\n",
              "      <td>2</td>\n",
              "      <td>145.0</td>\n",
              "    </tr>\n",
              "    <tr>\n",
              "      <th>2</th>\n",
              "      <td>3</td>\n",
              "      <td>115.0</td>\n",
              "    </tr>\n",
              "    <tr>\n",
              "      <th>3</th>\n",
              "      <td>4</td>\n",
              "      <td>25.9</td>\n",
              "    </tr>\n",
              "    <tr>\n",
              "      <th>4</th>\n",
              "      <td>5</td>\n",
              "      <td>6.9</td>\n",
              "    </tr>\n",
              "    <tr>\n",
              "      <th>5</th>\n",
              "      <td>6</td>\n",
              "      <td>56.9</td>\n",
              "    </tr>\n",
              "    <tr>\n",
              "      <th>6</th>\n",
              "      <td>7</td>\n",
              "      <td>55.0</td>\n",
              "    </tr>\n",
              "    <tr>\n",
              "      <th>7</th>\n",
              "      <td>8</td>\n",
              "      <td>145.0</td>\n",
              "    </tr>\n",
              "    <tr>\n",
              "      <th>8</th>\n",
              "      <td>9</td>\n",
              "      <td>22.0</td>\n",
              "    </tr>\n",
              "    <tr>\n",
              "      <th>9</th>\n",
              "      <td>10</td>\n",
              "      <td>25.9</td>\n",
              "    </tr>\n",
              "    <tr>\n",
              "      <th>10</th>\n",
              "      <td>11</td>\n",
              "      <td>6.9</td>\n",
              "    </tr>\n",
              "    <tr>\n",
              "      <th>11</th>\n",
              "      <td>12</td>\n",
              "      <td>56.9</td>\n",
              "    </tr>\n",
              "    <tr>\n",
              "      <th>12</th>\n",
              "      <td>13</td>\n",
              "      <td>145.0</td>\n",
              "    </tr>\n",
              "  </tbody>\n",
              "</table>\n",
              "</div>"
            ],
            "text/plain": [
              "    id_comanda  preço_max\n",
              "0            1       56.9\n",
              "1            2      145.0\n",
              "2            3      115.0\n",
              "3            4       25.9\n",
              "4            5        6.9\n",
              "5            6       56.9\n",
              "6            7       55.0\n",
              "7            8      145.0\n",
              "8            9       22.0\n",
              "9           10       25.9\n",
              "10          11        6.9\n",
              "11          12       56.9\n",
              "12          13      145.0"
            ]
          },
          "metadata": {
            "tags": []
          },
          "execution_count": 8
        }
      ]
    },
    {
      "cell_type": "markdown",
      "metadata": {
        "colab_type": "text",
        "id": "q_JZ8NcBD-2S"
      },
      "source": [
        "### Quantidade de comandas por cliente"
      ]
    },
    {
      "cell_type": "code",
      "metadata": {
        "colab_type": "code",
        "id": "8lR1zl3gD-2a",
        "colab": {}
      },
      "source": [
        "count_comandas = pd.read_sql_query(\"\"\"select nome_cliente, count(id_comanda) as quantidade_comandas\n",
        "                                    from comanda as c\n",
        "                                    inner join cliente as cl on\n",
        "                                    (cl.id_cliente = c.fk_id_cliente)\n",
        "                                    group by nome_cliente;\"\"\", conn)"
      ],
      "execution_count": 9,
      "outputs": []
    },
    {
      "cell_type": "code",
      "metadata": {
        "colab_type": "code",
        "id": "RryFY0SnD-2t",
        "colab": {
          "base_uri": "https://localhost:8080/",
          "height": 363
        },
        "outputId": "0d61e51c-b4a8-4acb-f58c-40a75edc530e"
      },
      "source": [
        "count_comandas"
      ],
      "execution_count": 10,
      "outputs": [
        {
          "output_type": "execute_result",
          "data": {
            "text/html": [
              "<div>\n",
              "<style scoped>\n",
              "    .dataframe tbody tr th:only-of-type {\n",
              "        vertical-align: middle;\n",
              "    }\n",
              "\n",
              "    .dataframe tbody tr th {\n",
              "        vertical-align: top;\n",
              "    }\n",
              "\n",
              "    .dataframe thead th {\n",
              "        text-align: right;\n",
              "    }\n",
              "</style>\n",
              "<table border=\"1\" class=\"dataframe\">\n",
              "  <thead>\n",
              "    <tr style=\"text-align: right;\">\n",
              "      <th></th>\n",
              "      <th>nome_cliente</th>\n",
              "      <th>quantidade_comandas</th>\n",
              "    </tr>\n",
              "  </thead>\n",
              "  <tbody>\n",
              "    <tr>\n",
              "      <th>0</th>\n",
              "      <td>Lara</td>\n",
              "      <td>1</td>\n",
              "    </tr>\n",
              "    <tr>\n",
              "      <th>1</th>\n",
              "      <td>Ana</td>\n",
              "      <td>1</td>\n",
              "    </tr>\n",
              "    <tr>\n",
              "      <th>2</th>\n",
              "      <td>Jorge</td>\n",
              "      <td>3</td>\n",
              "    </tr>\n",
              "    <tr>\n",
              "      <th>3</th>\n",
              "      <td>Tais</td>\n",
              "      <td>1</td>\n",
              "    </tr>\n",
              "    <tr>\n",
              "      <th>4</th>\n",
              "      <td>Isabella</td>\n",
              "      <td>1</td>\n",
              "    </tr>\n",
              "    <tr>\n",
              "      <th>5</th>\n",
              "      <td>Clara</td>\n",
              "      <td>1</td>\n",
              "    </tr>\n",
              "    <tr>\n",
              "      <th>6</th>\n",
              "      <td>Davi</td>\n",
              "      <td>2</td>\n",
              "    </tr>\n",
              "    <tr>\n",
              "      <th>7</th>\n",
              "      <td>Milton</td>\n",
              "      <td>1</td>\n",
              "    </tr>\n",
              "    <tr>\n",
              "      <th>8</th>\n",
              "      <td>Henrique</td>\n",
              "      <td>1</td>\n",
              "    </tr>\n",
              "    <tr>\n",
              "      <th>9</th>\n",
              "      <td>Luiza</td>\n",
              "      <td>1</td>\n",
              "    </tr>\n",
              "  </tbody>\n",
              "</table>\n",
              "</div>"
            ],
            "text/plain": [
              "  nome_cliente  quantidade_comandas\n",
              "0         Lara                    1\n",
              "1          Ana                    1\n",
              "2        Jorge                    3\n",
              "3         Tais                    1\n",
              "4     Isabella                    1\n",
              "5        Clara                    1\n",
              "6         Davi                    2\n",
              "7       Milton                    1\n",
              "8     Henrique                    1\n",
              "9        Luiza                    1"
            ]
          },
          "metadata": {
            "tags": []
          },
          "execution_count": 10
        }
      ]
    },
    {
      "cell_type": "markdown",
      "metadata": {
        "colab_type": "text",
        "id": "gvxUz2ZLIDF7"
      },
      "source": [
        "### Valor total da comanda por soma dos preços dos itens pedidos"
      ]
    },
    {
      "cell_type": "code",
      "metadata": {
        "colab_type": "code",
        "id": "Fs0mKPshIDGF",
        "colab": {}
      },
      "source": [
        "soma_preco_comanda = pd.read_sql_query(\"\"\"select id_comanda, sum(preco) as valor_total\n",
        "                              from comanda as c\n",
        "                              inner join pedido as p on\n",
        "                              (c.id_comanda = p.fk_id_comanda)\n",
        "                              inner join item_cardapio as ic on\n",
        "                              (p.fk_id_itemcardapio = ic.id_itemcardapio)\n",
        "                              group by id_comanda\n",
        "                              order by valor_total desc;\"\"\", conn)"
      ],
      "execution_count": 11,
      "outputs": []
    },
    {
      "cell_type": "code",
      "metadata": {
        "id": "d1LK5RgRIKBH",
        "colab_type": "code",
        "colab": {
          "base_uri": "https://localhost:8080/",
          "height": 457
        },
        "outputId": "113e0c51-a69b-4e53-c879-053308ed5e24"
      },
      "source": [
        "soma_preco_comanda"
      ],
      "execution_count": 12,
      "outputs": [
        {
          "output_type": "execute_result",
          "data": {
            "text/html": [
              "<div>\n",
              "<style scoped>\n",
              "    .dataframe tbody tr th:only-of-type {\n",
              "        vertical-align: middle;\n",
              "    }\n",
              "\n",
              "    .dataframe tbody tr th {\n",
              "        vertical-align: top;\n",
              "    }\n",
              "\n",
              "    .dataframe thead th {\n",
              "        text-align: right;\n",
              "    }\n",
              "</style>\n",
              "<table border=\"1\" class=\"dataframe\">\n",
              "  <thead>\n",
              "    <tr style=\"text-align: right;\">\n",
              "      <th></th>\n",
              "      <th>id_comanda</th>\n",
              "      <th>valor_total</th>\n",
              "    </tr>\n",
              "  </thead>\n",
              "  <tbody>\n",
              "    <tr>\n",
              "      <th>0</th>\n",
              "      <td>13</td>\n",
              "      <td>307.90</td>\n",
              "    </tr>\n",
              "    <tr>\n",
              "      <th>1</th>\n",
              "      <td>8</td>\n",
              "      <td>260.00</td>\n",
              "    </tr>\n",
              "    <tr>\n",
              "      <th>2</th>\n",
              "      <td>3</td>\n",
              "      <td>162.90</td>\n",
              "    </tr>\n",
              "    <tr>\n",
              "      <th>3</th>\n",
              "      <td>2</td>\n",
              "      <td>145.00</td>\n",
              "    </tr>\n",
              "    <tr>\n",
              "      <th>4</th>\n",
              "      <td>1</td>\n",
              "      <td>111.90</td>\n",
              "    </tr>\n",
              "    <tr>\n",
              "      <th>5</th>\n",
              "      <td>12</td>\n",
              "      <td>111.90</td>\n",
              "    </tr>\n",
              "    <tr>\n",
              "      <th>6</th>\n",
              "      <td>6</td>\n",
              "      <td>86.80</td>\n",
              "    </tr>\n",
              "    <tr>\n",
              "      <th>7</th>\n",
              "      <td>10</td>\n",
              "      <td>57.79</td>\n",
              "    </tr>\n",
              "    <tr>\n",
              "      <th>8</th>\n",
              "      <td>7</td>\n",
              "      <td>55.00</td>\n",
              "    </tr>\n",
              "    <tr>\n",
              "      <th>9</th>\n",
              "      <td>4</td>\n",
              "      <td>31.89</td>\n",
              "    </tr>\n",
              "    <tr>\n",
              "      <th>10</th>\n",
              "      <td>9</td>\n",
              "      <td>22.00</td>\n",
              "    </tr>\n",
              "    <tr>\n",
              "      <th>11</th>\n",
              "      <td>11</td>\n",
              "      <td>6.90</td>\n",
              "    </tr>\n",
              "    <tr>\n",
              "      <th>12</th>\n",
              "      <td>5</td>\n",
              "      <td>6.90</td>\n",
              "    </tr>\n",
              "  </tbody>\n",
              "</table>\n",
              "</div>"
            ],
            "text/plain": [
              "    id_comanda  valor_total\n",
              "0           13       307.90\n",
              "1            8       260.00\n",
              "2            3       162.90\n",
              "3            2       145.00\n",
              "4            1       111.90\n",
              "5           12       111.90\n",
              "6            6        86.80\n",
              "7           10        57.79\n",
              "8            7        55.00\n",
              "9            4        31.89\n",
              "10           9        22.00\n",
              "11          11         6.90\n",
              "12           5         6.90"
            ]
          },
          "metadata": {
            "tags": []
          },
          "execution_count": 12
        }
      ]
    },
    {
      "cell_type": "markdown",
      "metadata": {
        "colab_type": "text",
        "id": "iXglAcByISem"
      },
      "source": [
        "### Quantidade de comandas atendidas por funcionário"
      ]
    },
    {
      "cell_type": "code",
      "metadata": {
        "colab_type": "code",
        "id": "LUH8DisSISeu",
        "colab": {}
      },
      "source": [
        "count_funcionario_comanda = pd.read_sql_query(\"\"\"select nome_funcionario, count(nome_funcionario) as comandas_atendidas\n",
        "                              from comanda as c\n",
        "                              inner join pedido as p on\n",
        "                              (c.id_comanda = p.fk_id_comanda)\n",
        "                              inner join funcionario as f on\n",
        "                              (c.fk_id_funcionario = f.id_funcionario)\n",
        "                              group by nome_funcionario;\"\"\", conn)"
      ],
      "execution_count": 13,
      "outputs": []
    },
    {
      "cell_type": "code",
      "metadata": {
        "id": "cZj89lWUIZDk",
        "colab_type": "code",
        "colab": {
          "base_uri": "https://localhost:8080/",
          "height": 143
        },
        "outputId": "ef3fde7b-5e0a-4239-9237-e4ed1910d74c"
      },
      "source": [
        "count_funcionario_comanda"
      ],
      "execution_count": 14,
      "outputs": [
        {
          "output_type": "execute_result",
          "data": {
            "text/html": [
              "<div>\n",
              "<style scoped>\n",
              "    .dataframe tbody tr th:only-of-type {\n",
              "        vertical-align: middle;\n",
              "    }\n",
              "\n",
              "    .dataframe tbody tr th {\n",
              "        vertical-align: top;\n",
              "    }\n",
              "\n",
              "    .dataframe thead th {\n",
              "        text-align: right;\n",
              "    }\n",
              "</style>\n",
              "<table border=\"1\" class=\"dataframe\">\n",
              "  <thead>\n",
              "    <tr style=\"text-align: right;\">\n",
              "      <th></th>\n",
              "      <th>nome_funcionario</th>\n",
              "      <th>comandas_atendidas</th>\n",
              "    </tr>\n",
              "  </thead>\n",
              "  <tbody>\n",
              "    <tr>\n",
              "      <th>0</th>\n",
              "      <td>Matheus</td>\n",
              "      <td>11</td>\n",
              "    </tr>\n",
              "    <tr>\n",
              "      <th>1</th>\n",
              "      <td>Bernardo</td>\n",
              "      <td>7</td>\n",
              "    </tr>\n",
              "    <tr>\n",
              "      <th>2</th>\n",
              "      <td>Ismael</td>\n",
              "      <td>7</td>\n",
              "    </tr>\n",
              "  </tbody>\n",
              "</table>\n",
              "</div>"
            ],
            "text/plain": [
              "  nome_funcionario  comandas_atendidas\n",
              "0          Matheus                  11\n",
              "1         Bernardo                   7\n",
              "2           Ismael                   7"
            ]
          },
          "metadata": {
            "tags": []
          },
          "execution_count": 14
        }
      ]
    },
    {
      "cell_type": "markdown",
      "metadata": {
        "colab_type": "text",
        "id": "tC1G0Pw75Qgn"
      },
      "source": [
        "### Menor preço de item por comanda"
      ]
    },
    {
      "cell_type": "code",
      "metadata": {
        "colab_type": "code",
        "id": "thHFQXVH5Qgw",
        "colab": {}
      },
      "source": [
        "min_preco_comanda = pd.read_sql_query(\"\"\"select id_comanda, min(preco) as menor_valor_pedido\n",
        "                                          from comanda as c\n",
        "                                          inner join pedido as p on\n",
        "                                          (c.id_comanda = p.fk_id_comanda)\n",
        "                                          inner join item_cardapio as ic on\n",
        "                                          (p.fk_id_itemcardapio = ic.id_itemcardapio)\n",
        "                                          group by id_comanda\n",
        "                                          order by id_comanda;\"\"\", conn)"
      ],
      "execution_count": 26,
      "outputs": []
    },
    {
      "cell_type": "code",
      "metadata": {
        "colab_type": "code",
        "id": "erIgopUa5QhS",
        "colab": {
          "base_uri": "https://localhost:8080/",
          "height": 457
        },
        "outputId": "390b2bd7-61e6-4fb8-839b-663dc2169172"
      },
      "source": [
        "min_preco_comanda"
      ],
      "execution_count": 27,
      "outputs": [
        {
          "output_type": "execute_result",
          "data": {
            "text/html": [
              "<div>\n",
              "<style scoped>\n",
              "    .dataframe tbody tr th:only-of-type {\n",
              "        vertical-align: middle;\n",
              "    }\n",
              "\n",
              "    .dataframe tbody tr th {\n",
              "        vertical-align: top;\n",
              "    }\n",
              "\n",
              "    .dataframe thead th {\n",
              "        text-align: right;\n",
              "    }\n",
              "</style>\n",
              "<table border=\"1\" class=\"dataframe\">\n",
              "  <thead>\n",
              "    <tr style=\"text-align: right;\">\n",
              "      <th></th>\n",
              "      <th>id_comanda</th>\n",
              "      <th>menor_valor_pedido</th>\n",
              "    </tr>\n",
              "  </thead>\n",
              "  <tbody>\n",
              "    <tr>\n",
              "      <th>0</th>\n",
              "      <td>1</td>\n",
              "      <td>55.00</td>\n",
              "    </tr>\n",
              "    <tr>\n",
              "      <th>1</th>\n",
              "      <td>2</td>\n",
              "      <td>145.00</td>\n",
              "    </tr>\n",
              "    <tr>\n",
              "      <th>2</th>\n",
              "      <td>3</td>\n",
              "      <td>22.00</td>\n",
              "    </tr>\n",
              "    <tr>\n",
              "      <th>3</th>\n",
              "      <td>4</td>\n",
              "      <td>5.99</td>\n",
              "    </tr>\n",
              "    <tr>\n",
              "      <th>4</th>\n",
              "      <td>5</td>\n",
              "      <td>6.90</td>\n",
              "    </tr>\n",
              "    <tr>\n",
              "      <th>5</th>\n",
              "      <td>6</td>\n",
              "      <td>29.90</td>\n",
              "    </tr>\n",
              "    <tr>\n",
              "      <th>6</th>\n",
              "      <td>7</td>\n",
              "      <td>55.00</td>\n",
              "    </tr>\n",
              "    <tr>\n",
              "      <th>7</th>\n",
              "      <td>8</td>\n",
              "      <td>115.00</td>\n",
              "    </tr>\n",
              "    <tr>\n",
              "      <th>8</th>\n",
              "      <td>9</td>\n",
              "      <td>22.00</td>\n",
              "    </tr>\n",
              "    <tr>\n",
              "      <th>9</th>\n",
              "      <td>10</td>\n",
              "      <td>5.99</td>\n",
              "    </tr>\n",
              "    <tr>\n",
              "      <th>10</th>\n",
              "      <td>11</td>\n",
              "      <td>6.90</td>\n",
              "    </tr>\n",
              "    <tr>\n",
              "      <th>11</th>\n",
              "      <td>12</td>\n",
              "      <td>55.00</td>\n",
              "    </tr>\n",
              "    <tr>\n",
              "      <th>12</th>\n",
              "      <td>13</td>\n",
              "      <td>22.00</td>\n",
              "    </tr>\n",
              "  </tbody>\n",
              "</table>\n",
              "</div>"
            ],
            "text/plain": [
              "    id_comanda  menor_valor_pedido\n",
              "0            1               55.00\n",
              "1            2              145.00\n",
              "2            3               22.00\n",
              "3            4                5.99\n",
              "4            5                6.90\n",
              "5            6               29.90\n",
              "6            7               55.00\n",
              "7            8              115.00\n",
              "8            9               22.00\n",
              "9           10                5.99\n",
              "10          11                6.90\n",
              "11          12               55.00\n",
              "12          13               22.00"
            ]
          },
          "metadata": {
            "tags": []
          },
          "execution_count": 27
        }
      ]
    }
  ]
}