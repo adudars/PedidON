{
  "nbformat": 4,
  "nbformat_minor": 0,
  "metadata": {
    "colab": {
      "name": "9.2_ConsultasWhere.ipynb",
      "provenance": [],
      "include_colab_link": true
    },
    "kernelspec": {
      "name": "python3",
      "display_name": "Python 3"
    }
  },
  "cells": [
    {
      "cell_type": "markdown",
      "metadata": {
        "id": "view-in-github",
        "colab_type": "text"
      },
      "source": [
        "<a href=\"https://colab.research.google.com/github/adudars/PedidON/blob/master/arquivos/9.2_ConsultasWhere.ipynb\" target=\"_parent\"><img src=\"https://colab.research.google.com/assets/colab-badge.svg\" alt=\"Open In Colab\"/></a>"
      ]
    },
    {
      "cell_type": "markdown",
      "metadata": {
        "id": "tbJ_4aYwENvD",
        "colab_type": "text"
      },
      "source": [
        "# 9.2 CONSULTAS DAS TABELAS COM FILTROS WHERE"
      ]
    },
    {
      "cell_type": "markdown",
      "metadata": {
        "id": "N_SPUL1wC9Cy",
        "colab_type": "text"
      },
      "source": [
        "## ESTABELECENDO CONEXÃO\n",
        "\n",
        "\n"
      ]
    },
    {
      "cell_type": "markdown",
      "metadata": {
        "id": "2Zu6LMx9FZ2o",
        "colab_type": "text"
      },
      "source": [
        "### Instalando bibliotecas de acesso"
      ]
    },
    {
      "cell_type": "code",
      "metadata": {
        "id": "7y0VZn5eGT_B",
        "colab_type": "code",
        "colab": {}
      },
      "source": [
        "#!pip install --user psycopg2-binary\n",
        "#!pip install --user pandas"
      ],
      "execution_count": 2,
      "outputs": []
    },
    {
      "cell_type": "markdown",
      "metadata": {
        "id": "BiXhsGizEb4p",
        "colab_type": "text"
      },
      "source": [
        "### Importando bibliotecas"
      ]
    },
    {
      "cell_type": "code",
      "metadata": {
        "id": "pEEUdYDuqCHv",
        "colab_type": "code",
        "colab": {}
      },
      "source": [
        "import pandas as pd\n",
        "import psycopg2"
      ],
      "execution_count": 5,
      "outputs": []
    },
    {
      "cell_type": "markdown",
      "metadata": {
        "id": "pbbw322lDEC6",
        "colab_type": "text"
      },
      "source": [
        "### Conectando com o banco através do psycopg2"
      ]
    },
    {
      "cell_type": "code",
      "metadata": {
        "id": "hWeCAx6Wvgqv",
        "colab_type": "code",
        "colab": {}
      },
      "source": [
        "conn = psycopg2.connect(host=\"lallah.db.elephantsql.com\",database=\"nxthbnlu\", user=\"nxthbnlu\", password=\"buyAYKsY17pqexg1grIcJaWm0gHBsO2F\")"
      ],
      "execution_count": 9,
      "outputs": []
    },
    {
      "cell_type": "markdown",
      "metadata": {
        "id": "P0uP7FEoLDOc",
        "colab_type": "text"
      },
      "source": [
        "## SELECT UTILIZANDO WHERE"
      ]
    },
    {
      "cell_type": "code",
      "metadata": {
        "id": "m0i2AgIDytva",
        "colab_type": "code",
        "colab": {}
      },
      "source": [
        "query1 = pd.read_sql_query(\"select * from comanda where fk_id_funcionario=1\", conn)"
      ],
      "execution_count": 10,
      "outputs": []
    },
    {
      "cell_type": "code",
      "metadata": {
        "id": "cM9ZbCl5zmKE",
        "colab_type": "code",
        "colab": {
          "base_uri": "https://localhost:8080/",
          "height": 314
        },
        "outputId": "9a7fdff9-5c9c-4d31-9f64-15125663cb84"
      },
      "source": [
        "query1"
      ],
      "execution_count": 11,
      "outputs": [
        {
          "output_type": "execute_result",
          "data": {
            "text/html": [
              "<div>\n",
              "<style scoped>\n",
              "    .dataframe tbody tr th:only-of-type {\n",
              "        vertical-align: middle;\n",
              "    }\n",
              "\n",
              "    .dataframe tbody tr th {\n",
              "        vertical-align: top;\n",
              "    }\n",
              "\n",
              "    .dataframe thead th {\n",
              "        text-align: right;\n",
              "    }\n",
              "</style>\n",
              "<table border=\"1\" class=\"dataframe\">\n",
              "  <thead>\n",
              "    <tr style=\"text-align: right;\">\n",
              "      <th></th>\n",
              "      <th>id_comanda</th>\n",
              "      <th>mesa</th>\n",
              "      <th>data</th>\n",
              "      <th>fk_id_cliente</th>\n",
              "      <th>fk_id_funcionario</th>\n",
              "    </tr>\n",
              "  </thead>\n",
              "  <tbody>\n",
              "    <tr>\n",
              "      <th>0</th>\n",
              "      <td>1</td>\n",
              "      <td>13</td>\n",
              "      <td>2020-07-30</td>\n",
              "      <td>1</td>\n",
              "      <td>1</td>\n",
              "    </tr>\n",
              "    <tr>\n",
              "      <th>1</th>\n",
              "      <td>2</td>\n",
              "      <td>1</td>\n",
              "      <td>2020-07-30</td>\n",
              "      <td>2</td>\n",
              "      <td>1</td>\n",
              "    </tr>\n",
              "    <tr>\n",
              "      <th>2</th>\n",
              "      <td>7</td>\n",
              "      <td>13</td>\n",
              "      <td>2020-07-31</td>\n",
              "      <td>6</td>\n",
              "      <td>1</td>\n",
              "    </tr>\n",
              "    <tr>\n",
              "      <th>3</th>\n",
              "      <td>10</td>\n",
              "      <td>4</td>\n",
              "      <td>2020-08-01</td>\n",
              "      <td>4</td>\n",
              "      <td>1</td>\n",
              "    </tr>\n",
              "    <tr>\n",
              "      <th>4</th>\n",
              "      <td>14</td>\n",
              "      <td>1</td>\n",
              "      <td>2020-08-02</td>\n",
              "      <td>11</td>\n",
              "      <td>1</td>\n",
              "    </tr>\n",
              "    <tr>\n",
              "      <th>5</th>\n",
              "      <td>26</td>\n",
              "      <td>13</td>\n",
              "      <td>2020-08-03</td>\n",
              "      <td>8</td>\n",
              "      <td>1</td>\n",
              "    </tr>\n",
              "    <tr>\n",
              "      <th>6</th>\n",
              "      <td>38</td>\n",
              "      <td>12</td>\n",
              "      <td>2020-08-04</td>\n",
              "      <td>5</td>\n",
              "      <td>1</td>\n",
              "    </tr>\n",
              "    <tr>\n",
              "      <th>7</th>\n",
              "      <td>50</td>\n",
              "      <td>11</td>\n",
              "      <td>2020-08-04</td>\n",
              "      <td>2</td>\n",
              "      <td>1</td>\n",
              "    </tr>\n",
              "    <tr>\n",
              "      <th>8</th>\n",
              "      <td>69</td>\n",
              "      <td>9</td>\n",
              "      <td>2020-08-04</td>\n",
              "      <td>29</td>\n",
              "      <td>1</td>\n",
              "    </tr>\n",
              "  </tbody>\n",
              "</table>\n",
              "</div>"
            ],
            "text/plain": [
              "   id_comanda  mesa        data  fk_id_cliente  fk_id_funcionario\n",
              "0           1    13  2020-07-30              1                  1\n",
              "1           2     1  2020-07-30              2                  1\n",
              "2           7    13  2020-07-31              6                  1\n",
              "3          10     4  2020-08-01              4                  1\n",
              "4          14     1  2020-08-02             11                  1\n",
              "5          26    13  2020-08-03              8                  1\n",
              "6          38    12  2020-08-04              5                  1\n",
              "7          50    11  2020-08-04              2                  1\n",
              "8          69     9  2020-08-04             29                  1"
            ]
          },
          "metadata": {
            "tags": []
          },
          "execution_count": 11
        }
      ]
    },
    {
      "cell_type": "code",
      "metadata": {
        "colab_type": "code",
        "id": "O5fuPjFAD38Y",
        "colab": {}
      },
      "source": [
        "query2 = pd.read_sql_query(\"select id_comanda from comanda where mesa=1;\", conn)"
      ],
      "execution_count": 12,
      "outputs": []
    },
    {
      "cell_type": "code",
      "metadata": {
        "id": "C2OQ_rvlDHBn",
        "colab_type": "code",
        "colab": {
          "base_uri": "https://localhost:8080/",
          "height": 225
        },
        "outputId": "8397795b-a04b-48ca-afac-e0b7d5b78ad6"
      },
      "source": [
        "query2"
      ],
      "execution_count": 13,
      "outputs": [
        {
          "output_type": "execute_result",
          "data": {
            "text/html": [
              "<div>\n",
              "<style scoped>\n",
              "    .dataframe tbody tr th:only-of-type {\n",
              "        vertical-align: middle;\n",
              "    }\n",
              "\n",
              "    .dataframe tbody tr th {\n",
              "        vertical-align: top;\n",
              "    }\n",
              "\n",
              "    .dataframe thead th {\n",
              "        text-align: right;\n",
              "    }\n",
              "</style>\n",
              "<table border=\"1\" class=\"dataframe\">\n",
              "  <thead>\n",
              "    <tr style=\"text-align: right;\">\n",
              "      <th></th>\n",
              "      <th>id_comanda</th>\n",
              "    </tr>\n",
              "  </thead>\n",
              "  <tbody>\n",
              "    <tr>\n",
              "      <th>0</th>\n",
              "      <td>2</td>\n",
              "    </tr>\n",
              "    <tr>\n",
              "      <th>1</th>\n",
              "      <td>6</td>\n",
              "    </tr>\n",
              "    <tr>\n",
              "      <th>2</th>\n",
              "      <td>14</td>\n",
              "    </tr>\n",
              "    <tr>\n",
              "      <th>3</th>\n",
              "      <td>27</td>\n",
              "    </tr>\n",
              "    <tr>\n",
              "      <th>4</th>\n",
              "      <td>40</td>\n",
              "    </tr>\n",
              "    <tr>\n",
              "      <th>5</th>\n",
              "      <td>61</td>\n",
              "    </tr>\n",
              "  </tbody>\n",
              "</table>\n",
              "</div>"
            ],
            "text/plain": [
              "   id_comanda\n",
              "0           2\n",
              "1           6\n",
              "2          14\n",
              "3          27\n",
              "4          40\n",
              "5          61"
            ]
          },
          "metadata": {
            "tags": []
          },
          "execution_count": 13
        }
      ]
    },
    {
      "cell_type": "code",
      "metadata": {
        "colab_type": "code",
        "id": "8lR1zl3gD-2a",
        "colab": {}
      },
      "source": [
        "query3 = pd.read_sql_query(\"select nome_cliente from cliente where id_cliente=10;\", conn)"
      ],
      "execution_count": 14,
      "outputs": []
    },
    {
      "cell_type": "code",
      "metadata": {
        "colab_type": "code",
        "id": "RryFY0SnD-2t",
        "colab": {
          "base_uri": "https://localhost:8080/",
          "height": 77
        },
        "outputId": "42d37bbc-195a-4022-c44a-7f42667ad99e"
      },
      "source": [
        "query3"
      ],
      "execution_count": 15,
      "outputs": [
        {
          "output_type": "execute_result",
          "data": {
            "text/html": [
              "<div>\n",
              "<style scoped>\n",
              "    .dataframe tbody tr th:only-of-type {\n",
              "        vertical-align: middle;\n",
              "    }\n",
              "\n",
              "    .dataframe tbody tr th {\n",
              "        vertical-align: top;\n",
              "    }\n",
              "\n",
              "    .dataframe thead th {\n",
              "        text-align: right;\n",
              "    }\n",
              "</style>\n",
              "<table border=\"1\" class=\"dataframe\">\n",
              "  <thead>\n",
              "    <tr style=\"text-align: right;\">\n",
              "      <th></th>\n",
              "      <th>nome_cliente</th>\n",
              "    </tr>\n",
              "  </thead>\n",
              "  <tbody>\n",
              "    <tr>\n",
              "      <th>0</th>\n",
              "      <td>Henrique</td>\n",
              "    </tr>\n",
              "  </tbody>\n",
              "</table>\n",
              "</div>"
            ],
            "text/plain": [
              "  nome_cliente\n",
              "0     Henrique"
            ]
          },
          "metadata": {
            "tags": []
          },
          "execution_count": 15
        }
      ]
    },
    {
      "cell_type": "code",
      "metadata": {
        "colab_type": "code",
        "id": "Fs0mKPshIDGF",
        "colab": {}
      },
      "source": [
        "query4 = pd.read_sql_query(\"select * from item_cardapio where preco<50;\", conn)"
      ],
      "execution_count": 16,
      "outputs": []
    },
    {
      "cell_type": "code",
      "metadata": {
        "id": "d1LK5RgRIKBH",
        "colab_type": "code",
        "colab": {
          "base_uri": "https://localhost:8080/",
          "height": 1000
        },
        "outputId": "75292ae6-31e6-476b-f150-ed7fc5331527"
      },
      "source": [
        "query4"
      ],
      "execution_count": 17,
      "outputs": [
        {
          "output_type": "execute_result",
          "data": {
            "text/html": [
              "<div>\n",
              "<style scoped>\n",
              "    .dataframe tbody tr th:only-of-type {\n",
              "        vertical-align: middle;\n",
              "    }\n",
              "\n",
              "    .dataframe tbody tr th {\n",
              "        vertical-align: top;\n",
              "    }\n",
              "\n",
              "    .dataframe thead th {\n",
              "        text-align: right;\n",
              "    }\n",
              "</style>\n",
              "<table border=\"1\" class=\"dataframe\">\n",
              "  <thead>\n",
              "    <tr style=\"text-align: right;\">\n",
              "      <th></th>\n",
              "      <th>id_itemcardapio</th>\n",
              "      <th>nome_item</th>\n",
              "      <th>preco</th>\n",
              "      <th>descricao_item</th>\n",
              "      <th>fk_id_categoria</th>\n",
              "      <th>fk_id_tamanho</th>\n",
              "    </tr>\n",
              "  </thead>\n",
              "  <tbody>\n",
              "    <tr>\n",
              "      <th>0</th>\n",
              "      <td>5</td>\n",
              "      <td>Ilha de Socó</td>\n",
              "      <td>22.00</td>\n",
              "      <td>Chocolate em mousse fria e semi congelada com ...</td>\n",
              "      <td>4</td>\n",
              "      <td>2</td>\n",
              "    </tr>\n",
              "    <tr>\n",
              "      <th>1</th>\n",
              "      <td>8</td>\n",
              "      <td>Stella Artois</td>\n",
              "      <td>5.99</td>\n",
              "      <td>Stella Artois Long Neck</td>\n",
              "      <td>8</td>\n",
              "      <td>4</td>\n",
              "    </tr>\n",
              "    <tr>\n",
              "      <th>2</th>\n",
              "      <td>9</td>\n",
              "      <td>Pepsi</td>\n",
              "      <td>6.90</td>\n",
              "      <td>Refrigerante</td>\n",
              "      <td>17</td>\n",
              "      <td>5</td>\n",
              "    </tr>\n",
              "    <tr>\n",
              "      <th>3</th>\n",
              "      <td>11</td>\n",
              "      <td>Beira mar</td>\n",
              "      <td>17.99</td>\n",
              "      <td>Ostras frescas de Santa Catarina</td>\n",
              "      <td>15</td>\n",
              "      <td>20</td>\n",
              "    </tr>\n",
              "    <tr>\n",
              "      <th>4</th>\n",
              "      <td>12</td>\n",
              "      <td>Caiaque</td>\n",
              "      <td>36.00</td>\n",
              "      <td>Massa ao molho de queijo e iscas de filé migno...</td>\n",
              "      <td>19</td>\n",
              "      <td>2</td>\n",
              "    </tr>\n",
              "    <tr>\n",
              "      <th>5</th>\n",
              "      <td>13</td>\n",
              "      <td>Arrais</td>\n",
              "      <td>27.00</td>\n",
              "      <td>Crepioca de queijo minas, salsa de tomates, ma...</td>\n",
              "      <td>7</td>\n",
              "      <td>2</td>\n",
              "    </tr>\n",
              "    <tr>\n",
              "      <th>6</th>\n",
              "      <td>14</td>\n",
              "      <td>Brisa</td>\n",
              "      <td>26.00</td>\n",
              "      <td>Ciabatta, cogumelos shitake e paris e legume t...</td>\n",
              "      <td>6</td>\n",
              "      <td>2</td>\n",
              "    </tr>\n",
              "    <tr>\n",
              "      <th>7</th>\n",
              "      <td>15</td>\n",
              "      <td>Cachaça</td>\n",
              "      <td>11.90</td>\n",
              "      <td>Princesa Isabel</td>\n",
              "      <td>16</td>\n",
              "      <td>18</td>\n",
              "    </tr>\n",
              "    <tr>\n",
              "      <th>8</th>\n",
              "      <td>16</td>\n",
              "      <td>Appia</td>\n",
              "      <td>25.90</td>\n",
              "      <td>Colorado</td>\n",
              "      <td>8</td>\n",
              "      <td>14</td>\n",
              "    </tr>\n",
              "    <tr>\n",
              "      <th>9</th>\n",
              "      <td>21</td>\n",
              "      <td>Semblante</td>\n",
              "      <td>31.99</td>\n",
              "      <td>Uva: Carbenet Sauvignon. País: Chile</td>\n",
              "      <td>12</td>\n",
              "      <td>10</td>\n",
              "    </tr>\n",
              "    <tr>\n",
              "      <th>10</th>\n",
              "      <td>26</td>\n",
              "      <td>Suco</td>\n",
              "      <td>23.99</td>\n",
              "      <td>Acerola, Laranja, Maracujá ou Limonada</td>\n",
              "      <td>18</td>\n",
              "      <td>8</td>\n",
              "    </tr>\n",
              "    <tr>\n",
              "      <th>11</th>\n",
              "      <td>27</td>\n",
              "      <td>Suco</td>\n",
              "      <td>8.99</td>\n",
              "      <td>Acerola com Laranja, Frutas vermelhas ou Abaca...</td>\n",
              "      <td>18</td>\n",
              "      <td>9</td>\n",
              "    </tr>\n",
              "    <tr>\n",
              "      <th>12</th>\n",
              "      <td>29</td>\n",
              "      <td>Red Bull</td>\n",
              "      <td>12.90</td>\n",
              "      <td>Tropical</td>\n",
              "      <td>14</td>\n",
              "      <td>5</td>\n",
              "    </tr>\n",
              "    <tr>\n",
              "      <th>13</th>\n",
              "      <td>30</td>\n",
              "      <td>Alto mar</td>\n",
              "      <td>27.90</td>\n",
              "      <td>Manjericão orgânico, Xarope de maçã verde, Mix...</td>\n",
              "      <td>14</td>\n",
              "      <td>12</td>\n",
              "    </tr>\n",
              "    <tr>\n",
              "      <th>14</th>\n",
              "      <td>31</td>\n",
              "      <td>Capitão Sharky</td>\n",
              "      <td>45.90</td>\n",
              "      <td>Abacaxi, Xarope de frutas vermelhas, mix de cí...</td>\n",
              "      <td>14</td>\n",
              "      <td>13</td>\n",
              "    </tr>\n",
              "    <tr>\n",
              "      <th>15</th>\n",
              "      <td>32</td>\n",
              "      <td>Mojito</td>\n",
              "      <td>31.90</td>\n",
              "      <td>Rum Havana Club, Mix de cítricos, hortelã, xar...</td>\n",
              "      <td>2</td>\n",
              "      <td>15</td>\n",
              "    </tr>\n",
              "    <tr>\n",
              "      <th>16</th>\n",
              "      <td>33</td>\n",
              "      <td>Coca cola</td>\n",
              "      <td>9.90</td>\n",
              "      <td>Original</td>\n",
              "      <td>17</td>\n",
              "      <td>16</td>\n",
              "    </tr>\n",
              "    <tr>\n",
              "      <th>17</th>\n",
              "      <td>38</td>\n",
              "      <td>Campari</td>\n",
              "      <td>9.90</td>\n",
              "      <td>Bitter</td>\n",
              "      <td>16</td>\n",
              "      <td>18</td>\n",
              "    </tr>\n",
              "    <tr>\n",
              "      <th>18</th>\n",
              "      <td>39</td>\n",
              "      <td>Jack Daniels</td>\n",
              "      <td>29.90</td>\n",
              "      <td>com água de coco separado</td>\n",
              "      <td>9</td>\n",
              "      <td>18</td>\n",
              "    </tr>\n",
              "    <tr>\n",
              "      <th>19</th>\n",
              "      <td>40</td>\n",
              "      <td>Colorado</td>\n",
              "      <td>25.90</td>\n",
              "      <td>Indica</td>\n",
              "      <td>8</td>\n",
              "      <td>14</td>\n",
              "    </tr>\n",
              "    <tr>\n",
              "      <th>20</th>\n",
              "      <td>41</td>\n",
              "      <td>Água</td>\n",
              "      <td>4.90</td>\n",
              "      <td>sem Gás</td>\n",
              "      <td>20</td>\n",
              "      <td>12</td>\n",
              "    </tr>\n",
              "    <tr>\n",
              "      <th>21</th>\n",
              "      <td>43</td>\n",
              "      <td>Ilha do Frade</td>\n",
              "      <td>33.90</td>\n",
              "      <td>Brownie de limão, sorbet de frutas vermelhas, ...</td>\n",
              "      <td>4</td>\n",
              "      <td>1</td>\n",
              "    </tr>\n",
              "    <tr>\n",
              "      <th>22</th>\n",
              "      <td>44</td>\n",
              "      <td>Maresia</td>\n",
              "      <td>31.90</td>\n",
              "      <td>Pão rústico, rosbife marinado na mostarda e mi...</td>\n",
              "      <td>6</td>\n",
              "      <td>2</td>\n",
              "    </tr>\n",
              "    <tr>\n",
              "      <th>23</th>\n",
              "      <td>45</td>\n",
              "      <td>Marujo</td>\n",
              "      <td>22.90</td>\n",
              "      <td>Crepioca de peito de peru defumado, queijo bra...</td>\n",
              "      <td>7</td>\n",
              "      <td>2</td>\n",
              "    </tr>\n",
              "    <tr>\n",
              "      <th>24</th>\n",
              "      <td>46</td>\n",
              "      <td>Marinheiro</td>\n",
              "      <td>24.99</td>\n",
              "      <td>Crepioca de cogumelos salteados no azeito de t...</td>\n",
              "      <td>7</td>\n",
              "      <td>2</td>\n",
              "    </tr>\n",
              "    <tr>\n",
              "      <th>25</th>\n",
              "      <td>47</td>\n",
              "      <td>Pituã Island</td>\n",
              "      <td>27.90</td>\n",
              "      <td>Absinto, xarope de pêssego, mix de cítricos, x...</td>\n",
              "      <td>2</td>\n",
              "      <td>13</td>\n",
              "    </tr>\n",
              "    <tr>\n",
              "      <th>26</th>\n",
              "      <td>48</td>\n",
              "      <td>Brasil Brasil</td>\n",
              "      <td>24.90</td>\n",
              "      <td>Cachaça de Umburana, manjericão orgânico, mix ...</td>\n",
              "      <td>2</td>\n",
              "      <td>16</td>\n",
              "    </tr>\n",
              "    <tr>\n",
              "      <th>27</th>\n",
              "      <td>49</td>\n",
              "      <td>Corona</td>\n",
              "      <td>11.90</td>\n",
              "      <td>acompanhado de copo com limão</td>\n",
              "      <td>8</td>\n",
              "      <td>4</td>\n",
              "    </tr>\n",
              "    <tr>\n",
              "      <th>28</th>\n",
              "      <td>50</td>\n",
              "      <td>Brahma</td>\n",
              "      <td>6.90</td>\n",
              "      <td>0.0% álcool</td>\n",
              "      <td>8</td>\n",
              "      <td>4</td>\n",
              "    </tr>\n",
              "    <tr>\n",
              "      <th>29</th>\n",
              "      <td>28</td>\n",
              "      <td>Água</td>\n",
              "      <td>6.90</td>\n",
              "      <td>com Gás</td>\n",
              "      <td>20</td>\n",
              "      <td>12</td>\n",
              "    </tr>\n",
              "    <tr>\n",
              "      <th>30</th>\n",
              "      <td>6</td>\n",
              "      <td>Bons ventos te trazem</td>\n",
              "      <td>25.90</td>\n",
              "      <td>Gin, redução de flor de sabugueiro, maracujá, ...</td>\n",
              "      <td>2</td>\n",
              "      <td>12</td>\n",
              "    </tr>\n",
              "    <tr>\n",
              "      <th>31</th>\n",
              "      <td>7</td>\n",
              "      <td>Barlavento</td>\n",
              "      <td>25.90</td>\n",
              "      <td>Gin, xarope de morango, maracujá, suco de lara...</td>\n",
              "      <td>2</td>\n",
              "      <td>12</td>\n",
              "    </tr>\n",
              "    <tr>\n",
              "      <th>32</th>\n",
              "      <td>10</td>\n",
              "      <td>Cidade Sol</td>\n",
              "      <td>29.90</td>\n",
              "      <td>Whiskey Jack Daniels, maracujá, mix de cítrico...</td>\n",
              "      <td>2</td>\n",
              "      <td>12</td>\n",
              "    </tr>\n",
              "  </tbody>\n",
              "</table>\n",
              "</div>"
            ],
            "text/plain": [
              "    id_itemcardapio              nome_item  ...  fk_id_categoria fk_id_tamanho\n",
              "0                 5           Ilha de Socó  ...                4             2\n",
              "1                 8          Stella Artois  ...                8             4\n",
              "2                 9                  Pepsi  ...               17             5\n",
              "3                11              Beira mar  ...               15            20\n",
              "4                12                Caiaque  ...               19             2\n",
              "5                13                 Arrais  ...                7             2\n",
              "6                14                  Brisa  ...                6             2\n",
              "7                15                Cachaça  ...               16            18\n",
              "8                16                  Appia  ...                8            14\n",
              "9                21              Semblante  ...               12            10\n",
              "10               26                   Suco  ...               18             8\n",
              "11               27                   Suco  ...               18             9\n",
              "12               29               Red Bull  ...               14             5\n",
              "13               30               Alto mar  ...               14            12\n",
              "14               31         Capitão Sharky  ...               14            13\n",
              "15               32                 Mojito  ...                2            15\n",
              "16               33              Coca cola  ...               17            16\n",
              "17               38                Campari  ...               16            18\n",
              "18               39           Jack Daniels  ...                9            18\n",
              "19               40               Colorado  ...                8            14\n",
              "20               41                   Água  ...               20            12\n",
              "21               43          Ilha do Frade  ...                4             1\n",
              "22               44                Maresia  ...                6             2\n",
              "23               45                 Marujo  ...                7             2\n",
              "24               46             Marinheiro  ...                7             2\n",
              "25               47           Pituã Island  ...                2            13\n",
              "26               48          Brasil Brasil  ...                2            16\n",
              "27               49                 Corona  ...                8             4\n",
              "28               50                 Brahma  ...                8             4\n",
              "29               28                   Água  ...               20            12\n",
              "30                6  Bons ventos te trazem  ...                2            12\n",
              "31                7             Barlavento  ...                2            12\n",
              "32               10             Cidade Sol  ...                2            12\n",
              "\n",
              "[33 rows x 6 columns]"
            ]
          },
          "metadata": {
            "tags": []
          },
          "execution_count": 17
        }
      ]
    }
  ]
}